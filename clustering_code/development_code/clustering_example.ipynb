{
 "cells": [
  {
   "cell_type": "code",
   "execution_count": 1,
   "metadata": {
    "collapsed": false
   },
   "outputs": [
    {
     "name": "stderr",
     "output_type": "stream",
     "text": [
      "lex: tokens   = ('Q', 'PHI', 'CHOOSE', 'SQRT', 'PERMUTE', 'VARIABLE', 'NUMBER', 'PLUS', 'MINUS', 'TIMES', 'DIVIDE', 'LPAREN', 'RPAREN', 'FACTORIAL', 'LSET', 'RSET', 'COMMA', 'EXP', 'LBRACKET', 'RBRACKET', 'COMPUTE')\n",
      "lex: literals = ''\n",
      "lex: states   = {'INITIAL': 'inclusive'}\n",
      "lex: Adding rule t_NUMBER -> '\\d*\\.?\\d+(E(\\+|\\-)?\\d+)?' (state 'INITIAL')\n",
      "lex: Adding rule t_newline -> '\\n+' (state 'INITIAL')\n",
      "lex: Adding rule t_VARIABLE -> '(?<![A-Za-z])[ABD-OR-Za-z](?![A-Za-z])' (state 'INITIAL')\n",
      "lex: Adding rule t_EXP -> '\\^|(\\*\\*)' (state 'INITIAL')\n",
      "lex: Adding rule t_COMPUTE -> 'Compute' (state 'INITIAL')\n",
      "lex: Adding rule t_SQRT -> 'sqrt' (state 'INITIAL')\n",
      "lex: Adding rule t_PHI -> 'Phi' (state 'INITIAL')\n",
      "lex: Adding rule t_RSET -> '\\}' (state 'INITIAL')\n",
      "lex: Adding rule t_RBRACKET -> '\\]' (state 'INITIAL')\n",
      "lex: Adding rule t_LBRACKET -> '\\[' (state 'INITIAL')\n",
      "lex: Adding rule t_PLUS -> '\\+' (state 'INITIAL')\n",
      "lex: Adding rule t_COMMA -> '\\,' (state 'INITIAL')\n",
      "lex: Adding rule t_LPAREN -> '\\(' (state 'INITIAL')\n",
      "lex: Adding rule t_LSET -> '\\{' (state 'INITIAL')\n",
      "lex: Adding rule t_TIMES -> '\\*' (state 'INITIAL')\n",
      "lex: Adding rule t_RPAREN -> '\\)' (state 'INITIAL')\n",
      "lex: Adding rule t_FACTORIAL -> '!' (state 'INITIAL')\n",
      "lex: Adding rule t_Q -> 'Q' (state 'INITIAL')\n",
      "lex: Adding rule t_DIVIDE -> '/' (state 'INITIAL')\n",
      "lex: Adding rule t_CHOOSE -> 'C' (state 'INITIAL')\n",
      "lex: Adding rule t_PERMUTE -> 'P' (state 'INITIAL')\n",
      "lex: Adding rule t_MINUS -> '-' (state 'INITIAL')\n",
      "lex: ==== MASTER REGEXS FOLLOW ====\n",
      "lex: state 'INITIAL' : regex[0] = '(?P<t_NUMBER>\\d*\\.?\\d+(E(\\+|\\-)?\\d+)?)|(?P<t_newline>\\n+)|(?P<t_VARIABLE>(?<![A-Za-z])[ABD-OR-Za-z](?![A-Za-z]))|(?P<t_EXP>\\^|(\\*\\*))|(?P<t_COMPUTE>Compute)|(?P<t_SQRT>sqrt)|(?P<t_PHI>Phi)|(?P<t_RSET>\\})|(?P<t_RBRACKET>\\])|(?P<t_LBRACKET>\\[)|(?P<t_PLUS>\\+)|(?P<t_COMMA>\\,)|(?P<t_LPAREN>\\()|(?P<t_LSET>\\{)|(?P<t_TIMES>\\*)|(?P<t_RPAREN>\\))|(?P<t_FACTORIAL>!)|(?P<t_Q>Q)|(?P<t_DIVIDE>/)|(?P<t_CHOOSE>C)|(?P<t_PERMUTE>P)|(?P<t_MINUS>-)'\n",
      "lex: tokens   = ('Q', 'PHI', 'CHOOSE', 'SQRT', 'PERMUTE', 'VARIABLE', 'NUMBER', 'PLUS', 'MINUS', 'TIMES', 'DIVIDE', 'LPAREN', 'RPAREN', 'FACTORIAL', 'LSET', 'RSET', 'COMMA', 'EXP', 'LBRACKET', 'RBRACKET', 'COMPUTE')\n",
      "lex: literals = ''\n",
      "lex: states   = {'INITIAL': 'inclusive'}\n",
      "lex: Adding rule t_NUMBER -> '\\d*\\.?\\d+(E(\\+|\\-)?\\d+)?' (state 'INITIAL')\n",
      "lex: Adding rule t_newline -> '\\n+' (state 'INITIAL')\n",
      "lex: Adding rule t_VARIABLE -> '(?<![A-Za-z])[ABD-OR-Za-z](?![A-Za-z])' (state 'INITIAL')\n",
      "lex: Adding rule t_EXP -> '\\^|(\\*\\*)' (state 'INITIAL')\n",
      "lex: Adding rule t_COMPUTE -> 'Compute' (state 'INITIAL')\n",
      "lex: Adding rule t_SQRT -> 'sqrt' (state 'INITIAL')\n",
      "lex: Adding rule t_PHI -> 'Phi' (state 'INITIAL')\n",
      "lex: Adding rule t_RSET -> '\\}' (state 'INITIAL')\n",
      "lex: Adding rule t_RBRACKET -> '\\]' (state 'INITIAL')\n",
      "lex: Adding rule t_LBRACKET -> '\\[' (state 'INITIAL')\n",
      "lex: Adding rule t_PLUS -> '\\+' (state 'INITIAL')\n",
      "lex: Adding rule t_COMMA -> '\\,' (state 'INITIAL')\n",
      "lex: Adding rule t_LPAREN -> '\\(' (state 'INITIAL')\n",
      "lex: Adding rule t_LSET -> '\\{' (state 'INITIAL')\n",
      "lex: Adding rule t_TIMES -> '\\*' (state 'INITIAL')\n",
      "lex: Adding rule t_RPAREN -> '\\)' (state 'INITIAL')\n",
      "lex: Adding rule t_FACTORIAL -> '!' (state 'INITIAL')\n",
      "lex: Adding rule t_Q -> 'Q' (state 'INITIAL')\n",
      "lex: Adding rule t_DIVIDE -> '/' (state 'INITIAL')\n",
      "lex: Adding rule t_CHOOSE -> 'C' (state 'INITIAL')\n",
      "lex: Adding rule t_PERMUTE -> 'P' (state 'INITIAL')\n",
      "lex: Adding rule t_MINUS -> '-' (state 'INITIAL')\n",
      "lex: ==== MASTER REGEXS FOLLOW ====\n",
      "lex: state 'INITIAL' : regex[0] = '(?P<t_NUMBER>\\d*\\.?\\d+(E(\\+|\\-)?\\d+)?)|(?P<t_newline>\\n+)|(?P<t_VARIABLE>(?<![A-Za-z])[ABD-OR-Za-z](?![A-Za-z]))|(?P<t_EXP>\\^|(\\*\\*))|(?P<t_COMPUTE>Compute)|(?P<t_SQRT>sqrt)|(?P<t_PHI>Phi)|(?P<t_RSET>\\})|(?P<t_RBRACKET>\\])|(?P<t_LBRACKET>\\[)|(?P<t_PLUS>\\+)|(?P<t_COMMA>\\,)|(?P<t_LPAREN>\\()|(?P<t_LSET>\\{)|(?P<t_TIMES>\\*)|(?P<t_RPAREN>\\))|(?P<t_FACTORIAL>!)|(?P<t_Q>Q)|(?P<t_DIVIDE>/)|(?P<t_CHOOSE>C)|(?P<t_PERMUTE>P)|(?P<t_MINUS>-)'\n"
     ]
    }
   ],
   "source": [
    "from parsetrees.expr_parser import webwork_parser\n",
    "from parsetrees.expr_parser import Eval_parsed\n",
    "reload(webwork_parser)\n",
    "reload(Eval_parsed)\n",
    "import pickle\n",
    "from collections import deque\n",
    "from collections import defaultdict\n",
    "import cluster_functions\n",
    "reload(cluster_functions)\n",
    "from itertools import combinations\n",
    "from datetime import datetime as dt"
   ]
  },
  {
   "cell_type": "code",
   "execution_count": 3,
   "metadata": {
    "collapsed": false
   },
   "outputs": [
    {
     "data": {
      "text/plain": [
       "([['+', [0, 9]],\n",
       "  [['*', [0, 7]],\n",
       "   [['C', [0, 5]], [['X', [2, 2]], 3], [['X', [4, 4]], 5]],\n",
       "   [['X', [7, 7]], 9]],\n",
       "  [['X', [9, 9]], 8]],\n",
       " {})"
      ]
     },
     "execution_count": 3,
     "metadata": {},
     "output_type": "execute_result"
    }
   ],
   "source": [
    "#### Example of flatten ####\n",
    "parse_tree = webwork_parser.parse_webwork('C(3,5)*9+8')\n",
    "parse_tree"
   ]
  },
  {
   "cell_type": "code",
   "execution_count": 4,
   "metadata": {
    "collapsed": false
   },
   "outputs": [
    {
     "name": "stdout",
     "output_type": "stream",
     "text": [
      "get_number got (3.0,)\n",
      "get_number got ['X', 3.0, [2, 2], 'R.0.0.0']\n",
      "get_number got (5.0,)\n",
      "get_number got ['X', 5.0, [4, 4], 'R.0.0.1']\n",
      "Eval_parsed Exception: reduce() of empty sequence with no initial value\n",
      "Traceback (most recent call last):\n",
      "  File \"parsetrees/expr_parser/Eval_parsed.py\", line 140, in eval_parsed\n",
      "    ans= ncr(int(v1), int(v2))\n",
      "  File \"parsetrees/expr_parser/Eval_parsed.py\", line 35, in ncr\n",
      "    numer = reduce(op.mul, xrange(n, n-r, -1))\n",
      "TypeError: reduce() of empty sequence with no initial value\n",
      "get_number got None\n",
      "Eval_parsed Exception: object of type 'NoneType' has no len()\n",
      "Traceback (most recent call last):\n",
      "  File \"parsetrees/expr_parser/Eval_parsed.py\", line 129, in eval_parsed\n",
      "    v1=get_number(ev1)\n",
      "  File \"parsetrees/expr_parser/Eval_parsed.py\", line 75, in get_number\n",
      "    if len(ev)==4 and ev[0]=='X':\n",
      "TypeError: object of type 'NoneType' has no len()\n",
      "get_number got None\n",
      "Eval_parsed Exception: object of type 'NoneType' has no len()\n",
      "Traceback (most recent call last):\n",
      "  File \"parsetrees/expr_parser/Eval_parsed.py\", line 129, in eval_parsed\n",
      "    v1=get_number(ev1)\n",
      "  File \"parsetrees/expr_parser/Eval_parsed.py\", line 75, in get_number\n",
      "    if len(ev)==4 and ev[0]=='X':\n",
      "TypeError: object of type 'NoneType' has no len()\n"
     ]
    }
   ],
   "source": [
    "etree = Eval_parsed.eval_parsed(parse_tree[0])\n",
    "etree"
   ]
  },
  {
   "cell_type": "code",
   "execution_count": 64,
   "metadata": {
    "collapsed": false
   },
   "outputs": [
    {
     "name": "stdout",
     "output_type": "stream",
     "text": [
      "get_number got (3.0,)\n",
      "get_number got ['X', 3.0, [0, 0], 'R.0.0']\n",
      "get_number got (5.0,)\n",
      "get_number got ['X', 5.0, [2, 2], 'R.0.1']\n",
      "get_number got [['*', 15.0, [0, 2], 'R.0'], ['X', 3.0, [0, 0], 'R.0.0'], ['X', 5.0, [2, 2], 'R.0.1']]\n",
      "get_number got (7.0,)\n",
      "get_number got ['X', 7.0, [4, 4], 'R.1']\n",
      "get_number got (3.0,)\n",
      "get_number got ['X', 3.0, [2, 2], 'R.0.0.0']\n",
      "get_number got (1.0,)\n",
      "get_number got ['X', 1.0, [4, 4], 'R.0.0.1']\n",
      "get_number got [['C', 3, [0, 5], 'R.0.0'], ['X', 3.0, [2, 2], 'R.0.0.0'], ['X', 1.0, [4, 4], 'R.0.0.1']]\n",
      "get_number got (2.0,)\n",
      "get_number got ['X', 2.0, [8, 8], 'R.0.1.0']\n",
      "get_number got (1.0,)\n",
      "get_number got ['X', 1.0, [10, 10], 'R.0.1.1']\n",
      "get_number got [['C', 2, [6, 11], 'R.0.1'], ['X', 2.0, [8, 8], 'R.0.1.0'], ['X', 1.0, [10, 10], 'R.0.1.1']]\n",
      "get_number got [['*', 6.0, [0, 11], 'R.0'], [['C', 3, [0, 5], 'R.0.0'], ['X', 3.0, [2, 2], 'R.0.0.0'], ['X', 1.0, [4, 4], 'R.0.0.1']], [['C', 2, [6, 11], 'R.0.1'], ['X', 2.0, [8, 8], 'R.0.1.0'], ['X', 1.0, [10, 10], 'R.0.1.1']]]\n",
      "get_number got (7.0,)\n",
      "get_number got ['X', 7.0, [13, 13], 'R.1']\n",
      "[('R.0.0', 3.0, '3', 'C(3,1)'), ('R.1', 7.0, '7', '7')]\n",
      "[1, 1]\n",
      "[['C', [0, 5]], [['X', [2, 2]], 3], [['X', [4, 4]], 1]]\n",
      "(C (X 3) (X 1))\n"
     ]
    }
   ],
   "source": [
    "#### Example of find_Hits\n",
    "parse_tree = webwork_parser.parse_webwork('3*5+7')\n",
    "etree_a = Eval_parsed.eval_parsed(parse_tree[0])\n",
    "parse_tree_b = webwork_parser.parse_webwork('C(3,1)C(2,1)+7')\n",
    "etree_b = Eval_parsed.eval_parsed(parse_tree_b[0])\n",
    "p = {'attempt':'C(3,1)C(2,1)+7', 'answer':'3*5+7', 'att_tree':etree_b, 'ans_tree': etree_a}\n",
    "print cluster_functions.find_matches(p)\n",
    "print [int(i)+1 for i in cluster_functions.find_matches(p)[0][0].split('.')[1:]]\n",
    "print parse_tree_b[0][1][1]\n",
    "print tree_to_s_exp(parse_tree_b[0][1][1])"
   ]
  },
  {
   "cell_type": "code",
   "execution_count": 84,
   "metadata": {
    "collapsed": false
   },
   "outputs": [
    {
     "name": "stdout",
     "output_type": "stream",
     "text": [
      "get_number got (26.0,)\n",
      "get_number got ['X', 26.0, [0, 1], 'R.0.0']\n",
      "get_number got (3.0,)\n",
      "get_number got ['X', 3.0, [3, 3], 'R.0.1']\n",
      "get_number got [['^', 17576.0, [0, 3], 'R.0'], ['X', 26.0, [0, 1], 'R.0.0'], ['X', 3.0, [3, 3], 'R.0.1']]\n",
      "get_number got (25.0,)\n",
      "get_number got ['X', 25.0, [5, 6], 'R.1.0']\n",
      "get_number got (3.0,)\n",
      "get_number got ['X', 3.0, [8, 8], 'R.1.1']\n",
      "get_number got [['^', 15625.0, [5, 8], 'R.1'], ['X', 25.0, [5, 6], 'R.1.0'], ['X', 3.0, [8, 8], 'R.1.1']]\n",
      "get_number got (24.0,)\n",
      "get_number got ['X', 24.0, [0, 1], 'R.0']\n",
      "get_number got (3.0,)\n",
      "get_number got ['X', 3.0, [3, 3], 'R.1']\n"
     ]
    },
    {
     "ename": "KeyError",
     "evalue": "'attempt'",
     "output_type": "error",
     "traceback": [
      "\u001b[0;31m---------------------------------------------------------------------------\u001b[0m",
      "\u001b[0;31mKeyError\u001b[0m                                  Traceback (most recent call last)",
      "\u001b[0;32m<ipython-input-84-d548e3767ab9>\u001b[0m in \u001b[0;36m<module>\u001b[0;34m()\u001b[0m\n\u001b[1;32m      6\u001b[0m         \u001b[0;32mreturn\u001b[0m \u001b[0mTrue\u001b[0m\u001b[0;34m\u001b[0m\u001b[0m\n\u001b[1;32m      7\u001b[0m     \u001b[0;32mreturn\u001b[0m \u001b[0mFalse\u001b[0m\u001b[0;34m\u001b[0m\u001b[0m\n\u001b[0;32m----> 8\u001b[0;31m \u001b[0;32mprint\u001b[0m \u001b[0mevaluate\u001b[0m\u001b[0;34m(\u001b[0m\u001b[0;34m'26^3-25^3'\u001b[0m\u001b[0;34m,\u001b[0m \u001b[0;34m'24^3'\u001b[0m\u001b[0;34m)\u001b[0m\u001b[0;34m\u001b[0m\u001b[0m\n\u001b[0m\u001b[1;32m      9\u001b[0m \u001b[0;31m#cluster_functions.show_matching_group_w_variables('3*2+n', 'C(3,1)C(2,1)+n', {'n':[1,2,3,4,5]})\u001b[0m\u001b[0;34m\u001b[0m\u001b[0;34m\u001b[0m\u001b[0m\n",
      "\u001b[0;32m<ipython-input-84-d548e3767ab9>\u001b[0m in \u001b[0;36mevaluate\u001b[0;34m(ans, att)\u001b[0m\n\u001b[1;32m      2\u001b[0m \u001b[0;32mdef\u001b[0m \u001b[0mevaluate\u001b[0m\u001b[0;34m(\u001b[0m\u001b[0mans\u001b[0m\u001b[0;34m,\u001b[0m \u001b[0matt\u001b[0m\u001b[0;34m)\u001b[0m\u001b[0;34m:\u001b[0m\u001b[0;34m\u001b[0m\u001b[0m\n\u001b[1;32m      3\u001b[0m     \u001b[0mp\u001b[0m \u001b[0;34m=\u001b[0m \u001b[0mcluster_functions\u001b[0m\u001b[0;34m.\u001b[0m\u001b[0mmake_params\u001b[0m\u001b[0;34m(\u001b[0m\u001b[0mans\u001b[0m\u001b[0;34m,\u001b[0m \u001b[0matt\u001b[0m\u001b[0;34m)\u001b[0m\u001b[0;34m\u001b[0m\u001b[0m\n\u001b[0;32m----> 4\u001b[0;31m     \u001b[0mfinal_pairs\u001b[0m \u001b[0;34m=\u001b[0m \u001b[0mcluster_functions\u001b[0m\u001b[0;34m.\u001b[0m\u001b[0mfind_matches\u001b[0m\u001b[0;34m(\u001b[0m\u001b[0;34m{\u001b[0m\u001b[0;34m}\u001b[0m\u001b[0;34m)\u001b[0m\u001b[0;34m\u001b[0m\u001b[0m\n\u001b[0m\u001b[1;32m      5\u001b[0m     \u001b[0;32mif\u001b[0m \u001b[0mlen\u001b[0m\u001b[0;34m(\u001b[0m\u001b[0mfinal_pairs\u001b[0m\u001b[0;34m)\u001b[0m \u001b[0;34m==\u001b[0m \u001b[0;36m1\u001b[0m \u001b[0;32mand\u001b[0m \u001b[0mfinal_pairs\u001b[0m\u001b[0;34m[\u001b[0m\u001b[0;36m0\u001b[0m\u001b[0;34m]\u001b[0m\u001b[0;34m[\u001b[0m\u001b[0;36m0\u001b[0m\u001b[0;34m]\u001b[0m \u001b[0;34m==\u001b[0m \u001b[0;34m'R'\u001b[0m\u001b[0;34m:\u001b[0m\u001b[0;34m\u001b[0m\u001b[0m\n\u001b[1;32m      6\u001b[0m         \u001b[0;32mreturn\u001b[0m \u001b[0mTrue\u001b[0m\u001b[0;34m\u001b[0m\u001b[0m\n",
      "\u001b[0;32m/Users/janetzhai/Desktop/CSE103/Attempt_Analysis/clustering_code/cluster_functions.pyc\u001b[0m in \u001b[0;36mfind_matches\u001b[0;34m(params)\u001b[0m\n\u001b[1;32m     95\u001b[0m \u001b[0;32mdef\u001b[0m \u001b[0mfind_matches\u001b[0m\u001b[0;34m(\u001b[0m\u001b[0mparams\u001b[0m\u001b[0;34m)\u001b[0m\u001b[0;34m:\u001b[0m\u001b[0;34m\u001b[0m\u001b[0m\n\u001b[1;32m     96\u001b[0m     \u001b[0;34m\"\"\" return a list of hits \"\"\"\u001b[0m\u001b[0;34m\u001b[0m\u001b[0m\n\u001b[0;32m---> 97\u001b[0;31m     \u001b[0mattempt\u001b[0m\u001b[0;34m=\u001b[0m\u001b[0mparams\u001b[0m\u001b[0;34m[\u001b[0m\u001b[0;34m'attempt'\u001b[0m\u001b[0;34m]\u001b[0m\u001b[0;34m\u001b[0m\u001b[0m\n\u001b[0m\u001b[1;32m     98\u001b[0m     \u001b[0mattempt_tree\u001b[0m\u001b[0;34m=\u001b[0m\u001b[0mparams\u001b[0m\u001b[0;34m[\u001b[0m\u001b[0;34m'att_tree'\u001b[0m\u001b[0;34m]\u001b[0m\u001b[0;34m\u001b[0m\u001b[0m\n\u001b[1;32m     99\u001b[0m     \u001b[0mattempt_list\u001b[0m\u001b[0;34m=\u001b[0m\u001b[0mflatten\u001b[0m\u001b[0;34m(\u001b[0m\u001b[0mattempt_tree\u001b[0m\u001b[0;34m,\u001b[0m\u001b[0;34m't'\u001b[0m\u001b[0;34m)\u001b[0m\u001b[0;34m\u001b[0m\u001b[0m\n",
      "\u001b[0;31mKeyError\u001b[0m: 'attempt'"
     ]
    }
   ],
   "source": [
    "reload(cluster_functions)\n",
    "def evaluate(ans, att):\n",
    "    p = cluster_functions.make_params(ans, att)\n",
    "    final_pairs = cluster_functions.find_matches()\n",
    "    if len(final_pairs) == 1 and final_pairs[0][0] == 'R':\n",
    "        return True\n",
    "    return False\n",
    "print evaluate('26^3-25^3', '24^3')\n",
    "#cluster_functions.show_matching_group_w_variables('3*2+n', 'C(3,1)C(2,1)+n', {'n':[1,2,3,4,5]})"
   ]
  },
  {
   "cell_type": "code",
   "execution_count": 49,
   "metadata": {
    "collapsed": false
   },
   "outputs": [
    {
     "name": "stdout",
     "output_type": "stream",
     "text": [
      "get_number got (3.0,)\n",
      "get_number got ['X', 3.0, [0, 0], 'R.0.0']\n",
      "get_number got (2.0,)\n",
      "get_number got ['X', 2.0, [2, 2], 'R.0.1']\n",
      "get_number got [['*', 6.0, [0, 2], 'R.0'], ['X', 3.0, [0, 0], 'R.0.0'], ['X', 2.0, [2, 2], 'R.0.1']]\n",
      "get_number got (4.0,)\n",
      "get_number got ['X', 4.0, [4, 4], 'R.1']\n",
      "get_number got (3.0,)\n",
      "get_number got ['X', 3.0, [2, 2], 'R.0.0']\n",
      "get_number got (1.0,)\n",
      "get_number got ['X', 1.0, [4, 4], 'R.0.1']\n",
      "get_number got [['C', 3, [0, 5], 'R.0'], ['X', 3.0, [2, 2], 'R.0.0'], ['X', 1.0, [4, 4], 'R.0.1']]\n",
      "get_number got (2.0,)\n",
      "get_number got ['X', 2.0, [8, 8], 'R.1.0']\n",
      "get_number got (1.0,)\n",
      "get_number got ['X', 1.0, [10, 10], 'R.1.1']\n",
      "get_number got [['C', 2, [6, 11], 'R.1'], ['X', 2.0, [8, 8], 'R.1.0'], ['X', 1.0, [10, 10], 'R.1.1']]\n"
     ]
    },
    {
     "data": {
      "text/plain": [
       "[[1.0, 't', ['X', 1.0, [4, 4], 'R.0.1']],\n",
       " [1.0, 't', ['X', 1.0, [10, 10], 'R.1.1']],\n",
       " [2,\n",
       "  't',\n",
       "  [['C', 2, [6, 11], 'R.1'],\n",
       "   ['X', 2.0, [8, 8], 'R.1.0'],\n",
       "   ['X', 1.0, [10, 10], 'R.1.1']]],\n",
       " [2.0, 't', ['X', 2.0, [8, 8], 'R.1.0']],\n",
       " [3,\n",
       "  't',\n",
       "  [['C', 3, [0, 5], 'R.0'],\n",
       "   ['X', 3.0, [2, 2], 'R.0.0'],\n",
       "   ['X', 1.0, [4, 4], 'R.0.1']]],\n",
       " [3.0, 't', ['X', 3.0, [2, 2], 'R.0.0']],\n",
       " [6.0,\n",
       "  't',\n",
       "  [['*', 6.0, [0, 11], 'R'],\n",
       "   [['C', 3, [0, 5], 'R.0'],\n",
       "    ['X', 3.0, [2, 2], 'R.0.0'],\n",
       "    ['X', 1.0, [4, 4], 'R.0.1']],\n",
       "   [['C', 2, [6, 11], 'R.1'],\n",
       "    ['X', 2.0, [8, 8], 'R.1.0'],\n",
       "    ['X', 1.0, [10, 10], 'R.1.1']]]]]"
      ]
     },
     "execution_count": 49,
     "metadata": {},
     "output_type": "execute_result"
    }
   ],
   "source": [
    "attempt=p['attempt']\n",
    "attempt_tree=p['att_tree']\n",
    "attempt_list=cluster_functions.flatten(attempt_tree,'t')\n",
    "attempt_list"
   ]
  },
  {
   "cell_type": "code",
   "execution_count": 4,
   "metadata": {
    "collapsed": false
   },
   "outputs": [
    {
     "data": {
      "text/plain": [
       "[[2.0, 'c', ['X', 2.0, [2, 2], 'R.1']],\n",
       " [2.0, 't', ['X', 2.0, [2, 2], 'R.1']],\n",
       " [3.0, 'c', ['X', 3.0, [0, 0], 'R.0']],\n",
       " [3.0, 't', ['X', 3.0, [0, 0], 'R.0']],\n",
       " [6.0,\n",
       "  'c',\n",
       "  [['*', 6.0, [0, 2], 'R'],\n",
       "   ['X', 3.0, [0, 0], 'R.0'],\n",
       "   ['X', 2.0, [2, 2], 'R.1']]],\n",
       " [6.0,\n",
       "  't',\n",
       "  [['*', 6.0, [0, 2], 'R'],\n",
       "   ['X', 3.0, [0, 0], 'R.0'],\n",
       "   ['X', 2.0, [2, 2], 'R.1']]]]"
      ]
     },
     "execution_count": 4,
     "metadata": {},
     "output_type": "execute_result"
    }
   ],
   "source": [
    "answer=p['answer']\n",
    "answer_tree=p['ans_tree']\n",
    "answer_list=cluster_functions.flatten(answer_tree,'c')\n",
    "\n",
    "combined_list=sorted(answer_list+attempt_list,key=lambda x: x[0])\n",
    "combined_list"
   ]
  },
  {
   "cell_type": "code",
   "execution_count": 5,
   "metadata": {
    "collapsed": false
   },
   "outputs": [
    {
     "data": {
      "text/plain": [
       "[([2.0, 'c', ['X', 2.0, [2, 2], 'R.1']],\n",
       "  [2.0, 't', ['X', 2.0, [2, 2], 'R.1']]),\n",
       " ([3.0, 'c', ['X', 3.0, [0, 0], 'R.0']],\n",
       "  [3.0, 't', ['X', 3.0, [0, 0], 'R.0']]),\n",
       " ([6.0,\n",
       "   'c',\n",
       "   [['*', 6.0, [0, 2], 'R'],\n",
       "    ['X', 3.0, [0, 0], 'R.0'],\n",
       "    ['X', 2.0, [2, 2], 'R.1']]],\n",
       "  [6.0,\n",
       "   't',\n",
       "   [['*', 6.0, [0, 2], 'R'],\n",
       "    ['X', 3.0, [0, 0], 'R.0'],\n",
       "    ['X', 2.0, [2, 2], 'R.1']]])]"
      ]
     },
     "execution_count": 5,
     "metadata": {},
     "output_type": "execute_result"
    }
   ],
   "source": [
    "Hits = cluster_functions.find_Hits(combined_list)\n",
    "Hits"
   ]
  },
  {
   "cell_type": "code",
   "execution_count": 6,
   "metadata": {
    "collapsed": false
   },
   "outputs": [
    {
     "data": {
      "text/plain": [
       "[('R', 6.0, '3*2', 'C(3')]"
      ]
     },
     "execution_count": 6,
     "metadata": {},
     "output_type": "execute_result"
    }
   ],
   "source": [
    "#### Example of find_dominating_hits ####\n",
    "cluster_functions.find_dominating_hits(Hits,answer,attempt)"
   ]
  },
  {
   "cell_type": "code",
   "execution_count": 112,
   "metadata": {
    "collapsed": false
   },
   "outputs": [
    {
     "name": "stdout",
     "output_type": "stream",
     "text": [
      "17828\n"
     ]
    },
    {
     "data": {
      "text/plain": [
       "defaultdict(str,\n",
       "            {(u'1', u'1'): u'B',\n",
       "             (u'2', u'1'): u'0.05/[sqrt(0.16/200)]',\n",
       "             (u'2', u'2'): u'Q(1.76777)',\n",
       "             (u'2',\n",
       "              u'3'): u'<pre style=\"text-align:left; padding-left:.2em\">yes</pre>',\n",
       "             (u'2',\n",
       "              u'4'): u'<pre style=\"text-align:left; padding-left:.2em\">no</pre>',\n",
       "             (u'5', u'1'): u'-0.02-2/[sqrt(25)]*2',\n",
       "             (u'5', u'2'): u'-0.03+2/[sqrt(25)]*2',\n",
       "             (u'5', u'3'): u'-1',\n",
       "             (u'5', u'4'): u'1',\n",
       "             (u'5', u'5'): u'1',\n",
       "             (u'6', u'1'): u'65',\n",
       "             (u'6',\n",
       "              u'2'): u'65*(0.5*[(30/65-0.5)/0.5]^2+0.25*[(20/65-0.25)/0.25]^2+0.25*[(15/65-0.25)/0.25]^2)',\n",
       "             (u'6',\n",
       "              u'3'): u'65*(1/3*[(30/65-1/3)/(1/3)]^2+1/3*[(20/65-1/3)/(1/3)]^2+1/3*[(15/65-1/3)/(1/3)]^2)',\n",
       "             (u'6',\n",
       "              u'4'): u'<pre style=\"text-align:left; padding-left:.2em\">no</pre>',\n",
       "             (u'6',\n",
       "              u'5'): u'<pre style=\"text-align:left; padding-left:.2em\">no</pre>',\n",
       "             (u'6',\n",
       "              u'6'): u'<pre style=\"text-align:left; padding-left:.2em\">Yes</pre>',\n",
       "             (u'6',\n",
       "              u'7'): u'<pre style=\"text-align:left; padding-left:.2em\">yes</pre>',\n",
       "             (u'6',\n",
       "              u'8'): u'<pre style=\"text-align:left; padding-left:.2em\">yes</pre>',\n",
       "             (u'7', u'1'): u'-1',\n",
       "             (u'7', u'2'): u'-1',\n",
       "             (u'7', u'3'): u'1',\n",
       "             (u'7', u'4'): u'1',\n",
       "             (u'7', u'5'): u'1',\n",
       "             (u'8', u'1'): u'1',\n",
       "             (u'8', u'2'): u'0',\n",
       "             (u'9', u'1'): u'1000*100/x',\n",
       "             (u'9', u'2'): u'100*1000/n',\n",
       "             (u'9', u'3'): u'100*(1000/n)*(1-1000/n)',\n",
       "             (u'9', u'4'): u'1-2*0.025',\n",
       "             (u'9', u'5'): u'1.96*sqrt(100*(1000/n)*(1-1000/n))'})"
      ]
     },
     "execution_count": 112,
     "metadata": {},
     "output_type": "execute_result"
    }
   ],
   "source": [
    "### Count the number attempts and answer for each part ###\n",
    "problem_count = defaultdict(int)\n",
    "problem_part_answer = defaultdict(str)\n",
    "for d in data:\n",
    "    if d['answer']:\n",
    "        problem_count[(d['problem_id'], d['part_id'])] += 1\n",
    "        problem_part_answer[(d['problem_id'], d['part_id'])] = d['answer']\n",
    "print len(data)\n",
    "problem_part_answer"
   ]
  },
  {
   "cell_type": "code",
   "execution_count": 12,
   "metadata": {
    "collapsed": false
   },
   "outputs": [
    {
     "name": "stderr",
     "output_type": "stream",
     "text": [
      "ERROR:parsetrees.expr_parser.webwork_parser:||(11!(11-6)|| Unbalanced grouping operator in expression: (11!(11-6)\n",
      "ERROR:parsetrees.expr_parser.webwork_parser:Unbalanced grouping operator in expression: (11!(11-6)\n",
      "Traceback (most recent call last):\n",
      "  File \"parsetrees/expr_parser/webwork_parser.py\", line 332, in parse_webwork\n",
      "    parsed = parser.parse(expr,tracking=True, lexer=lexer.lexer)\n",
      "  File \"/Library/Python/2.7/site-packages/ply/yacc.py\", line 263, in parse\n",
      "    return self.parseopt(input,lexer,debug,tracking,tokenfunc)\n",
      "  File \"/Library/Python/2.7/site-packages/ply/yacc.py\", line 710, in parseopt\n",
      "    p.callable(pslice)\n",
      "  File \"parsetrees/expr_parser/webwork_parser.py\", line 228, in p_expression_unbalanced_group\n",
      "    raise WebworkParseException('Unbalanced grouping operator in expression: ' + t.lexer.lexdata)\n",
      "WebworkParseException: Unbalanced grouping operator in expression: (11!(11-6)\n"
     ]
    },
    {
     "name": "stdout",
     "output_type": "stream",
     "text": [
      "Parse Error: Unbalanced Group Operator\n",
      "(11!(11-6)\n",
      "^\n"
     ]
    },
    {
     "data": {
      "text/plain": [
       "(None, {})"
      ]
     },
     "execution_count": 12,
     "metadata": {},
     "output_type": "execute_result"
    }
   ],
   "source": [
    "webwork_parser.parse_webwork('(11!(11-6)')"
   ]
  },
  {
   "cell_type": "code",
   "execution_count": 21,
   "metadata": {
    "collapsed": false
   },
   "outputs": [
    {
     "name": "stdout",
     "output_type": "stream",
     "text": [
      "eval_parsed, e=\" [['!', [0, 11]], [['*', [1, 9]], [['!', [1, 3]], [['X', [1, 2]], 11]], [['-', [5, 8]], [['X', [5, 6]], 11], [['X', [8, 8]], 6]]]] \"\n",
      "eval_parsed, e=\" [['*', [1, 9]], [['!', [1, 3]], [['X', [1, 2]], 11]], [['-', [5, 8]], [['X', [5, 6]], 11], [['X', [8, 8]], 6]]] \"\n",
      "eval_parsed, e=\" [['!', [1, 3]], [['X', [1, 2]], 11]] \"\n",
      "eval_parsed, e=\" [['X', [1, 2]], 11] \"\n",
      "eval_parsed, e=\" 11 \"\n",
      "11.0\n",
      "11.0\n",
      "eval_parsed, e=\" [['-', [5, 8]], [['X', [5, 6]], 11], [['X', [8, 8]], 6]] \"\n",
      "eval_parsed, e=\" [['X', [5, 6]], 11] \"\n",
      "eval_parsed, e=\" 11 \"\n",
      "11.0\n",
      "eval_parsed, e=\" [['X', [8, 8]], 6] \"\n",
      "eval_parsed, e=\" 6 \"\n",
      "6.0\n",
      "199584000.0\n",
      "Eval_parsed Exception: 199584000.0 is too large to apply factorial\n",
      "Traceback (most recent call last):\n",
      "  File \"parsetrees/expr_parser/Eval_parsed.py\", line 97, in eval_parsed\n",
      "    raise Exception('%s is too large to apply factorial'%v)\n",
      "Exception: 199584000.0 is too large to apply factorial\n"
     ]
    }
   ],
   "source": [
    "etree = Eval_parsed.eval_parsed(parse_tree[0])"
   ]
  },
  {
   "cell_type": "code",
   "execution_count": null,
   "metadata": {
    "collapsed": true
   },
   "outputs": [],
   "source": []
  }
 ],
 "metadata": {
  "kernelspec": {
   "display_name": "Python 2",
   "language": "python",
   "name": "python2"
  },
  "language_info": {
   "codemirror_mode": {
    "name": "ipython",
    "version": 2
   },
   "file_extension": ".py",
   "mimetype": "text/x-python",
   "name": "python",
   "nbconvert_exporter": "python",
   "pygments_lexer": "ipython2",
   "version": "2.7.9"
  }
 },
 "nbformat": 4,
 "nbformat_minor": 0
}
