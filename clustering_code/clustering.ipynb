{
 "cells": [
  {
   "cell_type": "code",
   "execution_count": 106,
   "metadata": {
    "collapsed": false
   },
   "outputs": [],
   "source": [
    "from parsetrees.expr_parser import webwork_parser\n",
    "from parsetrees.expr_parser import Eval_parsed\n",
    "import pickle\n",
    "from collections import deque\n",
    "from collections import defaultdict\n",
    "import pandas as pd"
   ]
  },
  {
   "cell_type": "code",
   "execution_count": 133,
   "metadata": {
    "collapsed": false
   },
   "outputs": [
    {
     "data": {
      "text/html": [
       "<div style=\"max-height:1000px;max-width:1500px;overflow:auto;\">\n",
       "<table border=\"1\" class=\"dataframe\">\n",
       "  <thead>\n",
       "    <tr style=\"text-align: right;\">\n",
       "      <th></th>\n",
       "      <th>answer</th>\n",
       "      <th>attempt</th>\n",
       "      <th>part_id</th>\n",
       "      <th>problem_id</th>\n",
       "      <th>score</th>\n",
       "      <th>set_id</th>\n",
       "      <th>timestamp</th>\n",
       "      <th>user_id</th>\n",
       "      <th>var</th>\n",
       "    </tr>\n",
       "  </thead>\n",
       "  <tbody>\n",
       "    <tr>\n",
       "      <th>0</th>\n",
       "      <td> {1,2,3,4,5,6}</td>\n",
       "      <td>            {}</td>\n",
       "      <td> 1</td>\n",
       "      <td> 1</td>\n",
       "      <td> 0</td>\n",
       "      <td> Week2</td>\n",
       "      <td> 2015-10-02 00:22:51</td>\n",
       "      <td> zig006</td>\n",
       "      <td> [($Ac, 0), ($rs, 0), ($A, 0), ($min, 3), ($max...</td>\n",
       "    </tr>\n",
       "    <tr>\n",
       "      <th>1</th>\n",
       "      <td>  {3,5,7,9,11}</td>\n",
       "      <td>  {3,5,7,9,11}</td>\n",
       "      <td> 2</td>\n",
       "      <td> 1</td>\n",
       "      <td> 1</td>\n",
       "      <td> Week2</td>\n",
       "      <td> 2015-10-02 00:22:51</td>\n",
       "      <td> zig006</td>\n",
       "      <td> [($Ac, 0), ($rs, 0), ($A, 0), ($min, 3), ($max...</td>\n",
       "    </tr>\n",
       "    <tr>\n",
       "      <th>2</th>\n",
       "      <td> {1,2,3,4,5,6}</td>\n",
       "      <td> {1,2,3,4,5,6}</td>\n",
       "      <td> 1</td>\n",
       "      <td> 1</td>\n",
       "      <td> 1</td>\n",
       "      <td> Week2</td>\n",
       "      <td> 2015-10-02 00:23:41</td>\n",
       "      <td> zig006</td>\n",
       "      <td> [($Ac, 0), ($rs, 0), ($A, 0), ($min, 3), ($max...</td>\n",
       "    </tr>\n",
       "    <tr>\n",
       "      <th>3</th>\n",
       "      <td>           {0}</td>\n",
       "      <td>           {0}</td>\n",
       "      <td> 1</td>\n",
       "      <td> 2</td>\n",
       "      <td> 1</td>\n",
       "      <td> Week2</td>\n",
       "      <td> 2015-10-02 00:24:52</td>\n",
       "      <td> zig006</td>\n",
       "      <td>                                                []</td>\n",
       "    </tr>\n",
       "    <tr>\n",
       "      <th>4</th>\n",
       "      <td>           {1}</td>\n",
       "      <td>       {0,2,3}</td>\n",
       "      <td> 2</td>\n",
       "      <td> 2</td>\n",
       "      <td> 0</td>\n",
       "      <td> Week2</td>\n",
       "      <td> 2015-10-02 00:24:52</td>\n",
       "      <td> zig006</td>\n",
       "      <td>                                                []</td>\n",
       "    </tr>\n",
       "  </tbody>\n",
       "</table>\n",
       "</div>"
      ],
      "text/plain": [
       "          answer        attempt part_id problem_id score set_id  \\\n",
       "0  {1,2,3,4,5,6}             {}       1          1     0  Week2   \n",
       "1   {3,5,7,9,11}   {3,5,7,9,11}       2          1     1  Week2   \n",
       "2  {1,2,3,4,5,6}  {1,2,3,4,5,6}       1          1     1  Week2   \n",
       "3            {0}            {0}       1          2     1  Week2   \n",
       "4            {1}        {0,2,3}       2          2     0  Week2   \n",
       "\n",
       "             timestamp user_id  \\\n",
       "0  2015-10-02 00:22:51  zig006   \n",
       "1  2015-10-02 00:22:51  zig006   \n",
       "2  2015-10-02 00:23:41  zig006   \n",
       "3  2015-10-02 00:24:52  zig006   \n",
       "4  2015-10-02 00:24:52  zig006   \n",
       "\n",
       "                                                 var  \n",
       "0  [($Ac, 0), ($rs, 0), ($A, 0), ($min, 3), ($max...  \n",
       "1  [($Ac, 0), ($rs, 0), ($A, 0), ($min, 3), ($max...  \n",
       "2  [($Ac, 0), ($rs, 0), ($A, 0), ($min, 3), ($max...  \n",
       "3                                                 []  \n",
       "4                                                 []  "
      ]
     },
     "execution_count": 133,
     "metadata": {},
     "output_type": "execute_result"
    }
   ],
   "source": [
    "### Load Week2 data ###\n",
    "data_week2 = pickle.load(open('../2015data/Week2_data.pkl','rb'))\n",
    "pd.DataFrame(data_week2[:5])"
   ]
  },
  {
   "cell_type": "code",
   "execution_count": 134,
   "metadata": {
    "collapsed": false
   },
   "outputs": [
    {
     "data": {
      "text/html": [
       "<div style=\"max-height:1000px;max-width:1500px;overflow:auto;\">\n",
       "<table border=\"1\" class=\"dataframe\">\n",
       "  <thead>\n",
       "    <tr style=\"text-align: right;\">\n",
       "      <th></th>\n",
       "      <th>answer</th>\n",
       "      <th>attempt</th>\n",
       "      <th>part_id</th>\n",
       "      <th>problem_id</th>\n",
       "      <th>score</th>\n",
       "      <th>set_id</th>\n",
       "      <th>timestamp</th>\n",
       "      <th>user_id</th>\n",
       "      <th>var</th>\n",
       "    </tr>\n",
       "  </thead>\n",
       "  <tbody>\n",
       "    <tr>\n",
       "      <th>0</th>\n",
       "      <td>                    C</td>\n",
       "      <td>   C</td>\n",
       "      <td> 1</td>\n",
       "      <td> 1</td>\n",
       "      <td> 1</td>\n",
       "      <td> Week7a</td>\n",
       "      <td> 2015-11-07 01:10:59</td>\n",
       "      <td>   dtea</td>\n",
       "      <td>                                                []</td>\n",
       "    </tr>\n",
       "    <tr>\n",
       "      <th>1</th>\n",
       "      <td>                    A</td>\n",
       "      <td>   A</td>\n",
       "      <td> 1</td>\n",
       "      <td> 1</td>\n",
       "      <td> 1</td>\n",
       "      <td> Week7a</td>\n",
       "      <td> 2015-11-07 03:22:58</td>\n",
       "      <td> quwong</td>\n",
       "      <td>                                                []</td>\n",
       "    </tr>\n",
       "    <tr>\n",
       "      <th>2</th>\n",
       "      <td> -0.02-2/[sqrt(25)]*2</td>\n",
       "      <td> yes</td>\n",
       "      <td> 1</td>\n",
       "      <td> 5</td>\n",
       "      <td> 0</td>\n",
       "      <td> Week7a</td>\n",
       "      <td> 2015-11-07 03:30:22</td>\n",
       "      <td> quwong</td>\n",
       "      <td> [($n, 25), ($sampleMean, -0.02), ($variance, 2...</td>\n",
       "    </tr>\n",
       "    <tr>\n",
       "      <th>3</th>\n",
       "      <td> -0.02+2/[sqrt(25)]*2</td>\n",
       "      <td> yes</td>\n",
       "      <td> 2</td>\n",
       "      <td> 5</td>\n",
       "      <td> 0</td>\n",
       "      <td> Week7a</td>\n",
       "      <td> 2015-11-07 03:30:22</td>\n",
       "      <td> quwong</td>\n",
       "      <td> [($n, 25), ($sampleMean, -0.02), ($variance, 2...</td>\n",
       "    </tr>\n",
       "    <tr>\n",
       "      <th>4</th>\n",
       "      <td>                   -1</td>\n",
       "      <td> yes</td>\n",
       "      <td> 3</td>\n",
       "      <td> 5</td>\n",
       "      <td> 0</td>\n",
       "      <td> Week7a</td>\n",
       "      <td> 2015-11-07 03:30:22</td>\n",
       "      <td> quwong</td>\n",
       "      <td> [($n, 25), ($sampleMean, -0.02), ($variance, 2...</td>\n",
       "    </tr>\n",
       "  </tbody>\n",
       "</table>\n",
       "</div>"
      ],
      "text/plain": [
       "                 answer attempt part_id problem_id score  set_id  \\\n",
       "0                     C       C       1          1     1  Week7a   \n",
       "1                     A       A       1          1     1  Week7a   \n",
       "2  -0.02-2/[sqrt(25)]*2     yes       1          5     0  Week7a   \n",
       "3  -0.02+2/[sqrt(25)]*2     yes       2          5     0  Week7a   \n",
       "4                    -1     yes       3          5     0  Week7a   \n",
       "\n",
       "             timestamp user_id  \\\n",
       "0  2015-11-07 01:10:59    dtea   \n",
       "1  2015-11-07 03:22:58  quwong   \n",
       "2  2015-11-07 03:30:22  quwong   \n",
       "3  2015-11-07 03:30:22  quwong   \n",
       "4  2015-11-07 03:30:22  quwong   \n",
       "\n",
       "                                                 var  \n",
       "0                                                 []  \n",
       "1                                                 []  \n",
       "2  [($n, 25), ($sampleMean, -0.02), ($variance, 2...  \n",
       "3  [($n, 25), ($sampleMean, -0.02), ($variance, 2...  \n",
       "4  [($n, 25), ($sampleMean, -0.02), ($variance, 2...  "
      ]
     },
     "execution_count": 134,
     "metadata": {},
     "output_type": "execute_result"
    }
   ],
   "source": [
    "### Load Week7a data ###\n",
    "data_week7a = pickle.load(open('../2015data/Week7a_data.pkl','rb'))\n",
    "pd.DataFrame(data_week7a[:5])"
   ]
  },
  {
   "cell_type": "code",
   "execution_count": 138,
   "metadata": {
    "collapsed": true
   },
   "outputs": [],
   "source": [
    "### Group by problem_id and part_id\n",
    "data = data_week7a\n",
    "problem_part_collection = defaultdict(list)\n",
    "for d in data:\n",
    "    if d['answer']:\n",
    "        problem_part_collection[(d['problem_id'], d['part_id'])] += [d]"
   ]
  },
  {
   "cell_type": "code",
   "execution_count": 49,
   "metadata": {
    "collapsed": true
   },
   "outputs": [],
   "source": [
    "def flatten(tree,tag):\n",
    "    \"\"\"flatten a tree\n",
    "    tag 'c' if it's answer\n",
    "    tag 't' if it's attempt\"\"\"\n",
    "    List=[]\n",
    "    Queue=deque([tree])\n",
    "    try:\n",
    "        while Queue:\n",
    "            current=Queue.popleft()\n",
    "            if type(current)==list: \n",
    "                if isinstance(current[0],basestring):\n",
    "                    List.append([current[1],tag,current])\n",
    "                elif isinstance(current[0][0],basestring) and isinstance(current[0][1],(int, long, float, complex)) and type(current[0][2])==list:\n",
    "                    List.append([current[0][1],tag,current])\n",
    "                    Queue.extend(current[1:])\n",
    "                else:\n",
    "                    return []\n",
    "            else:\n",
    "                return []\n",
    "    except Exception as error:\n",
    "        print 'error: current=', str(current)\n",
    "        return []\n",
    "    List=sorted(List,key=lambda x: x[0])\n",
    "    return List"
   ]
  },
  {
   "cell_type": "code",
   "execution_count": 79,
   "metadata": {
    "collapsed": true
   },
   "outputs": [],
   "source": [
    "def find_Hits(List,tol = 1+1e-6):\n",
    "    \"\"\" Given a combined list of subtrees from both attempt and answer,\n",
    "    sorted by value, find the matching pairs of trees\n",
    "    tol is the tolerance used to define which pairs of values match. \n",
    "    Needed because different expressions get different roundoff error\n",
    "    \"\"\"\n",
    "    Hits=[]\n",
    "    for i in xrange(0,len(List)-1):\n",
    "        item1 = List[i]\n",
    "        item2 = List[i+1]\n",
    "        if item2[0] != 0:\n",
    "            ratio=item1[0]/item2[0]\n",
    "        else:\n",
    "            ratio = 0\n",
    "        if item1[1]!=item2[1] and ratio < tol and ratio > (1/tol):\n",
    "            if item1[1]=='c':\n",
    "                Hits.append((item1,item2))\n",
    "            elif item2[1]=='c':\n",
    "                Hits.append((item2,item1))\n",
    "            else:\n",
    "                print \"Error in find_Hits. Neither item labeled c\"\n",
    "    return Hits"
   ]
  },
  {
   "cell_type": "code",
   "execution_count": 5,
   "metadata": {
    "collapsed": true
   },
   "outputs": [],
   "source": [
    "def find_matches(params):\n",
    "    attempt=params['attempt']\n",
    "    attempt_tree=params['att_tree']\n",
    "    attempt_list=flatten(attempt_tree,'t')\n",
    "    \n",
    "    answer=params['answer']\n",
    "    answer_tree=params['ans_tree']\n",
    "    answer_list=flatten(answer_tree,'c')\n",
    "\n",
    "    # sort by value\n",
    "    combined_list=sorted(answer_list+attempt_list,key=lambda x: x[0])\n",
    "\n",
    "    Hits=find_Hits(combined_list)\n",
    "\n",
    "    final_matches=find_dominating_hits(Hits,answer,attempt)\n",
    "    \n",
    "    return final_matches"
   ]
  },
  {
   "cell_type": "code",
   "execution_count": 7,
   "metadata": {
    "collapsed": true
   },
   "outputs": [],
   "source": [
    "def find_dominating_hits(Hits,answer,attempt):\n",
    "    \"\"\"eliminate dominated hits from input Hits\"\"\"\n",
    "    for i in range(len(Hits)):\n",
    "        for j in range(len(Hits)):\n",
    "            if i==j:\n",
    "                continue\n",
    "            span1=get_span(Hits[i][0])\n",
    "            span2=get_span(Hits[j][0])\n",
    "            # If it is dominated by other hits, marked as 'dc'\n",
    "            if span1[0]<=span2[0] and span1[1]>=span2[1]:\n",
    "                Hits[j][0][1]='dc'\n",
    "    \n",
    "    final_matches=[]\n",
    "    for hit in Hits:\n",
    "        # Do not include hits marked as 'dc'\n",
    "        if hit[0][1]=='c':\n",
    "            value=hit[0][0]\n",
    "            span_c=get_span(hit[0])\n",
    "            span_a=get_span(hit[1])\n",
    "            answer_part=answer[span_c[0]:span_c[1]+1]\n",
    "            attempt_part = attempt[span_a[0]:span_a[1]+1]\n",
    "            if hit[0][2][0]=='X':\n",
    "                node=hit[0][2][3]\n",
    "            else:\n",
    "                node=hit[0][2][0][3]\n",
    "            final_matches.append((node,value,answer_part,attempt_part))\n",
    "    return final_matches"
   ]
  },
  {
   "cell_type": "code",
   "execution_count": 135,
   "metadata": {
    "collapsed": true
   },
   "outputs": [],
   "source": [
    "def get_span(tree):\n",
    "    \"\"\"return the starting index and ending index\n",
    "        used to determine dominating hits\"\"\"\n",
    "    if tree[2][0]=='X':\n",
    "        return tree[2][2]\n",
    "    elif type(tree[2][0])==list:\n",
    "        return tree[2][0][2]\n",
    "    else:\n",
    "        print 'Error in get_span'\n",
    "        return None"
   ]
  },
  {
   "cell_type": "code",
   "execution_count": 136,
   "metadata": {
    "collapsed": false
   },
   "outputs": [],
   "source": [
    "######## Make a list of dictionary ##########\n",
    "def make_params(problem_id, part_id, problem_part_collection):\n",
    "    \"\"\"return list of dict with format\n",
    "    'user_id':d['user_id'],'answer':d['answer'], 'attempt':d['attempt'],\n",
    "    'ans_tree':eval_tree,'att_tree':eval_tree_att\"\"\"\n",
    "    params = []\n",
    "    count = 0\n",
    "    for d in problem_part_collection[problem_id,part_id]:\n",
    "        print count\n",
    "        count += 1\n",
    "        if d['answer']:\n",
    "            parse_tree = webwork_parser.parse_webwork(d['answer'])\n",
    "            if parse_tree == None:\n",
    "                print 'parse_tree empty'\n",
    "                continue\n",
    "            eval_tree = Eval_parsed.eval_parsed(parse_tree[0])\n",
    "            if eval_tree == None:\n",
    "                print 'eval_tree empty'\n",
    "                continue\n",
    "\n",
    "            parse_tree_att = webwork_parser.parse_webwork(d['attempt'])\n",
    "            if parse_tree_att == None:\n",
    "                print 'parse_tree empty'\n",
    "                continue\n",
    "            eval_tree_att = Eval_parsed.eval_parsed(parse_tree_att[0])\n",
    "            if eval_tree_att == None:\n",
    "                print 'eval_tree empty'\n",
    "                continue\n",
    "\n",
    "            params += [{'user_id':d['user_id'], 'answer':d['answer'], 'attempt':d['attempt'],\n",
    "                        'ans_tree':eval_tree, 'att_tree':eval_tree_att}]\n",
    "        else:\n",
    "            print 'no answer'\n",
    "    return params"
   ]
  },
  {
   "cell_type": "code",
   "execution_count": 86,
   "metadata": {
    "collapsed": false
   },
   "outputs": [
    {
     "data": {
      "text/plain": [
       "608"
      ]
     },
     "execution_count": 86,
     "metadata": {},
     "output_type": "execute_result"
    }
   ],
   "source": [
    "### Make params as inputs to function find_matches ###\n",
    "problem_id = '6'\n",
    "part_id = '3'\n",
    "params = make_params(problem_id, part_id, problem_part_collection)\n",
    "len(params)"
   ]
  },
  {
   "cell_type": "code",
   "execution_count": 87,
   "metadata": {
    "collapsed": false
   },
   "outputs": [],
   "source": [
    "### Create clusters, if no hits, clustered as 'Nothing' ###\n",
    "clusters = defaultdict(list)\n",
    "for p in params:\n",
    "    final_pairs = find_matches(p)\n",
    "    if len(final_pairs)>0:\n",
    "        sorted_final = sorted(final_pairs,key=lambda x: x[0])\n",
    "        clusters[str(sorted_final)] += [p['attempt']]\n",
    "    else:\n",
    "        clusters['Nothing'] += [p['attempt']]"
   ]
  },
  {
   "cell_type": "code",
   "execution_count": 99,
   "metadata": {
    "collapsed": false
   },
   "outputs": [
    {
     "name": "stdout",
     "output_type": "stream",
     "text": [
      "17 [('R.1.0.0.1.0.0.0', 0.46153846153846156, u'30/65', u'30/65'), ('R.1.0.1.1.0.0.0', 0.3076923076923077, u'20/65', u'20/65'), ('R.1.0.1.1.1', 2.0, u'2', u'2'), ('R.1.1.1.0.0.0', 0.23076923076923078, u'15/65', u'15/65')]\n",
      "220 Nothing\n",
      "11 [('R.1.0.0.1.0.0.0.0', 30.0, u'30', u'30'), ('R.1.0.1.1.0.0.0.0', 20.0, u'20', u'20'), ('R.1.0.1.1.0.0.0.1', 65.0, u'65', u'65'), ('R.1.0.1.1.0.0.1', 0.3333333333333333, u'1/3', u'1/3'), ('R.1.0.1.1.1', 2.0, u'2', u'2'), ('R.1.1.1.0.0.0.0', 15.0, u'15', u'15')]\n",
      "15 [('R.1.0.0.1.0.0', 0.12820512820512825, u'30/65-1/3', u'(30/65-1/3)/1'), ('R.1.0.1.1.0.0', -0.025641025641025605, u'20/65-1/3', u'(20/65-1/3)/1'), ('R.1.0.1.1.1', 2.0, u'2', u'2'), ('R.1.1.1.0.0', -0.10256410256410253, u'15/65-1/3', u'(15/65-1/3)/1')]\n"
     ]
    }
   ],
   "source": [
    "### Print some clusters ###\n",
    "for c in clusters.keys():\n",
    "    if len(clusters[c]) > 10:\n",
    "        print len(clusters[c]), c"
   ]
  },
  {
   "cell_type": "code",
   "execution_count": null,
   "metadata": {
    "collapsed": true
   },
   "outputs": [],
   "source": []
  },
  {
   "cell_type": "code",
   "execution_count": null,
   "metadata": {
    "collapsed": true
   },
   "outputs": [],
   "source": []
  },
  {
   "cell_type": "code",
   "execution_count": null,
   "metadata": {
    "collapsed": true
   },
   "outputs": [],
   "source": [
    "################# TESTING BELOW ################"
   ]
  },
  {
   "cell_type": "code",
   "execution_count": 140,
   "metadata": {
    "collapsed": false
   },
   "outputs": [
    {
     "data": {
      "text/plain": [
       "[[3.0, 't', ['X', 3.0, [8, 8], 'R.1.0']],\n",
       " [5.0, 't', ['X', 5.0, [5, 5], 'R.0.1']],\n",
       " [48.0, 't', ['X', 48.0, [2, 3], 'R.0.0']],\n",
       " [80.0, 't', ['X', 80.0, [10, 11], 'R.1.1']],\n",
       " [240.0,\n",
       "  't',\n",
       "  [['*', 240.0, [8, 11], 'R.1'],\n",
       "   ['X', 3.0, [8, 8], 'R.1.0'],\n",
       "   ['X', 80.0, [10, 11], 'R.1.1']]],\n",
       " [1712064.0,\n",
       "  't',\n",
       "  [['-', 1712064.0, [0, 11], 'R'],\n",
       "   [['C', 1712304, [0, 6], 'R.0'],\n",
       "    ['X', 48.0, [2, 3], 'R.0.0'],\n",
       "    ['X', 5.0, [5, 5], 'R.0.1']],\n",
       "   [['*', 240.0, [8, 11], 'R.1'],\n",
       "    ['X', 3.0, [8, 8], 'R.1.0'],\n",
       "    ['X', 80.0, [10, 11], 'R.1.1']]]],\n",
       " [1712304,\n",
       "  't',\n",
       "  [['C', 1712304, [0, 6], 'R.0'],\n",
       "   ['X', 48.0, [2, 3], 'R.0.0'],\n",
       "   ['X', 5.0, [5, 5], 'R.0.1']]]]"
      ]
     },
     "execution_count": 140,
     "metadata": {},
     "output_type": "execute_result"
    }
   ],
   "source": [
    "#### Example of flatten ####\n",
    "parse_tree = webwork_parser.parse_webwork('C(48,5)-3*80')\n",
    "etree = Eval_parsed.eval_parsed(parse_tree[0])\n",
    "flatten(etree,'t')"
   ]
  },
  {
   "cell_type": "code",
   "execution_count": 67,
   "metadata": {
    "collapsed": false
   },
   "outputs": [
    {
     "data": {
      "text/plain": [
       "[([3.0, 'c', ['X', 3.0, [8, 8], 'R.1.0']],\n",
       "  [3.0, 't', ['X', 3.0, [8, 8], 'R.1.0']]),\n",
       " ([5.0, 'c', ['X', 5.0, [5, 5], 'R.0.1']],\n",
       "  [5.0, 't', ['X', 5.0, [5, 5], 'R.0.1']]),\n",
       " ([48.0, 'c', ['X', 48.0, [2, 3], 'R.0.0']],\n",
       "  [48.0, 't', ['X', 48.0, [2, 3], 'R.0.0']]),\n",
       " ([1712304,\n",
       "   'c',\n",
       "   [['C', 1712304, [0, 6], 'R.0'],\n",
       "    ['X', 48.0, [2, 3], 'R.0.0'],\n",
       "    ['X', 5.0, [5, 5], 'R.0.1']]],\n",
       "  [1712304,\n",
       "   't',\n",
       "   [['C', 1712304, [0, 6], 'R.0'],\n",
       "    ['X', 48.0, [2, 3], 'R.0.0'],\n",
       "    ['X', 5.0, [5, 5], 'R.0.1']]])]"
      ]
     },
     "execution_count": 67,
     "metadata": {},
     "output_type": "execute_result"
    }
   ],
   "source": [
    "#### Example of find_Hits\n",
    "parse_tree = webwork_parser.parse_webwork('C(48,5)-3*80')\n",
    "etree_a = Eval_parsed.eval_parsed(parse_tree[0])\n",
    "parse_tree_b = webwork_parser.parse_webwork('C(48,5)-3*60')\n",
    "etree_b = Eval_parsed.eval_parsed(parse_tree_b[0])\n",
    "p = {'attempt':'C(48,5)-3*60', 'answer':'C(48,5)-3*80', 'att_tree':etree_b, 'ans_tree': etree_a}\n",
    "attempt=p['attempt']\n",
    "attempt_tree=p['att_tree']\n",
    "attempt_list=flatten(attempt_tree,'t')\n",
    "\n",
    "answer=p['answer']\n",
    "answer_tree=p['ans_tree']\n",
    "answer_list=flatten(answer_tree,'c')\n",
    "\n",
    "combined_list=sorted(answer_list+attempt_list,key=lambda x: x[0])\n",
    "\n",
    "Hits = find_Hits(combined_list)\n",
    "Hits"
   ]
  },
  {
   "cell_type": "code",
   "execution_count": 141,
   "metadata": {
    "collapsed": false
   },
   "outputs": [
    {
     "data": {
      "text/plain": [
       "[('R.1.0', 3.0, '3', '3'), ('R.0', 1712304, 'C(48,5)', 'C(48,5)')]"
      ]
     },
     "execution_count": 141,
     "metadata": {},
     "output_type": "execute_result"
    }
   ],
   "source": [
    "#### Example of find_dominating_hits ####\n",
    "find_dominating_hits(Hits,answer,attempt)"
   ]
  },
  {
   "cell_type": "code",
   "execution_count": 112,
   "metadata": {
    "collapsed": false
   },
   "outputs": [
    {
     "name": "stdout",
     "output_type": "stream",
     "text": [
      "17828\n"
     ]
    },
    {
     "data": {
      "text/plain": [
       "defaultdict(str,\n",
       "            {(u'1', u'1'): u'B',\n",
       "             (u'2', u'1'): u'0.05/[sqrt(0.16/200)]',\n",
       "             (u'2', u'2'): u'Q(1.76777)',\n",
       "             (u'2',\n",
       "              u'3'): u'<pre style=\"text-align:left; padding-left:.2em\">yes</pre>',\n",
       "             (u'2',\n",
       "              u'4'): u'<pre style=\"text-align:left; padding-left:.2em\">no</pre>',\n",
       "             (u'5', u'1'): u'-0.02-2/[sqrt(25)]*2',\n",
       "             (u'5', u'2'): u'-0.03+2/[sqrt(25)]*2',\n",
       "             (u'5', u'3'): u'-1',\n",
       "             (u'5', u'4'): u'1',\n",
       "             (u'5', u'5'): u'1',\n",
       "             (u'6', u'1'): u'65',\n",
       "             (u'6',\n",
       "              u'2'): u'65*(0.5*[(30/65-0.5)/0.5]^2+0.25*[(20/65-0.25)/0.25]^2+0.25*[(15/65-0.25)/0.25]^2)',\n",
       "             (u'6',\n",
       "              u'3'): u'65*(1/3*[(30/65-1/3)/(1/3)]^2+1/3*[(20/65-1/3)/(1/3)]^2+1/3*[(15/65-1/3)/(1/3)]^2)',\n",
       "             (u'6',\n",
       "              u'4'): u'<pre style=\"text-align:left; padding-left:.2em\">no</pre>',\n",
       "             (u'6',\n",
       "              u'5'): u'<pre style=\"text-align:left; padding-left:.2em\">no</pre>',\n",
       "             (u'6',\n",
       "              u'6'): u'<pre style=\"text-align:left; padding-left:.2em\">Yes</pre>',\n",
       "             (u'6',\n",
       "              u'7'): u'<pre style=\"text-align:left; padding-left:.2em\">yes</pre>',\n",
       "             (u'6',\n",
       "              u'8'): u'<pre style=\"text-align:left; padding-left:.2em\">yes</pre>',\n",
       "             (u'7', u'1'): u'-1',\n",
       "             (u'7', u'2'): u'-1',\n",
       "             (u'7', u'3'): u'1',\n",
       "             (u'7', u'4'): u'1',\n",
       "             (u'7', u'5'): u'1',\n",
       "             (u'8', u'1'): u'1',\n",
       "             (u'8', u'2'): u'0',\n",
       "             (u'9', u'1'): u'1000*100/x',\n",
       "             (u'9', u'2'): u'100*1000/n',\n",
       "             (u'9', u'3'): u'100*(1000/n)*(1-1000/n)',\n",
       "             (u'9', u'4'): u'1-2*0.025',\n",
       "             (u'9', u'5'): u'1.96*sqrt(100*(1000/n)*(1-1000/n))'})"
      ]
     },
     "execution_count": 112,
     "metadata": {},
     "output_type": "execute_result"
    }
   ],
   "source": [
    "### Count the number attempts and answer for each part ###\n",
    "problem_count = defaultdict(int)\n",
    "problem_part_answer = defaultdict(str)\n",
    "for d in data:\n",
    "    if d['answer']:\n",
    "        problem_count[(d['problem_id'], d['part_id'])] += 1\n",
    "        problem_part_answer[(d['problem_id'], d['part_id'])] = d['answer']\n",
    "print len(data)\n",
    "problem_part_answer"
   ]
  },
  {
   "cell_type": "code",
   "execution_count": null,
   "metadata": {
    "collapsed": true
   },
   "outputs": [],
   "source": []
  }
 ],
 "metadata": {
  "kernelspec": {
   "display_name": "Python 2",
   "language": "python",
   "name": "python2"
  },
  "language_info": {
   "codemirror_mode": {
    "name": "ipython",
    "version": 2
   },
   "file_extension": ".py",
   "mimetype": "text/x-python",
   "name": "python",
   "nbconvert_exporter": "python",
   "pygments_lexer": "ipython2",
   "version": "2.7.9"
  }
 },
 "nbformat": 4,
 "nbformat_minor": 0
}
