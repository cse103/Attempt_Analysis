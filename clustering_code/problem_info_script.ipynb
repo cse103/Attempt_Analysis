{
 "cells": [
  {
   "cell_type": "code",
   "execution_count": 1,
   "metadata": {
    "collapsed": true
   },
   "outputs": [],
   "source": [
    "import pickle\n",
    "from collections import defaultdict"
   ]
  },
  {
   "cell_type": "code",
   "execution_count": 42,
   "metadata": {
    "collapsed": true
   },
   "outputs": [],
   "source": [
    "file_list = ['Week2', 'Week3', 'Week4', 'Week5', 'Week6.2', 'Week7a', 'Week8', 'Week9a']"
   ]
  },
  {
   "cell_type": "code",
   "execution_count": 68,
   "metadata": {
    "collapsed": false
   },
   "outputs": [],
   "source": [
    "f = file_list[5]\n",
    "file_data = pickle.load(open('../2015data/'+ f + '_data.pkl','rb'))\n",
    "pro_par_count = defaultdict(int)\n",
    "pro_par_list = defaultdict(lambda : defaultdict(int))\n",
    "total_count = 0\n",
    "for k in file_data:\n",
    "    pro_par_list[k[0]][k[1]] = len(file_data[k])\n",
    "    pro_par_count[k[0]] += len(file_data[k])\n",
    "    total_count += len(file_data[k])"
   ]
  },
  {
   "cell_type": "code",
   "execution_count": 69,
   "metadata": {
    "collapsed": false
   },
   "outputs": [
    {
     "name": "stdout",
     "output_type": "stream",
     "text": [
      "### Sorted with number of attempts\n",
      "[problem 5](https://github.com/cse103/Attempt_Analysis/blob/master/clustering_code/clusters/Week7a/md_files/Week7a_5_clusters.md): 2824\n",
      "\n",
      "\t\t part  1 :  1377\n",
      "\t\t part  2 :  1085\n",
      "\t\t part  3 :  201\n",
      "\t\t part  4 :  77\n",
      "\t\t part  5 :  84\n",
      "\n",
      "\n",
      "[problem 9](https://github.com/cse103/Attempt_Analysis/blob/master/clustering_code/clusters/Week7a/md_files/Week7a_9_clusters.md): 2497\n",
      "\n",
      "\t\t part  1 :  400\n",
      "\t\t part  2 :  419\n",
      "\t\t part  3 :  370\n",
      "\t\t part  4 :  404\n",
      "\t\t part  5 :  904\n",
      "\n",
      "\n",
      "[problem 6](https://github.com/cse103/Attempt_Analysis/blob/master/clustering_code/clusters/Week7a/md_files/Week7a_6_clusters.md): 1214\n",
      "\n",
      "\t\t part  1 :  158\n",
      "\t\t part  2 :  639\n",
      "\t\t part  3 :  377\n",
      "\t\t part  4 :  11\n",
      "\t\t part  5 :  9\n",
      "\t\t part  6 :  7\n",
      "\t\t part  7 :  8\n",
      "\t\t part  8 :  5\n",
      "\n",
      "\n",
      "[problem 2](https://github.com/cse103/Attempt_Analysis/blob/master/clustering_code/clusters/Week7a/md_files/Week7a_2_clusters.md): 945\n",
      "\n",
      "\t\t part  1 :  511\n",
      "\t\t part  2 :  324\n",
      "\t\t part  3 :  48\n",
      "\t\t part  4 :  62\n",
      "\n",
      "\n",
      "[problem 7](https://github.com/cse103/Attempt_Analysis/blob/master/clustering_code/clusters/Week7a/md_files/Week7a_7_clusters.md): 559\n",
      "\n",
      "\t\t part  1 :  159\n",
      "\t\t part  2 :  181\n",
      "\t\t part  3 :  82\n",
      "\t\t part  4 :  66\n",
      "\t\t part  5 :  71\n",
      "\n",
      "\n",
      "[problem 8](https://github.com/cse103/Attempt_Analysis/blob/master/clustering_code/clusters/Week7a/md_files/Week7a_8_clusters.md): 204\n",
      "\n",
      "\t\t part  1 :  84\n",
      "\t\t part  2 :  120\n",
      "\n",
      "\n",
      "[problem 1](https://github.com/cse103/Attempt_Analysis/blob/master/clustering_code/clusters/Week7a/md_files/Week7a_1_clusters.md): 49\n",
      "\n",
      "\t\t part  1 :  49\n",
      "\n",
      "\n"
     ]
    }
   ],
   "source": [
    "print '### Sorted with number of attempts'\n",
    "for p_count in sorted(pro_par_count.items(), key = lambda x:x[1], reverse=True):\n",
    "    print ('[problem ' + p_count[0] + '](https://github.com/cse103/Attempt_Analysis/blob/master/clustering_code/clusters/'\n",
    "    + f + '/md_files/' + f + '_' + str(p_count[0]) + '_clusters.md): ' + str(p_count[1]) + '\\n')\n",
    "    for par_id in xrange(20):\n",
    "        if pro_par_list[p_count[0]][str(par_id)]:\n",
    "            print '\\t\\t part ', par_id, ': ', pro_par_list[p_count[0]][str(par_id)]\n",
    "    print '\\n'"
   ]
  },
  {
   "cell_type": "code",
   "execution_count": 15,
   "metadata": {
    "collapsed": false
   },
   "outputs": [
    {
     "data": {
      "text/plain": [
       "[(u'13', 2248),\n",
       " (u'14', 1065),\n",
       " (u'10', 861),\n",
       " (u'8', 860),\n",
       " (u'2', 742),\n",
       " (u'3', 661),\n",
       " (u'9', 310),\n",
       " (u'11', 263),\n",
       " (u'4', 138),\n",
       " (u'1', 97),\n",
       " (u'6', 88),\n",
       " (u'5', 78),\n",
       " (u'12', 31)]"
      ]
     },
     "execution_count": 15,
     "metadata": {},
     "output_type": "execute_result"
    }
   ],
   "source": [
    "sorted(pro_par_count.items(), key = lambda x:x[1], reverse=True)"
   ]
  },
  {
   "cell_type": "code",
   "execution_count": null,
   "metadata": {
    "collapsed": true
   },
   "outputs": [],
   "source": []
  }
 ],
 "metadata": {
  "kernelspec": {
   "display_name": "Python 2",
   "language": "python",
   "name": "python2"
  },
  "language_info": {
   "codemirror_mode": {
    "name": "ipython",
    "version": 2
   },
   "file_extension": ".py",
   "mimetype": "text/x-python",
   "name": "python",
   "nbconvert_exporter": "python",
   "pygments_lexer": "ipython2",
   "version": "2.7.9"
  }
 },
 "nbformat": 4,
 "nbformat_minor": 0
}
