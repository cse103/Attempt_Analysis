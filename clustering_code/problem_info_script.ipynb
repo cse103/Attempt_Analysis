{
 "cells": [
  {
   "cell_type": "code",
   "execution_count": 1,
   "metadata": {
    "collapsed": true
   },
   "outputs": [],
   "source": [
    "import pickle\n",
    "from collections import defaultdict"
   ]
  },
  {
   "cell_type": "code",
   "execution_count": 42,
   "metadata": {
    "collapsed": true
   },
   "outputs": [],
   "source": [
    "file_list = ['Week2', 'Week3', 'Week4', 'Week5', 'Week6.2', 'Week7a', 'Week8', 'Week9a']"
   ]
  },
  {
   "cell_type": "code",
   "execution_count": 44,
   "metadata": {
    "collapsed": false
   },
   "outputs": [
    {
     "data": {
      "text/plain": [
       "defaultdict(list, {})"
      ]
     },
     "execution_count": 44,
     "metadata": {},
     "output_type": "execute_result"
    }
   ],
   "source": [
    "f = file_list[7]\n",
    "file_data = pickle.load(open('../2015data/'+ f + '_data.pkl','rb'))\n",
    "pro_par_count = defaultdict(int)\n",
    "pro_par_list = defaultdict(lambda : defaultdict(int))\n",
    "total_count = 0\n",
    "for k in file_data:\n",
    "    pro_par_list[k[0]][k[1]] = len(file_data[k])\n",
    "    pro_par_count[k[0]] += len(file_data[k])\n",
    "    total_count += len(file_data[k])\n",
    "file_data"
   ]
  },
  {
   "cell_type": "code",
   "execution_count": 39,
   "metadata": {
    "collapsed": false
   },
   "outputs": [
    {
     "name": "stdout",
     "output_type": "stream",
     "text": [
      "### Sorted with number of attempts\n"
     ]
    }
   ],
   "source": [
    "print '### Sorted with number of attempts'\n",
    "for p_count in sorted(pro_par_count.items(), key = lambda x:x[1], reverse=True):\n",
    "    print '\\t problem ',p_count[0], ': ', p_count[1]\n",
    "    for par_id in xrange(20):\n",
    "        if pro_par_list[p_count[0]][str(par_id)]:\n",
    "            print '\\t\\t\\t part ', par_id, ': ', pro_par_list[p_count[0]][str(par_id)]\n",
    "    print '\\n'"
   ]
  },
  {
   "cell_type": "code",
   "execution_count": 15,
   "metadata": {
    "collapsed": false
   },
   "outputs": [
    {
     "data": {
      "text/plain": [
       "[(u'13', 2248),\n",
       " (u'14', 1065),\n",
       " (u'10', 861),\n",
       " (u'8', 860),\n",
       " (u'2', 742),\n",
       " (u'3', 661),\n",
       " (u'9', 310),\n",
       " (u'11', 263),\n",
       " (u'4', 138),\n",
       " (u'1', 97),\n",
       " (u'6', 88),\n",
       " (u'5', 78),\n",
       " (u'12', 31)]"
      ]
     },
     "execution_count": 15,
     "metadata": {},
     "output_type": "execute_result"
    }
   ],
   "source": [
    "sorted(pro_par_count.items(), key = lambda x:x[1], reverse=True)"
   ]
  },
  {
   "cell_type": "code",
   "execution_count": null,
   "metadata": {
    "collapsed": true
   },
   "outputs": [],
   "source": []
  }
 ],
 "metadata": {
  "kernelspec": {
   "display_name": "Python 2",
   "language": "python",
   "name": "python2"
  },
  "language_info": {
   "codemirror_mode": {
    "name": "ipython",
    "version": 2
   },
   "file_extension": ".py",
   "mimetype": "text/x-python",
   "name": "python",
   "nbconvert_exporter": "python",
   "pygments_lexer": "ipython2",
   "version": "2.7.9"
  }
 },
 "nbformat": 4,
 "nbformat_minor": 0
}
