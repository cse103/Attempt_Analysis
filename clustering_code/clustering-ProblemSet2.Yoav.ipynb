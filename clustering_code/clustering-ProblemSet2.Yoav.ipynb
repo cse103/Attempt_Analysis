{
 "cells": [
  {
   "cell_type": "code",
   "execution_count": 1,
   "metadata": {
    "collapsed": false
   },
   "outputs": [
    {
     "name": "stderr",
     "output_type": "stream",
     "text": [
      "lex: tokens   = ('Q', 'CHOOSE', 'PERMUTE', 'VARIABLE', 'NUMBER', 'PLUS', 'MINUS', 'TIMES', 'DIVIDE', 'LPAREN', 'RPAREN', 'FACTORIAL', 'LSET', 'RSET', 'COMMA', 'EXP', 'LBRACKET', 'RBRACKET', 'COMPUTE')\n",
      "lex: literals = ''\n",
      "lex: states   = {'INITIAL': 'inclusive'}\n",
      "lex: Adding rule t_NUMBER -> '\\d*\\.?\\d+(E(\\+|\\-)?\\d+)?' (state 'INITIAL')\n",
      "lex: Adding rule t_newline -> '\\n+' (state 'INITIAL')\n",
      "lex: Adding rule t_VARIABLE -> '(?<![A-Za-z])[ABD-OR-Za-z](?![A-Za-z])' (state 'INITIAL')\n",
      "lex: Adding rule t_EXP -> '\\^|(\\*\\*)' (state 'INITIAL')\n",
      "lex: Adding rule t_COMPUTE -> 'Compute' (state 'INITIAL')\n",
      "lex: Adding rule t_RSET -> '\\}' (state 'INITIAL')\n",
      "lex: Adding rule t_RBRACKET -> '\\]' (state 'INITIAL')\n",
      "lex: Adding rule t_LBRACKET -> '\\[' (state 'INITIAL')\n",
      "lex: Adding rule t_PLUS -> '\\+' (state 'INITIAL')\n",
      "lex: Adding rule t_COMMA -> '\\,' (state 'INITIAL')\n",
      "lex: Adding rule t_LPAREN -> '\\(' (state 'INITIAL')\n",
      "lex: Adding rule t_LSET -> '\\{' (state 'INITIAL')\n",
      "lex: Adding rule t_TIMES -> '\\*' (state 'INITIAL')\n",
      "lex: Adding rule t_RPAREN -> '\\)' (state 'INITIAL')\n",
      "lex: Adding rule t_FACTORIAL -> '!' (state 'INITIAL')\n",
      "lex: Adding rule t_Q -> 'Q' (state 'INITIAL')\n",
      "lex: Adding rule t_DIVIDE -> '/' (state 'INITIAL')\n",
      "lex: Adding rule t_CHOOSE -> 'C' (state 'INITIAL')\n",
      "lex: Adding rule t_PERMUTE -> 'P' (state 'INITIAL')\n",
      "lex: Adding rule t_MINUS -> '-' (state 'INITIAL')\n",
      "lex: ==== MASTER REGEXS FOLLOW ====\n",
      "lex: state 'INITIAL' : regex[0] = '(?P<t_NUMBER>\\d*\\.?\\d+(E(\\+|\\-)?\\d+)?)|(?P<t_newline>\\n+)|(?P<t_VARIABLE>(?<![A-Za-z])[ABD-OR-Za-z](?![A-Za-z]))|(?P<t_EXP>\\^|(\\*\\*))|(?P<t_COMPUTE>Compute)|(?P<t_RSET>\\})|(?P<t_RBRACKET>\\])|(?P<t_LBRACKET>\\[)|(?P<t_PLUS>\\+)|(?P<t_COMMA>\\,)|(?P<t_LPAREN>\\()|(?P<t_LSET>\\{)|(?P<t_TIMES>\\*)|(?P<t_RPAREN>\\))|(?P<t_FACTORIAL>!)|(?P<t_Q>Q)|(?P<t_DIVIDE>/)|(?P<t_CHOOSE>C)|(?P<t_PERMUTE>P)|(?P<t_MINUS>-)'\n"
     ]
    }
   ],
   "source": [
    "from parsetrees.expr_parser import webwork_parser\n",
    "from parsetrees.expr_parser import Eval_parsed\n",
    "import pickle\n",
    "from collections import deque\n",
    "from collections import defaultdict\n",
    "import pandas as pd"
   ]
  },
  {
   "cell_type": "markdown",
   "metadata": {},
   "source": [
    "### Read Data"
   ]
  },
  {
   "cell_type": "code",
   "execution_count": 2,
   "metadata": {
    "collapsed": false
   },
   "outputs": [
    {
     "data": {
      "text/html": [
       "<div>\n",
       "<table border=\"1\" class=\"dataframe\">\n",
       "  <thead>\n",
       "    <tr style=\"text-align: right;\">\n",
       "      <th></th>\n",
       "      <th>answer</th>\n",
       "      <th>attempt</th>\n",
       "      <th>part_id</th>\n",
       "      <th>problem_id</th>\n",
       "      <th>score</th>\n",
       "      <th>set_id</th>\n",
       "      <th>timestamp</th>\n",
       "      <th>user_id</th>\n",
       "      <th>var</th>\n",
       "    </tr>\n",
       "  </thead>\n",
       "  <tbody>\n",
       "    <tr>\n",
       "      <th>0</th>\n",
       "      <td>{1,2,3,4,5,6}</td>\n",
       "      <td>{}</td>\n",
       "      <td>1</td>\n",
       "      <td>1</td>\n",
       "      <td>0</td>\n",
       "      <td>Week2</td>\n",
       "      <td>2015-10-02 00:22:51</td>\n",
       "      <td>zig006</td>\n",
       "      <td>[($Ac, 0), ($rs, 0), ($A, 0), ($min, 3), ($max...</td>\n",
       "    </tr>\n",
       "    <tr>\n",
       "      <th>1</th>\n",
       "      <td>{3,5,7,9,11}</td>\n",
       "      <td>{3,5,7,9,11}</td>\n",
       "      <td>2</td>\n",
       "      <td>1</td>\n",
       "      <td>1</td>\n",
       "      <td>Week2</td>\n",
       "      <td>2015-10-02 00:22:51</td>\n",
       "      <td>zig006</td>\n",
       "      <td>[($Ac, 0), ($rs, 0), ($A, 0), ($min, 3), ($max...</td>\n",
       "    </tr>\n",
       "    <tr>\n",
       "      <th>2</th>\n",
       "      <td>{1,2,3,4,5,6}</td>\n",
       "      <td>{1,2,3,4,5,6}</td>\n",
       "      <td>1</td>\n",
       "      <td>1</td>\n",
       "      <td>1</td>\n",
       "      <td>Week2</td>\n",
       "      <td>2015-10-02 00:23:41</td>\n",
       "      <td>zig006</td>\n",
       "      <td>[($Ac, 0), ($rs, 0), ($A, 0), ($min, 3), ($max...</td>\n",
       "    </tr>\n",
       "    <tr>\n",
       "      <th>3</th>\n",
       "      <td>{0}</td>\n",
       "      <td>{0}</td>\n",
       "      <td>1</td>\n",
       "      <td>2</td>\n",
       "      <td>1</td>\n",
       "      <td>Week2</td>\n",
       "      <td>2015-10-02 00:24:52</td>\n",
       "      <td>zig006</td>\n",
       "      <td>[]</td>\n",
       "    </tr>\n",
       "    <tr>\n",
       "      <th>4</th>\n",
       "      <td>{1}</td>\n",
       "      <td>{0,2,3}</td>\n",
       "      <td>2</td>\n",
       "      <td>2</td>\n",
       "      <td>0</td>\n",
       "      <td>Week2</td>\n",
       "      <td>2015-10-02 00:24:52</td>\n",
       "      <td>zig006</td>\n",
       "      <td>[]</td>\n",
       "    </tr>\n",
       "  </tbody>\n",
       "</table>\n",
       "</div>"
      ],
      "text/plain": [
       "          answer        attempt part_id problem_id score set_id  \\\n",
       "0  {1,2,3,4,5,6}             {}       1          1     0  Week2   \n",
       "1   {3,5,7,9,11}   {3,5,7,9,11}       2          1     1  Week2   \n",
       "2  {1,2,3,4,5,6}  {1,2,3,4,5,6}       1          1     1  Week2   \n",
       "3            {0}            {0}       1          2     1  Week2   \n",
       "4            {1}        {0,2,3}       2          2     0  Week2   \n",
       "\n",
       "             timestamp user_id  \\\n",
       "0  2015-10-02 00:22:51  zig006   \n",
       "1  2015-10-02 00:22:51  zig006   \n",
       "2  2015-10-02 00:23:41  zig006   \n",
       "3  2015-10-02 00:24:52  zig006   \n",
       "4  2015-10-02 00:24:52  zig006   \n",
       "\n",
       "                                                 var  \n",
       "0  [($Ac, 0), ($rs, 0), ($A, 0), ($min, 3), ($max...  \n",
       "1  [($Ac, 0), ($rs, 0), ($A, 0), ($min, 3), ($max...  \n",
       "2  [($Ac, 0), ($rs, 0), ($A, 0), ($min, 3), ($max...  \n",
       "3                                                 []  \n",
       "4                                                 []  "
      ]
     },
     "execution_count": 2,
     "metadata": {},
     "output_type": "execute_result"
    }
   ],
   "source": [
    "### Load Week2 data ###\n",
    "data_week2 = pickle.load(open('../2015data/Week2_data.pkl','rb'))\n",
    "pd.DataFrame(data_week2[:5])"
   ]
  },
  {
   "cell_type": "code",
   "execution_count": 3,
   "metadata": {
    "collapsed": false
   },
   "outputs": [
    {
     "data": {
      "text/html": [
       "<div>\n",
       "<table border=\"1\" class=\"dataframe\">\n",
       "  <thead>\n",
       "    <tr style=\"text-align: right;\">\n",
       "      <th></th>\n",
       "      <th>answer</th>\n",
       "      <th>attempt</th>\n",
       "      <th>part_id</th>\n",
       "      <th>problem_id</th>\n",
       "      <th>score</th>\n",
       "      <th>set_id</th>\n",
       "      <th>timestamp</th>\n",
       "      <th>user_id</th>\n",
       "      <th>var</th>\n",
       "    </tr>\n",
       "  </thead>\n",
       "  <tbody>\n",
       "    <tr>\n",
       "      <th>0</th>\n",
       "      <td>C</td>\n",
       "      <td>C</td>\n",
       "      <td>1</td>\n",
       "      <td>1</td>\n",
       "      <td>1</td>\n",
       "      <td>Week7a</td>\n",
       "      <td>2015-11-07 01:10:59</td>\n",
       "      <td>dtea</td>\n",
       "      <td>[]</td>\n",
       "    </tr>\n",
       "    <tr>\n",
       "      <th>1</th>\n",
       "      <td>A</td>\n",
       "      <td>A</td>\n",
       "      <td>1</td>\n",
       "      <td>1</td>\n",
       "      <td>1</td>\n",
       "      <td>Week7a</td>\n",
       "      <td>2015-11-07 03:22:58</td>\n",
       "      <td>quwong</td>\n",
       "      <td>[]</td>\n",
       "    </tr>\n",
       "    <tr>\n",
       "      <th>2</th>\n",
       "      <td>-0.02-2/[sqrt(25)]*2</td>\n",
       "      <td>yes</td>\n",
       "      <td>1</td>\n",
       "      <td>5</td>\n",
       "      <td>0</td>\n",
       "      <td>Week7a</td>\n",
       "      <td>2015-11-07 03:30:22</td>\n",
       "      <td>quwong</td>\n",
       "      <td>[($n, 25), ($sampleMean, -0.02), ($variance, 2...</td>\n",
       "    </tr>\n",
       "    <tr>\n",
       "      <th>3</th>\n",
       "      <td>-0.02+2/[sqrt(25)]*2</td>\n",
       "      <td>yes</td>\n",
       "      <td>2</td>\n",
       "      <td>5</td>\n",
       "      <td>0</td>\n",
       "      <td>Week7a</td>\n",
       "      <td>2015-11-07 03:30:22</td>\n",
       "      <td>quwong</td>\n",
       "      <td>[($n, 25), ($sampleMean, -0.02), ($variance, 2...</td>\n",
       "    </tr>\n",
       "    <tr>\n",
       "      <th>4</th>\n",
       "      <td>-1</td>\n",
       "      <td>yes</td>\n",
       "      <td>3</td>\n",
       "      <td>5</td>\n",
       "      <td>0</td>\n",
       "      <td>Week7a</td>\n",
       "      <td>2015-11-07 03:30:22</td>\n",
       "      <td>quwong</td>\n",
       "      <td>[($n, 25), ($sampleMean, -0.02), ($variance, 2...</td>\n",
       "    </tr>\n",
       "  </tbody>\n",
       "</table>\n",
       "</div>"
      ],
      "text/plain": [
       "                 answer attempt part_id problem_id score  set_id  \\\n",
       "0                     C       C       1          1     1  Week7a   \n",
       "1                     A       A       1          1     1  Week7a   \n",
       "2  -0.02-2/[sqrt(25)]*2     yes       1          5     0  Week7a   \n",
       "3  -0.02+2/[sqrt(25)]*2     yes       2          5     0  Week7a   \n",
       "4                    -1     yes       3          5     0  Week7a   \n",
       "\n",
       "             timestamp user_id  \\\n",
       "0  2015-11-07 01:10:59    dtea   \n",
       "1  2015-11-07 03:22:58  quwong   \n",
       "2  2015-11-07 03:30:22  quwong   \n",
       "3  2015-11-07 03:30:22  quwong   \n",
       "4  2015-11-07 03:30:22  quwong   \n",
       "\n",
       "                                                 var  \n",
       "0                                                 []  \n",
       "1                                                 []  \n",
       "2  [($n, 25), ($sampleMean, -0.02), ($variance, 2...  \n",
       "3  [($n, 25), ($sampleMean, -0.02), ($variance, 2...  \n",
       "4  [($n, 25), ($sampleMean, -0.02), ($variance, 2...  "
      ]
     },
     "execution_count": 3,
     "metadata": {},
     "output_type": "execute_result"
    }
   ],
   "source": [
    "### Load Week7a data ###\n",
    "data_week7a = pickle.load(open('../2015data/Week7a_data.pkl','rb'))\n",
    "pd.DataFrame(data_week7a[:5])"
   ]
  },
  {
   "cell_type": "markdown",
   "metadata": {},
   "source": [
    "### define  functions\n",
    "\n",
    "Can probably be exported to an external .py file."
   ]
  },
  {
   "cell_type": "code",
   "execution_count": 5,
   "metadata": {
    "collapsed": true
   },
   "outputs": [],
   "source": [
    "def flatten(tree,tag):\n",
    "    \"\"\"flatten a tree\n",
    "    tag 'c' if it's answer\n",
    "    tag 't' if it's attempt\n",
    "    return a flatten sorted list\"\"\"\n",
    "    List=[]\n",
    "    Queue=deque([tree])\n",
    "    try:\n",
    "        while Queue:\n",
    "            current=Queue.popleft()\n",
    "            if type(current)==list: \n",
    "                if isinstance(current[0],basestring):\n",
    "                    List.append([current[1],tag,current])\n",
    "                elif isinstance(current[0][0],basestring) and isinstance(current[0][1],(int, long, float, complex)) and type(current[0][2])==list:\n",
    "                    List.append([current[0][1],tag,current])\n",
    "                    Queue.extend(current[1:])\n",
    "                else:\n",
    "                    return []\n",
    "            else:\n",
    "                return []\n",
    "    except Exception as error:\n",
    "        print 'error: current=', str(current)\n",
    "        return []\n",
    "    List=sorted(List,key=lambda x: x[0])\n",
    "    return List"
   ]
  },
  {
   "cell_type": "code",
   "execution_count": 6,
   "metadata": {
    "collapsed": true
   },
   "outputs": [],
   "source": [
    "def find_Hits(List,tol = 1+1e-6):\n",
    "    \"\"\" Given a combined list of subtrees from both attempt and answer,\n",
    "    sorted by value, find the matching pairs of trees\n",
    "    tol is the tolerance used to define which pairs of values match. \n",
    "    Needed because different expressions get different roundoff error\n",
    "    \"\"\"\n",
    "    Hits=[]\n",
    "    for i in xrange(0,len(List)-1):\n",
    "        item1 = List[i]\n",
    "        item2 = List[i+1]\n",
    "        if item2[0] != 0:\n",
    "            ratio=item1[0]/item2[0]\n",
    "        else:\n",
    "            ratio = 0\n",
    "        if item1[1]!=item2[1] and ratio < tol and ratio > (1/tol):\n",
    "            if item1[1]=='c':\n",
    "                Hits.append((item1,item2))\n",
    "            elif item2[1]=='c':\n",
    "                Hits.append((item2,item1))\n",
    "            else:\n",
    "                print \"Error in find_Hits. Neither item labeled c\"\n",
    "    return Hits"
   ]
  },
  {
   "cell_type": "code",
   "execution_count": 7,
   "metadata": {
    "collapsed": true
   },
   "outputs": [],
   "source": [
    "def find_dominating_hits(Hits,answer,attempt):\n",
    "    \"\"\"eliminate dominated hits from input Hits\"\"\"\n",
    "    for i in range(len(Hits)):\n",
    "        for j in range(len(Hits)):\n",
    "            if i==j:\n",
    "                continue\n",
    "            span1=get_span(Hits[i][0])\n",
    "            span2=get_span(Hits[j][0])\n",
    "            # If it is dominated by other hits, marked as 'dc'\n",
    "            if span1[0]<=span2[0] and span1[1]>=span2[1]:\n",
    "                Hits[j][0][1]='dc'\n",
    "    \n",
    "    final_matches=[]\n",
    "    for hit in Hits:\n",
    "        # Do not include hits marked as 'dc'\n",
    "        if hit[0][1]=='c':\n",
    "            value=hit[0][0]\n",
    "            span_c=get_span(hit[0])\n",
    "            span_a=get_span(hit[1])\n",
    "            answer_part=answer[span_c[0]:span_c[1]+1]\n",
    "            attempt_part = attempt[span_a[0]:span_a[1]+1]\n",
    "            if hit[0][2][0]=='X':\n",
    "                node=hit[0][2][3]\n",
    "            else:\n",
    "                node=hit[0][2][0][3]\n",
    "            final_matches.append((node,value,answer_part,attempt_part))\n",
    "    return final_matches"
   ]
  },
  {
   "cell_type": "code",
   "execution_count": 8,
   "metadata": {
    "collapsed": true
   },
   "outputs": [],
   "source": [
    "def find_matches(params):\n",
    "    \"\"\" return a list of hits \"\"\"\n",
    "    attempt=params['attempt']\n",
    "    attempt_tree=params['att_tree']\n",
    "    attempt_list=flatten(attempt_tree,'t')\n",
    "    \n",
    "    answer=params['answer']\n",
    "    answer_tree=params['ans_tree']\n",
    "    answer_list=flatten(answer_tree,'c')\n",
    "\n",
    "    # sort by value\n",
    "    combined_list=sorted(answer_list+attempt_list,key=lambda x: x[0])\n",
    "    \n",
    "    # find all hits\n",
    "    Hits=find_Hits(combined_list)\n",
    "\n",
    "    # eliminate dominating hits\n",
    "    final_matches=find_dominating_hits(Hits,answer,attempt)\n",
    "    \n",
    "    return final_matches"
   ]
  },
  {
   "cell_type": "code",
   "execution_count": 9,
   "metadata": {
    "collapsed": true
   },
   "outputs": [],
   "source": [
    "def get_span(tree):\n",
    "    \"\"\"return the starting index and ending index\n",
    "        used to determine dominating hits\"\"\"\n",
    "    if tree[2][0]=='X':\n",
    "        return tree[2][2]\n",
    "    elif type(tree[2][0])==list:\n",
    "        return tree[2][0][2]\n",
    "    else:\n",
    "        print 'Error in get_span'\n",
    "        return None"
   ]
  },
  {
   "cell_type": "code",
   "execution_count": 12,
   "metadata": {
    "collapsed": false
   },
   "outputs": [],
   "source": [
    "######## Make a list of dictionaries ##########\n",
    "def make_params(problem_id, part_id, problem_part_collection):\n",
    "    \"\"\"return list of dict with format\n",
    "    'user_id':d['user_id'],'answer':d['answer'], 'attempt':d['attempt'],\n",
    "    'ans_tree':eval_tree,'att_tree':eval_tree_att\"\"\"\n",
    "    params = []\n",
    "    count = 0\n",
    "    for d in problem_part_collection[problem_id,part_id]:\n",
    "        print '\\r',count,\n",
    "        count += 1\n",
    "        if d['answer']:\n",
    "            parse_tree = webwork_parser.parse_webwork(d['answer'])\n",
    "            if parse_tree == None:\n",
    "                print 'parse_tree empty'\n",
    "                continue\n",
    "            eval_tree = Eval_parsed.eval_parsed(parse_tree[0])\n",
    "            if eval_tree == None:\n",
    "                print 'eval_tree empty'\n",
    "                continue\n",
    "\n",
    "            parse_tree_att = webwork_parser.parse_webwork(d['attempt'])\n",
    "            if parse_tree_att == None:\n",
    "                print 'parse_tree empty'\n",
    "                continue\n",
    "            eval_tree_att = Eval_parsed.eval_parsed(parse_tree_att[0])\n",
    "            if eval_tree_att == None:\n",
    "                print 'eval_tree empty'\n",
    "                continue\n",
    "\n",
    "            params += [{'user_id':d['user_id'], 'answer':d['answer'], 'attempt':d['attempt'],\n",
    "                        'ans_tree':eval_tree, 'att_tree':eval_tree_att}]\n",
    "        else:\n",
    "            print 'no answer'\n",
    "    return params"
   ]
  },
  {
   "cell_type": "markdown",
   "metadata": {},
   "source": [
    "### Perform analysis"
   ]
  },
  {
   "cell_type": "code",
   "execution_count": 28,
   "metadata": {
    "collapsed": false
   },
   "outputs": [
    {
     "name": "stdout",
     "output_type": "stream",
     "text": [
      "\r",
      "0 \r",
      "1 \r",
      "2 \r",
      "3 \r",
      "4 \r",
      "5 \r",
      "6 \r",
      "7 \r",
      "8 \r",
      "9 \r",
      "10 \r",
      "11 \r",
      "12 \r",
      "13 \r",
      "14 \r",
      "15 \r",
      "16 \r",
      "17 \r",
      "18 \r",
      "19 \r",
      "20 \r",
      "21 \r",
      "22 \r",
      "23 \r",
      "24 \r",
      "25 \r",
      "26 \r",
      "27 \r",
      "28 \r",
      "29 \r",
      "30 \r",
      "31 \r",
      "32 \r",
      "33 \r",
      "34 \r",
      "35 \r",
      "36 \r",
      "37 \r",
      "38 \r",
      "39 \r",
      "40 \r",
      "41 \r",
      "42 \r",
      "43 \r",
      "44 \r",
      "45 \r",
      "46 \r",
      "47 \r",
      "48 \r",
      "49 \r",
      "50 \r",
      "51 \r",
      "52 \r",
      "53 \r",
      "54 \r",
      "55 \r",
      "56 \r",
      "57 \r",
      "58 \r",
      "59 \r",
      "60 \r",
      "61 \r",
      "62 \r",
      "63 \r",
      "64 \r",
      "65 \r",
      "66 \r",
      "67 \r",
      "68 \r",
      "69 \r",
      "70 \r",
      "71 \r",
      "72 \r",
      "73 \r",
      "74 \r",
      "75 \r",
      "76 \r",
      "77 \r",
      "78 \r",
      "79 \r",
      "80 \r",
      "81 \r",
      "82 \r",
      "83 \r",
      "84 \r",
      "85 \r",
      "86 \r",
      "87 \r",
      "88 \r",
      "89 \r",
      "90 \r",
      "91 \r",
      "92 \r",
      "93 \r",
      "94 \r",
      "95 \r",
      "96 \r",
      "97 \r",
      "98 \r",
      "99 \r",
      "100 \r",
      "101 \r",
      "102 \r",
      "103 \r",
      "104 \r",
      "105 \r",
      "106 \r",
      "107 \r",
      "108 \r",
      "109 \r",
      "110 \r",
      "111 \r",
      "112 \r",
      "113 \r",
      "114 \r",
      "115 \r",
      "116 \r",
      "117 \r",
      "118 \r",
      "119 \r",
      "120 \r",
      "121 \r",
      "122 \r",
      "123 \r",
      "124 \r",
      "125 \r",
      "126 \r",
      "127 \r",
      "128 \r",
      "129 \r",
      "130 \r",
      "131 \r",
      "132 \r",
      "133 \r",
      "134 \r",
      "135 \r",
      "136 \r",
      "137 \r",
      "138 \r",
      "139 \r",
      "140 \r",
      "141 \r",
      "142 \r",
      "143 \r",
      "144 \r",
      "145 \r",
      "146 \r",
      "147 \r",
      "148 \r",
      "149 \r",
      "150 \r",
      "151 \r",
      "152 \r",
      "153 \r",
      "154 \r",
      "155 \r",
      "156 \r",
      "157 \r",
      "158 \r",
      "159 \r",
      "160 \r",
      "161 \r",
      "162 \r",
      "163 \r",
      "164 \r",
      "165 \r",
      "166 \r",
      "167 \r",
      "168 \r",
      "169 \r",
      "170 \r",
      "171 \r",
      "172 \r",
      "173 \r",
      "174 \r",
      "175 \r",
      "176 \r",
      "177 \r",
      "178 \r",
      "179 \r",
      "180 \r",
      "181 \r",
      "182 \r",
      "183 \r",
      "184 \r",
      "185 \r",
      "186 \r",
      "187 \r",
      "188 \r",
      "189 \r",
      "190 \r",
      "191 \r",
      "192 \r",
      "193 \r",
      "194 \r",
      "195 \r",
      "196 \r",
      "197 \r",
      "198 \r",
      "199 \r",
      "200 \r",
      "201 \r",
      "202 \r",
      "203 \r",
      "204 \r",
      "205 \r",
      "206 \r",
      "207 \r",
      "208 \r",
      "209 \r",
      "210 \r",
      "211 \r",
      "212 \r",
      "213 \r",
      "214 \r",
      "215 \r",
      "216 \r",
      "217 \r",
      "218 \r",
      "219 \r",
      "220 \r",
      "221 \r",
      "222 \r",
      "223 \r",
      "224 \r",
      "225 \r",
      "226 \r",
      "227 \r",
      "228 \r",
      "229 \r",
      "230 \r",
      "231 \r",
      "232 \r",
      "233 \r",
      "234 \r",
      "235 \r",
      "236 \r",
      "237 \r",
      "238 \r",
      "239 \r",
      "240 \r",
      "241 \r",
      "242 \r",
      "243 \r",
      "244 \r",
      "245 \r",
      "246 \r",
      "247 \r",
      "248 \r",
      "249 \r",
      "250 \r",
      "251 \r",
      "252 \r",
      "253 \r",
      "254 \r",
      "255 \r",
      "256 \r",
      "257 \r",
      "258 \r",
      "259 \r",
      "260 \r",
      "261 \r",
      "262 \r",
      "263 \r",
      "264 \r",
      "265 \r",
      "266 \r",
      "267 \r",
      "268 \r",
      "269 \r",
      "270 \r",
      "271 \r",
      "272 \r",
      "273 \r",
      "274 \r",
      "275 \r",
      "276 \r",
      "277 \r",
      "278 \r",
      "279 \r",
      "280 \r",
      "281 \r",
      "282 \r",
      "283 \r",
      "284 \r",
      "285 \r",
      "286 \r",
      "287 \r",
      "288 \r",
      "289 \r",
      "290 \r",
      "291 \r",
      "292 \r",
      "293 \r",
      "294 \r",
      "295 \r",
      "296 \r",
      "297 \r",
      "298 \r",
      "299 \r",
      "300 \r",
      "301 \r",
      "302 \r",
      "303 \r",
      "304 \r",
      "305"
     ]
    },
    {
     "data": {
      "text/plain": [
       "306"
      ]
     },
     "execution_count": 28,
     "metadata": {},
     "output_type": "execute_result"
    },
    {
     "name": "stdout",
     "output_type": "stream",
     "text": [
      "\n"
     ]
    }
   ],
   "source": [
    "### Make params as inputs to function find_matches ###\n",
    "problem_id = '5'\n",
    "part_id = '1'\n",
    "params = make_params(problem_id, part_id, problem_part_collection)\n",
    "len(params)"
   ]
  },
  {
   "cell_type": "code",
   "execution_count": 42,
   "metadata": {
    "collapsed": false
   },
   "outputs": [
    {
     "data": {
      "text/plain": [
       "{'ans_tree': [['*', 6.0, [0, 2], 'R'],\n",
       "  ['X', 3.0, [0, 0], 'R.0'],\n",
       "  ['X', 2.0, [2, 2], 'R.1']],\n",
       " 'answer': u'3*2',\n",
       " 'att_tree': [['*', 6.0, [0, 4], 'R'],\n",
       "  ['X', 3.0, [0, 0], 'R.0'],\n",
       "  ['X', 2.0, [4, 4], 'R.1']],\n",
       " 'attempt': u'3 * 2',\n",
       " 'user_id': u'eyhu'}"
      ]
     },
     "execution_count": 42,
     "metadata": {},
     "output_type": "execute_result"
    }
   ],
   "source": [
    "params[0]"
   ]
  },
  {
   "cell_type": "code",
   "execution_count": 45,
   "metadata": {
    "collapsed": false
   },
   "outputs": [
    {
     "name": "stdout",
     "output_type": "stream",
     "text": [
      "110\n",
      "3!*2!\n",
      "9\n",
      "1/6\n",
      "5!\n",
      "5\n",
      "19\n",
      "9\n",
      "3!2!\n",
      "12\n",
      "8\n",
      "9\n",
      "8\n",
      "5!\n",
      "15\n",
      "20\n",
      "5!/(3!*2!)\n",
      "8\n",
      "9\n",
      "8\n",
      "3!*2!\n",
      "8\n",
      "140\n",
      "8\n",
      "8\n",
      "8\n",
      "7!/5!\n",
      "5!/3!\n",
      "5!/(3!2!)\n",
      "3!2!\n",
      "5\n",
      "3*3\n",
      "9\n",
      "8\n",
      "9\n",
      "12\n"
     ]
    }
   ],
   "source": [
    "def get_numerical_answer(eval_tree):\n",
    "    \"\"\"Get the final value from and evaluation tree\"\"\"\n",
    "    if type(eval_tree[0])==list:\n",
    "        return eval_tree[0][1]\n",
    "    else:\n",
    "        return eval_tree[1]\n",
    "\n",
    "for attempt in params:\n",
    "    try:\n",
    "        numeric_answer=get_numerical_answer(attempt['ans_tree'])\n",
    "        numeric_answer=get_numerical_answer(attempt['att_tree'])\n",
    "        if numeric_attempt != numeric_answer:\n",
    "            #print numeric_attempt,numeric_answer\n",
    "            #print attempt\n",
    "            print attempt['attempt']\n",
    "    except:\n",
    "        print 'Exception'\n",
    "        print attempt"
   ]
  },
  {
   "cell_type": "markdown",
   "metadata": {},
   "source": [
    "#### Group by problem_id and part_id"
   ]
  },
  {
   "cell_type": "code",
   "execution_count": 25,
   "metadata": {
    "collapsed": true
   },
   "outputs": [],
   "source": [
    "data = data_week2\n",
    "problem_part_collection = defaultdict(list)\n",
    "for d in data:\n",
    "    if d['answer']:\n",
    "        problem_part_collection[(d['problem_id'], d['part_id'])] += [d]"
   ]
  },
  {
   "cell_type": "code",
   "execution_count": 26,
   "metadata": {
    "collapsed": false
   },
   "outputs": [
    {
     "data": {
      "text/plain": [
       "18519"
      ]
     },
     "execution_count": 26,
     "metadata": {},
     "output_type": "execute_result"
    }
   ],
   "source": [
    "len(data)"
   ]
  },
  {
   "cell_type": "code",
   "execution_count": 27,
   "metadata": {
    "collapsed": false
   },
   "outputs": [
    {
     "data": {
      "text/plain": [
       "[(0, 0),\n",
       " (1, 0),\n",
       " (2, 0),\n",
       " (3, 0),\n",
       " (4, 0),\n",
       " (5, 0),\n",
       " (6, 0),\n",
       " (7, 0),\n",
       " (8, 0),\n",
       " (9, 0),\n",
       " (10, 0),\n",
       " (11, 0),\n",
       " (12, 0),\n",
       " (13, 0),\n",
       " (14, 0),\n",
       " (15, 0),\n",
       " (16, 0),\n",
       " (17, 0),\n",
       " (18, 0),\n",
       " (19, 0),\n",
       " (20, 0),\n",
       " (21, 0),\n",
       " (22, 0),\n",
       " (23, 0),\n",
       " (24, 0),\n",
       " (25, 0),\n",
       " (26, 0),\n",
       " (27, 0),\n",
       " (28, 0),\n",
       " (29, 0),\n",
       " (30, 0),\n",
       " (31, 0),\n",
       " (32, 0),\n",
       " (33, 0),\n",
       " (34, 0),\n",
       " (35, 0),\n",
       " (36, 0),\n",
       " (37, 0),\n",
       " (38, 0),\n",
       " (39, 0),\n",
       " (40, 0)]"
      ]
     },
     "execution_count": 27,
     "metadata": {},
     "output_type": "execute_result"
    }
   ],
   "source": [
    "[(i,len(problem_part_collection[i])) for i in range(len(problem_part_collection))]"
   ]
  },
  {
   "cell_type": "code",
   "execution_count": 14,
   "metadata": {
    "collapsed": false
   },
   "outputs": [],
   "source": [
    "### Create clusters, if no hits, clustered as 'Nothing' ###\n",
    "clusters = defaultdict(list)\n",
    "for p in params:\n",
    "    final_pairs = find_matches(p)\n",
    "    if len(final_pairs)>0:\n",
    "        sorted_final = sorted(final_pairs,key=lambda x: x[0])\n",
    "        clusters[str(sorted_final)] += [p['attempt']]\n",
    "    else:\n",
    "        clusters['Nothing'] += [p['attempt']]"
   ]
  },
  {
   "cell_type": "code",
   "execution_count": 15,
   "metadata": {
    "collapsed": false
   },
   "outputs": [
    {
     "name": "stdout",
     "output_type": "stream",
     "text": [
      "27 Nothing\n",
      "27 [('R', 6.0, u'3*2', u'3*2')]\n",
      "236 [('R', 6.0, u'3*2', u'6')]\n"
     ]
    }
   ],
   "source": [
    "### Print some clusters ###\n",
    "for c in clusters.keys():\n",
    "    if len(clusters[c]) > 10:\n",
    "        print len(clusters[c]), c"
   ]
  },
  {
   "cell_type": "code",
   "execution_count": null,
   "metadata": {
    "collapsed": true
   },
   "outputs": [],
   "source": []
  },
  {
   "cell_type": "code",
   "execution_count": null,
   "metadata": {
    "collapsed": true
   },
   "outputs": [],
   "source": []
  },
  {
   "cell_type": "code",
   "execution_count": null,
   "metadata": {
    "collapsed": true
   },
   "outputs": [],
   "source": [
    "################# TESTING BELOW ################"
   ]
  },
  {
   "cell_type": "code",
   "execution_count": 140,
   "metadata": {
    "collapsed": false
   },
   "outputs": [
    {
     "data": {
      "text/plain": [
       "[[3.0, 't', ['X', 3.0, [8, 8], 'R.1.0']],\n",
       " [5.0, 't', ['X', 5.0, [5, 5], 'R.0.1']],\n",
       " [48.0, 't', ['X', 48.0, [2, 3], 'R.0.0']],\n",
       " [80.0, 't', ['X', 80.0, [10, 11], 'R.1.1']],\n",
       " [240.0,\n",
       "  't',\n",
       "  [['*', 240.0, [8, 11], 'R.1'],\n",
       "   ['X', 3.0, [8, 8], 'R.1.0'],\n",
       "   ['X', 80.0, [10, 11], 'R.1.1']]],\n",
       " [1712064.0,\n",
       "  't',\n",
       "  [['-', 1712064.0, [0, 11], 'R'],\n",
       "   [['C', 1712304, [0, 6], 'R.0'],\n",
       "    ['X', 48.0, [2, 3], 'R.0.0'],\n",
       "    ['X', 5.0, [5, 5], 'R.0.1']],\n",
       "   [['*', 240.0, [8, 11], 'R.1'],\n",
       "    ['X', 3.0, [8, 8], 'R.1.0'],\n",
       "    ['X', 80.0, [10, 11], 'R.1.1']]]],\n",
       " [1712304,\n",
       "  't',\n",
       "  [['C', 1712304, [0, 6], 'R.0'],\n",
       "   ['X', 48.0, [2, 3], 'R.0.0'],\n",
       "   ['X', 5.0, [5, 5], 'R.0.1']]]]"
      ]
     },
     "execution_count": 140,
     "metadata": {},
     "output_type": "execute_result"
    }
   ],
   "source": [
    "#### Example of flatten ####\n",
    "parse_tree = webwork_parser.parse_webwork('C(48,5)-3*80')\n",
    "etree = Eval_parsed.eval_parsed(parse_tree[0])\n",
    "flatten(etree,'t')"
   ]
  },
  {
   "cell_type": "code",
   "execution_count": 67,
   "metadata": {
    "collapsed": false
   },
   "outputs": [
    {
     "data": {
      "text/plain": [
       "[([3.0, 'c', ['X', 3.0, [8, 8], 'R.1.0']],\n",
       "  [3.0, 't', ['X', 3.0, [8, 8], 'R.1.0']]),\n",
       " ([5.0, 'c', ['X', 5.0, [5, 5], 'R.0.1']],\n",
       "  [5.0, 't', ['X', 5.0, [5, 5], 'R.0.1']]),\n",
       " ([48.0, 'c', ['X', 48.0, [2, 3], 'R.0.0']],\n",
       "  [48.0, 't', ['X', 48.0, [2, 3], 'R.0.0']]),\n",
       " ([1712304,\n",
       "   'c',\n",
       "   [['C', 1712304, [0, 6], 'R.0'],\n",
       "    ['X', 48.0, [2, 3], 'R.0.0'],\n",
       "    ['X', 5.0, [5, 5], 'R.0.1']]],\n",
       "  [1712304,\n",
       "   't',\n",
       "   [['C', 1712304, [0, 6], 'R.0'],\n",
       "    ['X', 48.0, [2, 3], 'R.0.0'],\n",
       "    ['X', 5.0, [5, 5], 'R.0.1']]])]"
      ]
     },
     "execution_count": 67,
     "metadata": {},
     "output_type": "execute_result"
    }
   ],
   "source": [
    "#### Example of find_Hits\n",
    "parse_tree = webwork_parser.parse_webwork('C(48,5)-3*80')\n",
    "etree_a = Eval_parsed.eval_parsed(parse_tree[0])\n",
    "parse_tree_b = webwork_parser.parse_webwork('C(48,5)-3*60')\n",
    "etree_b = Eval_parsed.eval_parsed(parse_tree_b[0])\n",
    "p = {'attempt':'C(48,5)-3*60', 'answer':'C(48,5)-3*80', 'att_tree':etree_b, 'ans_tree': etree_a}\n",
    "attempt=p['attempt']\n",
    "attempt_tree=p['att_tree']\n",
    "attempt_list=flatten(attempt_tree,'t')\n",
    "\n",
    "answer=p['answer']\n",
    "answer_tree=p['ans_tree']\n",
    "answer_list=flatten(answer_tree,'c')\n",
    "\n",
    "combined_list=sorted(answer_list+attempt_list,key=lambda x: x[0])\n",
    "\n",
    "Hits = find_Hits(combined_list)\n",
    "Hits"
   ]
  },
  {
   "cell_type": "code",
   "execution_count": 141,
   "metadata": {
    "collapsed": false
   },
   "outputs": [
    {
     "data": {
      "text/plain": [
       "[('R.1.0', 3.0, '3', '3'), ('R.0', 1712304, 'C(48,5)', 'C(48,5)')]"
      ]
     },
     "execution_count": 141,
     "metadata": {},
     "output_type": "execute_result"
    }
   ],
   "source": [
    "#### Example of find_dominating_hits ####\n",
    "find_dominating_hits(Hits,answer,attempt)"
   ]
  },
  {
   "cell_type": "code",
   "execution_count": 112,
   "metadata": {
    "collapsed": false
   },
   "outputs": [
    {
     "name": "stdout",
     "output_type": "stream",
     "text": [
      "17828\n"
     ]
    },
    {
     "data": {
      "text/plain": [
       "defaultdict(str,\n",
       "            {(u'1', u'1'): u'B',\n",
       "             (u'2', u'1'): u'0.05/[sqrt(0.16/200)]',\n",
       "             (u'2', u'2'): u'Q(1.76777)',\n",
       "             (u'2',\n",
       "              u'3'): u'<pre style=\"text-align:left; padding-left:.2em\">yes</pre>',\n",
       "             (u'2',\n",
       "              u'4'): u'<pre style=\"text-align:left; padding-left:.2em\">no</pre>',\n",
       "             (u'5', u'1'): u'-0.02-2/[sqrt(25)]*2',\n",
       "             (u'5', u'2'): u'-0.03+2/[sqrt(25)]*2',\n",
       "             (u'5', u'3'): u'-1',\n",
       "             (u'5', u'4'): u'1',\n",
       "             (u'5', u'5'): u'1',\n",
       "             (u'6', u'1'): u'65',\n",
       "             (u'6',\n",
       "              u'2'): u'65*(0.5*[(30/65-0.5)/0.5]^2+0.25*[(20/65-0.25)/0.25]^2+0.25*[(15/65-0.25)/0.25]^2)',\n",
       "             (u'6',\n",
       "              u'3'): u'65*(1/3*[(30/65-1/3)/(1/3)]^2+1/3*[(20/65-1/3)/(1/3)]^2+1/3*[(15/65-1/3)/(1/3)]^2)',\n",
       "             (u'6',\n",
       "              u'4'): u'<pre style=\"text-align:left; padding-left:.2em\">no</pre>',\n",
       "             (u'6',\n",
       "              u'5'): u'<pre style=\"text-align:left; padding-left:.2em\">no</pre>',\n",
       "             (u'6',\n",
       "              u'6'): u'<pre style=\"text-align:left; padding-left:.2em\">Yes</pre>',\n",
       "             (u'6',\n",
       "              u'7'): u'<pre style=\"text-align:left; padding-left:.2em\">yes</pre>',\n",
       "             (u'6',\n",
       "              u'8'): u'<pre style=\"text-align:left; padding-left:.2em\">yes</pre>',\n",
       "             (u'7', u'1'): u'-1',\n",
       "             (u'7', u'2'): u'-1',\n",
       "             (u'7', u'3'): u'1',\n",
       "             (u'7', u'4'): u'1',\n",
       "             (u'7', u'5'): u'1',\n",
       "             (u'8', u'1'): u'1',\n",
       "             (u'8', u'2'): u'0',\n",
       "             (u'9', u'1'): u'1000*100/x',\n",
       "             (u'9', u'2'): u'100*1000/n',\n",
       "             (u'9', u'3'): u'100*(1000/n)*(1-1000/n)',\n",
       "             (u'9', u'4'): u'1-2*0.025',\n",
       "             (u'9', u'5'): u'1.96*sqrt(100*(1000/n)*(1-1000/n))'})"
      ]
     },
     "execution_count": 112,
     "metadata": {},
     "output_type": "execute_result"
    }
   ],
   "source": [
    "### Count the number attempts and answer for each part ###\n",
    "problem_count = defaultdict(int)\n",
    "problem_part_answer = defaultdict(str)\n",
    "for d in data:\n",
    "    if d['answer']:\n",
    "        problem_count[(d['problem_id'], d['part_id'])] += 1\n",
    "        problem_part_answer[(d['problem_id'], d['part_id'])] = d['answer']\n",
    "print len(data)\n",
    "problem_part_answer"
   ]
  },
  {
   "cell_type": "code",
   "execution_count": null,
   "metadata": {
    "collapsed": true
   },
   "outputs": [],
   "source": []
  }
 ],
 "metadata": {
  "kernelspec": {
   "display_name": "Python 2",
   "language": "python",
   "name": "python2"
  },
  "language_info": {
   "codemirror_mode": {
    "name": "ipython",
    "version": 2
   },
   "file_extension": ".py",
   "mimetype": "text/x-python",
   "name": "python",
   "nbconvert_exporter": "python",
   "pygments_lexer": "ipython2",
   "version": "2.7.11"
  }
 },
 "nbformat": 4,
 "nbformat_minor": 0
}
