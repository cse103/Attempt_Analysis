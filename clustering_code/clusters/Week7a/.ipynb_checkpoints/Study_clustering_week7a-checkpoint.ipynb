{
 "cells": [
  {
   "cell_type": "code",
   "execution_count": 1,
   "metadata": {
    "collapsed": true
   },
   "outputs": [],
   "source": [
    "import pickle"
   ]
  },
  {
   "cell_type": "code",
   "execution_count": 10,
   "metadata": {
    "collapsed": true
   },
   "outputs": [],
   "source": [
    "cluster = pickle.load(open('Week7a_6_cluster.pkl', 'rb'))"
   ]
  },
  {
   "cell_type": "code",
   "execution_count": 11,
   "metadata": {
    "collapsed": false
   },
   "outputs": [
    {
     "data": {
      "text/plain": [
       "[u'1', u'3', u'2', u'5', u'4', u'7', u'6', u'8']"
      ]
     },
     "execution_count": 11,
     "metadata": {},
     "output_type": "execute_result"
    }
   ],
   "source": [
    "##### Part number is keys #####\n",
    "cluster.keys()"
   ]
  },
  {
   "cell_type": "code",
   "execution_count": 20,
   "metadata": {
    "collapsed": false
   },
   "outputs": [
    {
     "data": {
      "text/plain": [
       "['Nothing', \"[('R', 65.0, u'65', u'65')]\", \"[('R', 65.0, u'65', u'30+20+15')]\"]"
      ]
     },
     "execution_count": 20,
     "metadata": {},
     "output_type": "execute_result"
    }
   ],
   "source": [
    "##### Matching sub-expression as key in each part #####\n",
    "cluster['1'].keys()"
   ]
  },
  {
   "cell_type": "code",
   "execution_count": 21,
   "metadata": {
    "collapsed": false
   },
   "outputs": [
    {
     "data": {
      "text/plain": [
       "[u'no',\n",
       " u'50',\n",
       " u'2',\n",
       " u'yes',\n",
       " u'no',\n",
       " u'10',\n",
       " u'1',\n",
       " u'3',\n",
       " u'25 + 20 + 15',\n",
       " u'3',\n",
       " u'3',\n",
       " u'13',\n",
       " u'1',\n",
       " u'60*( (1./2)*((25./60.-1./2)/(1./2))^2+ (1./4)*((20./60-1./4)/(1./4))^2+ (1./4)*((15./60-1/4)/(1./4))^2)',\n",
       " u'17.5',\n",
       " u'17.5',\n",
       " u'yes',\n",
       " u'yes',\n",
       " u'no',\n",
       " u'no',\n",
       " u'no',\n",
       " u'no',\n",
       " u'no',\n",
       " u'17.5',\n",
       " u'17.5',\n",
       " u'30',\n",
       " u'3',\n",
       " u'9',\n",
       " u'55*.24',\n",
       " u'55*.24',\n",
       " u'55*.24',\n",
       " u'60',\n",
       " u'6',\n",
       " u'1',\n",
       " u'130',\n",
       " u'3',\n",
       " u'3',\n",
       " u'3',\n",
       " u'64',\n",
       " u'3',\n",
       " u'75',\n",
       " u'0',\n",
       " u'30',\n",
       " u'3',\n",
       " u'55',\n",
       " u'90',\n",
       " u'50',\n",
       " u'60',\n",
       " u'30',\n",
       " u'3',\n",
       " u'2',\n",
       " u'3',\n",
       " u'1',\n",
       " u'3',\n",
       " u'2',\n",
       " u'9',\n",
       " u'3',\n",
       " u'3',\n",
       " u'30',\n",
       " u'0',\n",
       " u'1',\n",
       " u'2',\n",
       " u'2',\n",
       " u'3',\n",
       " u'0',\n",
       " u'0',\n",
       " u'1',\n",
       " u'3',\n",
       " u'9',\n",
       " u'6',\n",
       " u'2',\n",
       " u'1',\n",
       " u'3',\n",
       " u'2',\n",
       " u'30*2-*15',\n",
       " u'30',\n",
       " u'75',\n",
       " u'9',\n",
       " u'6',\n",
       " u'30',\n",
       " u'45',\n",
       " u'1',\n",
       " u'3',\n",
       " u'0',\n",
       " u'(5/3)*30 + (7/12)*20 + (7/12)15',\n",
       " u'(1/3)*30 + (1/3)*20 + (1/3)15 + (1/2)*30 + (1/4)*20 + (1/4)*15',\n",
       " u'2',\n",
       " u'1',\n",
       " u'6',\n",
       " u'2',\n",
       " u'6',\n",
       " u'3*30+(20+15)',\n",
       " u'3',\n",
       " u'3',\n",
       " u'0',\n",
       " u'3',\n",
       " u'6',\n",
       " u'2',\n",
       " u'3',\n",
       " u'1',\n",
       " u'3',\n",
       " u'1',\n",
       " u'2',\n",
       " u'3',\n",
       " u'45.4165',\n",
       " u'30/3+20/3+15/3+30/2+20/4+15/4',\n",
       " u'70',\n",
       " u'3',\n",
       " u'6',\n",
       " u'1',\n",
       " u'3',\n",
       " u'3',\n",
       " u'1',\n",
       " u'30',\n",
       " u'3',\n",
       " u'0',\n",
       " u'65[0.5((30/65-0.5)/0.5)^2+0.25((20/65-0.25)/0.25)^2+0.25((15/65-0.25)/0.25)^2]',\n",
       " u'3',\n",
       " u'3',\n",
       " u'3',\n",
       " u'3',\n",
       " u'30',\n",
       " u'1',\n",
       " u'3',\n",
       " u'3',\n",
       " u'3',\n",
       " u'3',\n",
       " u'3',\n",
       " u'3',\n",
       " u'30',\n",
       " u'1',\n",
       " u'5',\n",
       " u'30',\n",
       " u'3*3']"
      ]
     },
     "execution_count": 21,
     "metadata": {},
     "output_type": "execute_result"
    }
   ],
   "source": [
    "##### All attempts as value #####\n",
    "cluster['1']['Nothing']"
   ]
  },
  {
   "cell_type": "code",
   "execution_count": null,
   "metadata": {
    "collapsed": true
   },
   "outputs": [],
   "source": []
  }
 ],
 "metadata": {
  "kernelspec": {
   "display_name": "Python 2",
   "language": "python",
   "name": "python2"
  },
  "language_info": {
   "codemirror_mode": {
    "name": "ipython",
    "version": 2
   },
   "file_extension": ".py",
   "mimetype": "text/x-python",
   "name": "python",
   "nbconvert_exporter": "python",
   "pygments_lexer": "ipython2",
   "version": "2.7.9"
  }
 },
 "nbformat": 4,
 "nbformat_minor": 0
}
