{
 "cells": [
  {
   "cell_type": "code",
   "execution_count": 1,
   "metadata": {
    "collapsed": true
   },
   "outputs": [],
   "source": [
    "import pickle\n",
    "from pandas import DataFrame\n",
    "from collections import defaultdict"
   ]
  },
  {
   "cell_type": "code",
   "execution_count": 6,
   "metadata": {
    "collapsed": true
   },
   "outputs": [],
   "source": [
    "nothing_cluster = pickle.load(open('Week2_14_3_no_match.pkl', 'rb'))"
   ]
  },
  {
   "cell_type": "code",
   "execution_count": 7,
   "metadata": {
    "collapsed": false
   },
   "outputs": [
    {
     "data": {
      "text/plain": [
       "[u'kvass',\n",
       " u'kbielawi',\n",
       " u'jguanzho',\n",
       " u'alakamsa',\n",
       " u'jjm019',\n",
       " u'ctgraves',\n",
       " u'nhn018',\n",
       " u'j5phung',\n",
       " u'dkostins',\n",
       " u'c4du',\n",
       " u'rlhagen',\n",
       " u'avasavad',\n",
       " u'tcn013',\n",
       " u'tstevens',\n",
       " u'pthsu',\n",
       " u'tcuddy',\n",
       " u'l8ngo',\n",
       " u'djk006',\n",
       " u'aysee',\n",
       " u'dando',\n",
       " u'dsriniva',\n",
       " u'a2ahmed',\n",
       " u'm4salaza',\n",
       " u'yos017',\n",
       " u'small',\n",
       " u'm8woo',\n",
       " u'ggaddi',\n",
       " u'a8ho',\n",
       " u'h4tu',\n",
       " u'ccn001',\n",
       " u'lrlai',\n",
       " u'asetters',\n",
       " u'jjchung',\n",
       " u'atorr',\n",
       " u'cprafull',\n",
       " u'anislam',\n",
       " u'mroknich',\n",
       " u'alhung',\n",
       " u'b3hwang',\n",
       " u'c2qiu',\n",
       " u'jcj006',\n",
       " u'dis003',\n",
       " u'rraiyyan',\n",
       " u'jhw015',\n",
       " u'krkelkar',\n",
       " u'lcardoso',\n",
       " u'jel075',\n",
       " u'ytc012',\n",
       " u'kosung',\n",
       " u'etemlock',\n",
       " u'muy002',\n",
       " u'jtfrankl',\n",
       " u'eshung',\n",
       " u'rbdoming',\n",
       " u'aurodrig',\n",
       " u'dcastlem',\n",
       " u'bkoli',\n",
       " u'v3doan',\n",
       " u'yil035',\n",
       " u'wmiao',\n",
       " u'druble',\n",
       " u'lpettit',\n",
       " u'ctroncos',\n",
       " u'kebao',\n",
       " u'glcohen',\n",
       " u'achava',\n",
       " u'd6he',\n",
       " u'sachadal',\n",
       " u'awollner',\n",
       " u'dcrume',\n",
       " u't2li',\n",
       " u'dlt009',\n",
       " u'n2patil',\n",
       " u'ttimmons',\n",
       " u'jnatale',\n",
       " u'jblynch',\n",
       " u'ganajera',\n",
       " u'nnh002',\n",
       " u'skodigal',\n",
       " u'wcwhite',\n",
       " u'eaherman',\n",
       " u'lguintu',\n",
       " u'c1sorian',\n",
       " u'volim',\n",
       " u'ralhadda',\n",
       " u'hmnaing',\n",
       " u'tjke',\n",
       " u'klala',\n",
       " u'asp025',\n",
       " u'dlgoldbe',\n",
       " u'jfalcone',\n",
       " u'eyhu',\n",
       " u'ppanourg',\n",
       " u'ewbrenna',\n",
       " u'masaro',\n",
       " u'rwthomps',\n",
       " u'pcdo',\n",
       " u'e9brown',\n",
       " u'vsosnovs',\n",
       " u'jdeon',\n",
       " u'b1green',\n",
       " u'p4kumar',\n",
       " u'j6quach',\n",
       " u'gsrandha',\n",
       " u'bmilton',\n",
       " u'yypan',\n",
       " u'dcgriffi',\n",
       " u'rsmurlo',\n",
       " u'anl114',\n",
       " u'pnquach',\n",
       " u'achinn',\n",
       " u'kalang',\n",
       " u'msaguiar',\n",
       " u'aalhaida',\n",
       " u'hah008',\n",
       " u'haliew',\n",
       " u'ajabasa',\n",
       " u'jnn015',\n",
       " u'dpereira',\n",
       " u'hmshah',\n",
       " u'dtea',\n",
       " u'sthapa',\n",
       " u'kquong',\n",
       " u'vasharma',\n",
       " u'hpc001',\n",
       " u'syip',\n",
       " u'xweng',\n",
       " u'c3chung',\n",
       " u'ajvanega',\n",
       " u'jmiclat',\n",
       " u'mtrafeca',\n",
       " u'kgrozav',\n",
       " u'j2phung']"
      ]
     },
     "execution_count": 7,
     "metadata": {},
     "output_type": "execute_result"
    }
   ],
   "source": [
    "## It is a dictionary with student id as keys\n",
    "nothing_cluster.keys()"
   ]
  },
  {
   "cell_type": "code",
   "execution_count": 8,
   "metadata": {
    "collapsed": false
   },
   "outputs": [
    {
     "data": {
      "text/plain": [
       "{'part1_correct_attempt': [u'26**3', u'2015-10-06 06:18:37'],\n",
       " 'part2_correct_attempt': [u'25**3', u'2015-10-06 06:18:37'],\n",
       " 'part3_correct_attempt': [u'26**3-25**3', u'2015-10-07 14:47:00'],\n",
       " 'part3_incorrect_attempt': [(u'25*26**2', u'2015-10-06 06:18:37'),\n",
       "  (u'26**2', u'2015-10-06 06:19:07'),\n",
       "  (u'3*26**2', u'2015-10-06 06:19:55')]}"
      ]
     },
     "execution_count": 8,
     "metadata": {},
     "output_type": "execute_result"
    }
   ],
   "source": [
    "nothing_cluster['kvass']"
   ]
  },
  {
   "cell_type": "code",
   "execution_count": 9,
   "metadata": {
    "collapsed": false
   },
   "outputs": [
    {
     "data": {
      "text/plain": [
       "{'part1_correct_attempt': [u'26^5', u'2015-10-05 19:41:05'],\n",
       " 'part2_correct_attempt': [u'25^5', u'2015-10-05 19:41:05'],\n",
       " 'part3_correct_attempt': [u'26^5-25^5', u'2015-10-05 19:54:56'],\n",
       " 'part3_incorrect_attempt': [(u'25^4', u'2015-10-05 19:41:05'),\n",
       "  (u'26^4', u'2015-10-05 19:41:26'),\n",
       "  (u'4*(26^4)', u'2015-10-05 19:41:41'),\n",
       "  (u'5*(26^4)', u'2015-10-05 19:41:50'),\n",
       "  (u'5!*(26^4)', u'2015-10-05 19:45:28'),\n",
       "  (u'4*(26^4)', u'2015-10-05 19:53:28')]}"
      ]
     },
     "execution_count": 9,
     "metadata": {},
     "output_type": "execute_result"
    }
   ],
   "source": [
    "nothing_cluster['kbielawi']"
   ]
  },
  {
   "cell_type": "code",
   "execution_count": null,
   "metadata": {
    "collapsed": true
   },
   "outputs": [],
   "source": []
  }
 ],
 "metadata": {
  "kernelspec": {
   "display_name": "Python 2",
   "language": "python",
   "name": "python2"
  },
  "language_info": {
   "codemirror_mode": {
    "name": "ipython",
    "version": 2
   },
   "file_extension": ".py",
   "mimetype": "text/x-python",
   "name": "python",
   "nbconvert_exporter": "python",
   "pygments_lexer": "ipython2",
   "version": "2.7.9"
  }
 },
 "nbformat": 4,
 "nbformat_minor": 0
}
