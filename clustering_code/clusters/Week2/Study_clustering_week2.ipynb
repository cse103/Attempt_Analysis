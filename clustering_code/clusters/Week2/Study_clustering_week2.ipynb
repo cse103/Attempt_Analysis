{
 "cells": [
  {
   "cell_type": "code",
   "execution_count": 1,
   "metadata": {
    "collapsed": true
   },
   "outputs": [],
   "source": [
    "import pickle"
   ]
  },
  {
   "cell_type": "code",
   "execution_count": 2,
   "metadata": {
    "collapsed": true
   },
   "outputs": [],
   "source": [
    "cluster = pickle.load(open('Week2_13_cluster.pkl', 'rb'))"
   ]
  },
  {
   "cell_type": "code",
   "execution_count": 3,
   "metadata": {
    "collapsed": false
   },
   "outputs": [
    {
     "data": {
      "text/plain": [
       "[u'1', u'3', u'2', u'5', u'4']"
      ]
     },
     "execution_count": 3,
     "metadata": {},
     "output_type": "execute_result"
    }
   ],
   "source": [
    "##### Part number is keys #####\n",
    "cluster.keys()"
   ]
  },
  {
   "cell_type": "code",
   "execution_count": 4,
   "metadata": {
    "collapsed": false
   },
   "outputs": [
    {
     "data": {
      "text/plain": [
       "[\"[('R.0', 2.0, u'2', u'2')]\",\n",
       " \"[('R.0', 2.0, u'2', u'2'), ('R.1', 10.0, u'10', u'10')]\",\n",
       " \"[('R.1', 10.0, u'10', u'10!/9!')]\",\n",
       " \"[('R.1', 11.0, u'11', u'11')]\",\n",
       " 'Nothing',\n",
       " \"[('R.0', 2.0, u'2', u'2'), ('R.1', 11.0, u'11', u'11')]\",\n",
       " \"[('R.0', 2.0, u'2', u'2!')]\",\n",
       " \"[('R.1', 10.0, u'10', u'10')]\",\n",
       " \"[('R.0', 2.0, u'2', u'2!'), ('R.1', 11.0, u'11', u'11')]\",\n",
       " \"[('R.0', 2.0, u'2', u'2'), ('R.1', 9.0, u'9', u'9')]\",\n",
       " \"[('R.0', 2.0, u'2', u'(10-8)!'), ('R.1', 10.0, u'10', u'10')]\",\n",
       " \"[('R.1', 9.0, u'9', u'9')]\"]"
      ]
     },
     "execution_count": 4,
     "metadata": {},
     "output_type": "execute_result"
    }
   ],
   "source": [
    "##### Matching sub-expression as key in each part #####\n",
    "cluster['1'].keys()"
   ]
  },
  {
   "cell_type": "code",
   "execution_count": 7,
   "metadata": {
    "collapsed": false
   },
   "outputs": [
    {
     "data": {
      "text/plain": [
       "[u'10^2',\n",
       " u'10^2',\n",
       " u'2*10',\n",
       " u'(1/2)^10',\n",
       " u'10!/(10-2)!',\n",
       " u'10^2',\n",
       " u'10^2',\n",
       " u'10^2']"
      ]
     },
     "execution_count": 7,
     "metadata": {},
     "output_type": "execute_result"
    }
   ],
   "source": [
    "##### All attempts as value #####\n",
    "cluster['1'][\"[('R.0', 2.0, u'2', u'2'), ('R.1', 10.0, u'10', u'10')]\"]"
   ]
  },
  {
   "cell_type": "code",
   "execution_count": null,
   "metadata": {
    "collapsed": true
   },
   "outputs": [],
   "source": []
  }
 ],
 "metadata": {
  "kernelspec": {
   "display_name": "Python 2",
   "language": "python",
   "name": "python2"
  },
  "language_info": {
   "codemirror_mode": {
    "name": "ipython",
    "version": 2
   },
   "file_extension": ".py",
   "mimetype": "text/x-python",
   "name": "python",
   "nbconvert_exporter": "python",
   "pygments_lexer": "ipython2",
   "version": "2.7.9"
  }
 },
 "nbformat": 4,
 "nbformat_minor": 0
}
