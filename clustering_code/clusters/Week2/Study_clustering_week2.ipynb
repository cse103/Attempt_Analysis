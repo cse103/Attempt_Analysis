{
 "cells": [
  {
   "cell_type": "code",
   "execution_count": 2,
   "metadata": {
    "collapsed": true
   },
   "outputs": [],
   "source": [
    "import pickle"
   ]
  },
  {
   "cell_type": "code",
   "execution_count": 3,
   "metadata": {
    "collapsed": false
   },
   "outputs": [],
   "source": [
    "cluster = pickle.load(open('Week2_5_cluster.pkl', 'rb'))"
   ]
  },
  {
   "cell_type": "code",
   "execution_count": 4,
   "metadata": {
    "collapsed": false
   },
   "outputs": [
    {
     "data": {
      "text/plain": [
       "[u'1', u'2']"
      ]
     },
     "execution_count": 4,
     "metadata": {},
     "output_type": "execute_result"
    }
   ],
   "source": [
    "##### Part number is keys #####\n",
    "cluster.keys()"
   ]
  },
  {
   "cell_type": "code",
   "execution_count": 13,
   "metadata": {
    "collapsed": false
   },
   "outputs": [
    {
     "data": {
      "text/plain": [
       "[\"[('R', 6.0, u'3*2', u'3!')]\",\n",
       " \"[('R.0', 2.0, u'2', u'2'), ('R.1', 10.0, u'10', u'10')]\",\n",
       " \"[('R.0', 3.0, u'3', u'3')]\",\n",
       " 'Nothing',\n",
       " \"[('R', 6.0, u'3*2', u'C(3,1)*C(2,1)')]\",\n",
       " \"[('R', 6.0, u'3*2', u'6')]\"]"
      ]
     },
     "execution_count": 13,
     "metadata": {},
     "output_type": "execute_result"
    }
   ],
   "source": [
    "##### Matching sub-expression as key in each part #####\n",
    "types_of_mistakes=cluster['1'].keys()\n",
    "types_of_mistakes"
   ]
  },
  {
   "cell_type": "code",
   "execution_count": 14,
   "metadata": {
    "collapsed": false
   },
   "outputs": [
    {
     "name": "stdout",
     "output_type": "stream",
     "text": [
      "[('R', 6.0, u'3*2', u'3!')]\n"
     ]
    },
    {
     "data": {
      "text/plain": [
       "[u'3!*2!', u'3!2!', u'5!/(3!*2!)', u'3!*2!', u'5!/3!', u'5!/(3!2!)', u'3!2!']"
      ]
     },
     "execution_count": 14,
     "metadata": {},
     "output_type": "execute_result"
    }
   ],
   "source": [
    "##### All attempts as value #####\n",
    "mistake_type=types_of_mistakes[0]\n",
    "print mistake_type\n",
    "cluster['1'][mistake_type]"
   ]
  },
  {
   "cell_type": "code",
   "execution_count": 22,
   "metadata": {
    "collapsed": false
   },
   "outputs": [],
   "source": [
    "Hint={}\n",
    "Hint['1']={}\n",
    "Hint['1'][mistake_type]=\\\n",
    "\"\"\"\n",
    "Which of the following expressions corresponds to $3!$ ?\n",
    "(a) The number of types of sandwiches\n",
    "(b) The number of ways to order three types of sandwiches from best to worst\n",
    "(c) The number of ways three different people can order a sandwich.\n",
    "\n",
    "[Correct answer is (b)]\n",
    "\"\"\"\n",
    "\n"
   ]
  },
  {
   "cell_type": "code",
   "execution_count": 20,
   "metadata": {
    "collapsed": false
   },
   "outputs": [
    {
     "name": "stdout",
     "output_type": "stream",
     "text": [
      "0 signature= [('R', 6.0, u'3*2', u'3!')]\n",
      "examples= [u'3!*2!', u'3!2!', u'5!/(3!*2!)', u'3!*2!', u'5!/3!', u'5!/(3!2!)', u'3!2!']\n",
      "1 signature= [('R.0', 2.0, u'2', u'2'), ('R.1', 10.0, u'10', u'10')]\n",
      "examples= []\n",
      "2 signature= [('R.0', 3.0, u'3', u'3')]\n",
      "examples= [u'3*3']\n",
      "3 signature= Nothing\n",
      "examples= [u'110', u'9', u'5!', u'5', u'19', u'9', u'12', u'8', u'9', u'8', u'5!', u'15', u'20', u'8', u'9', u'8', u'8', u'140', u'8', u'8', u'8', u'7!/5!', u'5', u'9', u'8', u'9', u'12']\n",
      "4 signature= [('R', 6.0, u'3*2', u'C(3,1)*C(2,1)')]\n",
      "examples= [u'C(3,1)*C(2,1)']\n",
      "5 signature= [('R', 6.0, u'3*2', u'6')]\n",
      "examples= [u'1/6']\n"
     ]
    }
   ],
   "source": [
    "##### All attempts as value #####\n",
    "for i in range(len(types_of_mistakes)):\n",
    "    mistake_type=types_of_mistakes[i]\n",
    "    print i, 'signature=',mistake_type\n",
    "    print 'examples=',cluster['1'][mistake_type]"
   ]
  },
  {
   "cell_type": "markdown",
   "metadata": {},
   "source": [
    "For signature [('R.0', 2.0, u'2', u'2'), ('R.1', 10.0, u'10', u'10')] there list of examples is empty?"
   ]
  },
  {
   "cell_type": "code",
   "execution_count": 23,
   "metadata": {
    "collapsed": false
   },
   "outputs": [],
   "source": [
    "Hint['1'][types_of_mistakes[2]]=\\\n",
    "\"\"\"\n",
    "How many types of fruit are there?\n",
    "{answer: 2}\n",
    "\"\"\""
   ]
  },
  {
   "cell_type": "code",
   "execution_count": 24,
   "metadata": {
    "collapsed": true
   },
   "outputs": [],
   "source": [
    "Hint['1'][types_of_mistakes[3]]=\\\n",
    "\"\"\"\n",
    "If answer is a a number give the hint \"Please type an expression\"\n",
    "\"\"\""
   ]
  },
  {
   "cell_type": "code",
   "execution_count": null,
   "metadata": {
    "collapsed": true
   },
   "outputs": [],
   "source": [
    "Hint['1'][types_of_mistakes[4]]=\\\n",
    "\"\"\"\n",
    "Correct answer, can be written more simply as 3*2\n",
    "\"\"\""
   ]
  },
  {
   "cell_type": "code",
   "execution_count": null,
   "metadata": {
    "collapsed": true
   },
   "outputs": [],
   "source": [
    "Hint['1'][types_of_mistakes[5]]=\\\n",
    "\"\"\"\n",
    "Can the number of choices be fractional? (answer: no)\n",
    "\"\"\""
   ]
  },
  {
   "cell_type": "markdown",
   "metadata": {},
   "source": [
    "### Need to correct for user variables\n",
    "The answer the prblem 5 part 2 is $a*2*$n, so the same mistake will look different for different setting of $a and $n. However, the *location* of the match in the right answer will be the same. In other words, the three R.0 answeres should be grouped together and the three R.0.0 should be grouped together."
   ]
  },
  {
   "cell_type": "code",
   "execution_count": 25,
   "metadata": {
    "collapsed": false
   },
   "outputs": [
    {
     "data": {
      "text/plain": [
       "[\"[('R.0', 24.0, u'12*2', u'24')]\",\n",
       " \"[('R.0', 22.0, u'11*2', u'22')]\",\n",
       " \"[('R.1', 3.0, u'3', u'3')]\",\n",
       " \"[('R.0.0', 10.0, u'10', u'10'), ('R.0.1', 2.0, u'2', u'2'), ('R.1', 4.0, u'4', u'4')]\",\n",
       " \"[('R.0.0', 11.0, u'11', u'11'), ('R.1', 4.0, u'4', u'4')]\",\n",
       " \"[('R.0.0', 10.0, u'10', u'10'), ('R.1', 3.0, u'3', u'3')]\",\n",
       " \"[('R.0', 26.0, u'13*2', u'26')]\",\n",
       " 'Nothing']"
      ]
     },
     "execution_count": 25,
     "metadata": {},
     "output_type": "execute_result"
    }
   ],
   "source": [
    "##### Matching sub-expression as key in each part #####\n",
    "types_of_mistakes=cluster['2'].keys()\n",
    "types_of_mistakes"
   ]
  },
  {
   "cell_type": "markdown",
   "metadata": {},
   "source": [
    "### Jumping to Question 14\n"
   ]
  },
  {
   "cell_type": "code",
   "execution_count": 29,
   "metadata": {
    "collapsed": false
   },
   "outputs": [
    {
     "data": {
      "text/plain": [
       "[u'1', u'3', u'2']"
      ]
     },
     "execution_count": 29,
     "metadata": {},
     "output_type": "execute_result"
    }
   ],
   "source": [
    "cluster = pickle.load(open('Week2_14_cluster.pkl', 'rb'))\n",
    "cluster.keys()"
   ]
  },
  {
   "cell_type": "code",
   "execution_count": 30,
   "metadata": {
    "collapsed": false
   },
   "outputs": [
    {
     "data": {
      "text/plain": [
       "[\"[('R', 17576.0, u'26^3', u'26^3')]\",\n",
       " \"[('R.0', 26.0, u'26', u'26')]\",\n",
       " \"[('R.1', 6.0, u'6', u'6')]\",\n",
       " \"[('R.1', 4.0, u'4', u'4')]\",\n",
       " \"[('R.0', 26.0, u'26', u'26'), ('R.1', 6.0, u'6', u'6')]\",\n",
       " \"[('R', 11881376.0, u'26^5', u'26^5')]\",\n",
       " \"[('R.0', 26.0, u'26', u'26'), ('R.1', 4.0, u'4', u'4')]\",\n",
       " \"[('R.1', 5.0, u'5', u'5')]\",\n",
       " \"[('R.0', 26.0, u'26', u'26'), ('R.1', 3.0, u'3', u'3')]\",\n",
       " 'Nothing',\n",
       " \"[('R.0', 26.0, u'26', u'26'), ('R.1', 5.0, u'5', u'5')]\"]"
      ]
     },
     "execution_count": 30,
     "metadata": {},
     "output_type": "execute_result"
    }
   ],
   "source": [
    "##### Matching sub-expression as key in each part #####\n",
    "types_of_mistakes=cluster['1'].keys()\n",
    "types_of_mistakes"
   ]
  },
  {
   "cell_type": "markdown",
   "metadata": {},
   "source": [
    "### General Filters\n",
    "\n",
    "* If signature is 'R' then the answer is correct, we don't need to give a hint.\n",
    "* Group answers according to signature (see \"need to correct for user variables\" above.\n",
    "* If answer is not an expression: give automatic hint \"please write an expression\".\n",
    "* If expression matches two subexpression (example R.0, and R.1) then add it to both the R.0 list and the R.1 list\n",
    "* The keys to cluster (say cluster['1']) should be just \"R.0\" or \"R.1.1\", ther rest of the information should be in the corresponding list. Having also the variable values would help'"
   ]
  },
  {
   "cell_type": "code",
   "execution_count": 31,
   "metadata": {
    "collapsed": false
   },
   "outputs": [
    {
     "data": {
      "text/plain": [
       "[\"[('R.0.0', 26.0, u'26', u'1 * 26 * 1'), ('R.1.0', 25.0, u'25', u'25'), ('R.1.1', 3.0, u'3', u'3!/(2!*1!)')]\",\n",
       " \"[('R.0.0', 26.0, u'26', u'26^1')]\",\n",
       " \"[('R.1.1', 4.0, u'4', u'4*1')]\",\n",
       " \"[('R.0', 456976.0, u'26^4', u'26^4'), ('R.1', 390625.0, u'25^4', u'25^4')]\",\n",
       " \"[('R.1', 15625.0, u'25^3', u'25*25*25')]\",\n",
       " \"[('R.0.0', 26.0, u'26', u'1 * 26'), ('R.1.1', 3.0, u'3', u'3!/2!*1!')]\",\n",
       " \"[('R.0', 456976.0, u'26^4', u'26^4'), ('R.1.1', 4.0, u'4', u'4')]\",\n",
       " \"[('R.0', 17576.0, u'26^3', u'17576'), ('R.1', 15625.0, u'25^3', u'15625')]\",\n",
       " \"[('R.0', 17576.0, u'26^3', u'26*26*26'), ('R.1.0', 25.0, u'25', u'25')]\",\n",
       " \"[('R', 64775151.0, u'26^6-25^6', u'26^6 - 25^6')]\",\n",
       " \"[('R.1.0', 25.0, u'25', u'25')]\",\n",
       " \"[('R.0.0', 26.0, u'26', u'26'), ('R.1.1', 3.0, u'3', u'3')]\",\n",
       " \"[('R.0.0', 26.0, u'26', u'(26!)/(1!*(25!))'), ('R.1.0', 25.0, u'25', u'25')]\",\n",
       " \"[('R', 64775151.0, u'26^6-25^6', u'26^6-25^6')]\",\n",
       " \"[('R', 2115751.0, u'26^5-25^5', u'2115751')]\",\n",
       " \"[('R.0.0', 26.0, u'26', u'26')]\",\n",
       " \"[('R.1.1', 5.0, u'5', u'5')]\",\n",
       " \"[('R', 66351.0, u'26^4-25^4', u'(26^4)-(25^4)')]\",\n",
       " \"[('R.1.0', 25.0, u'25', u'1*25'), ('R.1.1', 3.0, u'3', u'3!/(2!*1!)')]\",\n",
       " \"[('R.0.0', 26.0, u'26', u'26'), ('R.1.0', 25.0, u'25', u'25'), ('R.1.1', 4.0, u'4', u'4')]\",\n",
       " \"[('R.0', 456976.0, u'26^4', u'26**4'), ('R.1', 390625.0, u'25^4', u'25**4')]\",\n",
       " \"[('R.0.0', 26.0, u'26', u'26'), ('R.1.0', 25.0, u'25', u'25'), ('R.1.1', 5.0, u'5', u'26*5-25*5')]\",\n",
       " \"[('R.0', 11881376.0, u'26^5', u'26^5'), ('R.1.0', 25.0, u'25', u'25'), ('R.1.1', 5.0, u'5', u'5')]\",\n",
       " \"[('R.1.1', 3.0, u'3', u'3')]\",\n",
       " \"[('R.1', 390625.0, u'25^4', u'25*25*25*25')]\",\n",
       " \"[('R.0.0', 26.0, u'26', u'26!/[25!]'), ('R.1.0', 25.0, u'25', u'25')]\",\n",
       " \"[('R.1', 9765625.0, u'25^5', u'25**5')]\",\n",
       " \"[('R.1.0', 25.0, u'25', u'25^1'), ('R.1.1', 6.0, u'6', u'6')]\",\n",
       " \"[('R.1.0', 25.0, u'25', u'25'), ('R.1.1', 6.0, u'6', u'6')]\",\n",
       " 'Nothing',\n",
       " \"[('R.0', 308915776.0, u'26^6', u'26^6'), ('R.1', 244140625.0, u'25^6', u'25^6')]\",\n",
       " \"[('R.0', 308915776.0, u'26^6', u'26^6'), ('R.1.1', 6.0, u'6', u'3!')]\",\n",
       " \"[('R.0.0', 26.0, u'26', u'26'), ('R.1.0', 25.0, u'25', u'25'), ('R.1.1', 5.0, u'5', u'5')]\",\n",
       " \"[('R.0.0', 26.0, u'26', u'1*26')]\",\n",
       " \"[('R.0.0', 26.0, u'26', u'26'), ('R.1', 9765625.0, u'25^5', u'25^5')]\",\n",
       " \"[('R.1', 244140625.0, u'25^6', u'244140625')]\",\n",
       " \"[('R.0.0', 26.0, u'26', u'1 * 26'), ('R.1.1', 3.0, u'3', u'3')]\",\n",
       " \"[('R.0.0', 26.0, u'26', u'26'), ('R.1.1', 5.0, u'5', u'5!/(4!)')]\",\n",
       " \"[('R.1', 15625.0, u'25^3', u'25**3')]\",\n",
       " \"[('R.0.0', 26.0, u'26', u'1 * 26')]\",\n",
       " \"[('R.0.0', 26.0, u'26', u'26'), ('R.1.1', 5.0, u'5', u'5')]\",\n",
       " \"[('R.0.0', 26.0, u'26', u'26!/((1!)*(25!))'), ('R.1.0', 25.0, u'25', u'25')]\",\n",
       " \"[('R.0', 308915776.0, u'26^6', u'26^5*26')]\",\n",
       " \"[('R.0.0', 26.0, u'26', u'1*26'), ('R.1.1', 3.0, u'3', u'3')]\",\n",
       " \"[('R.1.0', 25.0, u'25', u'25'), ('R.1.1', 4.0, u'4', u'4')]\",\n",
       " \"[('R.0', 456976.0, u'26^4', u'26^4'), ('R.1.0', 25.0, u'25', u'25'), ('R.1.1', 4.0, u'4', u'4')]\",\n",
       " \"[('R.0', 11881376.0, u'26^5', u'26^5'), ('R.1.1', 5.0, u'5', u'5')]\",\n",
       " \"[('R.0', 17576.0, u'26^3', u'17576')]\",\n",
       " \"[('R.0.0', 26.0, u'26', u'26'), ('R.1.1', 4.0, u'4', u'4*1')]\",\n",
       " \"[('R.0.0', 26.0, u'26', u'1 * 1 * 26'), ('R.1.0', 25.0, u'25', u'25'), ('R.1.1', 3.0, u'3', u'1 * 1 * 1 * (3!/(2!*1!))')]\",\n",
       " \"[('R.0', 11881376.0, u'26^5', u'11881376'), ('R.1', 9765625.0, u'25^5', u'9765625')]\",\n",
       " \"[('R.1', 15625.0, u'25^3', u'(1*25*1)^3')]\",\n",
       " \"[('R.0.0', 26.0, u'26', u'26'), ('R.1.0', 25.0, u'25', u'25'), ('R.1.1', 3.0, u'3', u'3')]\",\n",
       " \"[('R.0.0', 26.0, u'26', u'26'), ('R.1.1', 4.0, u'4', u'4')]\",\n",
       " \"[('R.1', 9765625.0, u'25^5', u'25^5')]\",\n",
       " \"[('R.0', 17576.0, u'26^3', u'26^3'), ('R.1.0', 25.0, u'25', u'25'), ('R.1.1', 3.0, u'3', u'3')]\",\n",
       " \"[('R.1', 244140625.0, u'25^6', u'25^6')]\",\n",
       " \"[('R.0', 17576.0, u'26^3', u'26*26*26')]\",\n",
       " \"[('R.1.0', 25.0, u'25', u'25'), ('R.1.1', 6.0, u'6', u'6!/5!')]\",\n",
       " \"[('R.0', 308915776.0, u'26^6', u'308915770')]\",\n",
       " \"[('R.0', 456976.0, u'26^4', u'(26!)/(1!*(25!)) * 26^3'), ('R.1.0', 25.0, u'25', u'25')]\",\n",
       " \"[('R.0.0', 26.0, u'26', u'26!/(26-1)!'), ('R.1.0', 25.0, u'25', u'26-1')]\",\n",
       " \"[('R.1', 390625.0, u'25^4', u'25^4')]\",\n",
       " \"[('R.0', 11881376.0, u'26^5', u'26^5'), ('R.1', 9765625.0, u'25^5', u'25^5')]\",\n",
       " \"[('R.1.0', 25.0, u'25', u'25^1')]\",\n",
       " \"[('R.0', 17576.0, u'26^3', u'26*26*26'), ('R.1.1', 3.0, u'3', u'3')]\",\n",
       " \"[('R.0.0', 26.0, u'26', u'26!/((25!))'), ('R.1.0', 25.0, u'25', u'25')]\",\n",
       " \"[('R.0.0', 26.0, u'26', u'26'), ('R.1.1', 4.0, u'4', u'C(4,1)')]\",\n",
       " \"[('R.0.0', 26.0, u'26', u'26'), ('R.1.0', 25.0, u'25', u'25'), ('R.1.1', 6.0, u'6', u'6')]\",\n",
       " \"[('R.0.0', 26.0, u'26', u'26'), ('R.1.1', 4.0, u'4', u'C(4,3)')]\",\n",
       " \"[('R.1.0', 25.0, u'25', u'25'), ('R.1.1', 3.0, u'3', u'3')]\",\n",
       " \"[('R.0', 308915776.0, u'26^6', u'26^6'), ('R.1.1', 6.0, u'6', u'6')]\",\n",
       " \"[('R.0.0', 26.0, u'26', u'26'), ('R.1.0', 25.0, u'25', u'25')]\",\n",
       " \"[('R.0.0', 26.0, u'26', u'26'), ('R.1.1', 6.0, u'6', u'6')]\",\n",
       " \"[('R.0', 308915776.0, u'26^6', u'26^6'), ('R.1.0', 25.0, u'25', u'25'), ('R.1.1', 6.0, u'6', u'6')]\",\n",
       " \"[('R.1.0', 25.0, u'25', u'1*25')]\",\n",
       " \"[('R.0.0', 26.0, u'26', u'26'), ('R.1', 390625.0, u'25^4', u'25^4')]\",\n",
       " \"[('R.0.0', 26.0, u'26', u'1 * 26 * 1'), ('R.1.0', 25.0, u'25', u'25'), ('R.1.1', 3.0, u'3', u'3!/2!*1!')]\",\n",
       " \"[('R.1.0', 25.0, u'25', u'1 * 1 * 25'), ('R.1.1', 3.0, u'3', u'1 * 1 * 1 * (3!/(2!*1!))')]\",\n",
       " \"[('R.1.0', 25.0, u'25', u'25'), ('R.1.1', 5.0, u'5', u'5')]\",\n",
       " \"[('R.0.0', 26.0, u'26', u'26'), ('R.1.1', 5.0, u'5', u'(5!)/(4!(5-4)!)')]\",\n",
       " \"[('R.0', 17576.0, u'26^3', u'26^3'), ('R.1.1', 3.0, u'3', u'3')]\",\n",
       " \"[('R', 1951.0, u'26^3-25^3', u'1951')]\",\n",
       " \"[('R', 2115751.0, u'26^5-25^5', u'26^5-25^5')]\",\n",
       " \"[('R.1.1', 6.0, u'6', u'6!/5!')]\",\n",
       " \"[('R.1.1', 6.0, u'6', u'6')]\",\n",
       " \"[('R.0.0', 26.0, u'26', u'26'), ('R.1.0', 25.0, u'25', u'1*25'), ('R.1.1', 3.0, u'3', u'3')]\",\n",
       " \"[('R.1.1', 4.0, u'4', u'4')]\"]"
      ]
     },
     "execution_count": 31,
     "metadata": {},
     "output_type": "execute_result"
    }
   ],
   "source": [
    "##### Matching sub-expression as key in each part #####\n",
    "types_of_mistakes=cluster['3'].keys()\n",
    "types_of_mistakes"
   ]
  },
  {
   "cell_type": "code",
   "execution_count": 38,
   "metadata": {
    "collapsed": false
   },
   "outputs": [
    {
     "name": "stdout",
     "output_type": "stream",
     "text": [
      "[('R.0.0', 26.0, u'26', u'1 * 26 * 1'), ('R.1.0', 25.0, u'25', u'25'), ('R.1.1', 3.0, u'3', u'3!/(2!*1!)')] [('R.0.0', 26.0, u'26', u'1 * 26 * 1'), ('R.1.0', 25.0, u'25', u'25'), ('R.1.1', 3.0, u'3', u'3!/(2!*1!)')]\n",
      "[('R.0.0', 26.0, u'26', u'26^1')] [('R.0.0', 26.0, u'26', u'26^1')]\n",
      "[('R.1.1', 4.0, u'4', u'4*1')] [('R.1.1', 4.0, u'4', u'4*1')]\n",
      "[('R.0', 456976.0, u'26^4', u'26^4'), ('R.1', 390625.0, u'25^4', u'25^4')] [('R.0', 456976.0, u'26^4', u'26^4'), ('R.1', 390625.0, u'25^4', u'25^4')]\n",
      "[('R.1', 15625.0, u'25^3', u'25*25*25')] [('R.1', 15625.0, u'25^3', u'25*25*25')]\n",
      "[('R.0.0', 26.0, u'26', u'1 * 26'), ('R.1.1', 3.0, u'3', u'3!/2!*1!')] [('R.0.0', 26.0, u'26', u'1 * 26'), ('R.1.1', 3.0, u'3', u'3!/2!*1!')]\n",
      "[('R.0', 456976.0, u'26^4', u'26^4'), ('R.1.1', 4.0, u'4', u'4')] [('R.0', 456976.0, u'26^4', u'26^4'), ('R.1.1', 4.0, u'4', u'4')]\n",
      "[('R.0', 17576.0, u'26^3', u'17576'), ('R.1', 15625.0, u'25^3', u'15625')] [('R.0', 17576.0, u'26^3', u'17576'), ('R.1', 15625.0, u'25^3', u'15625')]\n",
      "[('R.0', 17576.0, u'26^3', u'26*26*26'), ('R.1.0', 25.0, u'25', u'25')] [('R.0', 17576.0, u'26^3', u'26*26*26'), ('R.1.0', 25.0, u'25', u'25')]\n",
      "[('R', 64775151.0, u'26^6-25^6', u'26^6 - 25^6')] [('R', 64775151.0, u'26^6-25^6', u'26^6 - 25^6')]\n",
      "[('R.1.0', 25.0, u'25', u'25')] [('R.1.0', 25.0, u'25', u'25')]\n",
      "[('R.0.0', 26.0, u'26', u'26'), ('R.1.1', 3.0, u'3', u'3')] [('R.0.0', 26.0, u'26', u'26'), ('R.1.1', 3.0, u'3', u'3')]\n",
      "[('R.0.0', 26.0, u'26', u'(26!)/(1!*(25!))'), ('R.1.0', 25.0, u'25', u'25')] [('R.0.0', 26.0, u'26', u'(26!)/(1!*(25!))'), ('R.1.0', 25.0, u'25', u'25')]\n",
      "[('R', 64775151.0, u'26^6-25^6', u'26^6-25^6')] [('R', 64775151.0, u'26^6-25^6', u'26^6-25^6')]\n",
      "[('R', 2115751.0, u'26^5-25^5', u'2115751')] [('R', 2115751.0, u'26^5-25^5', u'2115751')]\n",
      "[('R.0.0', 26.0, u'26', u'26')] [('R.0.0', 26.0, u'26', u'26')]\n",
      "[('R.1.1', 5.0, u'5', u'5')] [('R.1.1', 5.0, u'5', u'5')]\n",
      "[('R', 66351.0, u'26^4-25^4', u'(26^4)-(25^4)')] [('R', 66351.0, u'26^4-25^4', u'(26^4)-(25^4)')]\n",
      "[('R.1.0', 25.0, u'25', u'1*25'), ('R.1.1', 3.0, u'3', u'3!/(2!*1!)')] [('R.1.0', 25.0, u'25', u'1*25'), ('R.1.1', 3.0, u'3', u'3!/(2!*1!)')]\n",
      "[('R.0.0', 26.0, u'26', u'26'), ('R.1.0', 25.0, u'25', u'25'), ('R.1.1', 4.0, u'4', u'4')] [('R.0.0', 26.0, u'26', u'26'), ('R.1.0', 25.0, u'25', u'25'), ('R.1.1', 4.0, u'4', u'4')]\n",
      "[('R.0', 456976.0, u'26^4', u'26**4'), ('R.1', 390625.0, u'25^4', u'25**4')] [('R.0', 456976.0, u'26^4', u'26**4'), ('R.1', 390625.0, u'25^4', u'25**4')]\n",
      "[('R.0.0', 26.0, u'26', u'26'), ('R.1.0', 25.0, u'25', u'25'), ('R.1.1', 5.0, u'5', u'26*5-25*5')] [('R.0.0', 26.0, u'26', u'26'), ('R.1.0', 25.0, u'25', u'25'), ('R.1.1', 5.0, u'5', u'26*5-25*5')]\n",
      "[('R.0', 11881376.0, u'26^5', u'26^5'), ('R.1.0', 25.0, u'25', u'25'), ('R.1.1', 5.0, u'5', u'5')] [('R.0', 11881376.0, u'26^5', u'26^5'), ('R.1.0', 25.0, u'25', u'25'), ('R.1.1', 5.0, u'5', u'5')]\n",
      "[('R.1.1', 3.0, u'3', u'3')] [('R.1.1', 3.0, u'3', u'3')]\n",
      "[('R.1', 390625.0, u'25^4', u'25*25*25*25')] [('R.1', 390625.0, u'25^4', u'25*25*25*25')]\n",
      "[('R.0.0', 26.0, u'26', u'26!/[25!]'), ('R.1.0', 25.0, u'25', u'25')] [('R.0.0', 26.0, u'26', u'26!/[25!]'), ('R.1.0', 25.0, u'25', u'25')]\n",
      "[('R.1', 9765625.0, u'25^5', u'25**5')] [('R.1', 9765625.0, u'25^5', u'25**5')]\n",
      "[('R.1.0', 25.0, u'25', u'25^1'), ('R.1.1', 6.0, u'6', u'6')] [('R.1.0', 25.0, u'25', u'25^1'), ('R.1.1', 6.0, u'6', u'6')]\n",
      "[('R.1.0', 25.0, u'25', u'25'), ('R.1.1', 6.0, u'6', u'6')] [('R.1.0', 25.0, u'25', u'25'), ('R.1.1', 6.0, u'6', u'6')]\n"
     ]
    },
    {
     "ename": "NameError",
     "evalue": "name 'Nothing' is not defined",
     "output_type": "error",
     "traceback": [
      "\u001b[0;31m---------------------------------------------------------------------------\u001b[0m",
      "\u001b[0;31mNameError\u001b[0m                                 Traceback (most recent call last)",
      "\u001b[0;32m<ipython-input-38-b697bd403999>\u001b[0m in \u001b[0;36m<module>\u001b[0;34m()\u001b[0m\n\u001b[1;32m      1\u001b[0m \u001b[0;32mfor\u001b[0m \u001b[0me\u001b[0m \u001b[0;32min\u001b[0m \u001b[0mtypes_of_mistakes\u001b[0m\u001b[0;34m:\u001b[0m\u001b[0;34m\u001b[0m\u001b[0m\n\u001b[0;32m----> 2\u001b[0;31m     \u001b[0mx\u001b[0m\u001b[0;34m=\u001b[0m\u001b[0meval\u001b[0m\u001b[0;34m(\u001b[0m\u001b[0me\u001b[0m\u001b[0;34m)\u001b[0m\u001b[0;34m\u001b[0m\u001b[0m\n\u001b[0m\u001b[1;32m      3\u001b[0m     \u001b[0;32mprint\u001b[0m \u001b[0mx\u001b[0m\u001b[0;34m,\u001b[0m\u001b[0me\u001b[0m\u001b[0;34m\u001b[0m\u001b[0m\n",
      "\u001b[0;32m<string>\u001b[0m in \u001b[0;36m<module>\u001b[0;34m()\u001b[0m\n",
      "\u001b[0;31mNameError\u001b[0m: name 'Nothing' is not defined"
     ]
    }
   ],
   "source": [
    "for t in types_of_mistakes:\n",
    "    sig=eval(t)\n",
    "    "
   ]
  },
  {
   "cell_type": "code",
   "execution_count": 37,
   "metadata": {
    "collapsed": false
   },
   "outputs": [
    {
     "data": {
      "text/plain": [
       "[('R.1.1', 4.0, u'4', u'4')]"
      ]
     },
     "execution_count": 37,
     "metadata": {},
     "output_type": "execute_result"
    }
   ],
   "source": [
    "eval(\"[('R.1.1', 4.0, u'4', u'4')]\")"
   ]
  },
  {
   "cell_type": "code",
   "execution_count": 42,
   "metadata": {
    "collapsed": false
   },
   "outputs": [
    {
     "name": "stdout",
     "output_type": "stream",
     "text": [
      "\u001b[H\u001b[2J"
     ]
    }
   ],
   "source": [
    "clear(type)"
   ]
  },
  {
   "cell_type": "code",
   "execution_count": 43,
   "metadata": {
    "collapsed": false
   },
   "outputs": [
    {
     "ename": "TypeError",
     "evalue": "'str' object is not callable",
     "output_type": "error",
     "traceback": [
      "\u001b[0;31m---------------------------------------------------------------------------\u001b[0m",
      "\u001b[0;31mTypeError\u001b[0m                                 Traceback (most recent call last)",
      "\u001b[0;32m<ipython-input-43-d38575372119>\u001b[0m in \u001b[0;36m<module>\u001b[0;34m()\u001b[0m\n\u001b[0;32m----> 1\u001b[0;31m \u001b[0mtype\u001b[0m\u001b[0;34m(\u001b[0m\u001b[0;36m55\u001b[0m\u001b[0;34m)\u001b[0m\u001b[0;34m\u001b[0m\u001b[0m\n\u001b[0m",
      "\u001b[0;31mTypeError\u001b[0m: 'str' object is not callable"
     ]
    }
   ],
   "source": [
    "type(55)"
   ]
  },
  {
   "cell_type": "code",
   "execution_count": null,
   "metadata": {
    "collapsed": true
   },
   "outputs": [],
   "source": []
  }
 ],
 "metadata": {
  "kernelspec": {
   "display_name": "Python 2",
   "language": "python",
   "name": "python2"
  },
  "language_info": {
   "codemirror_mode": {
    "name": "ipython",
    "version": 2
   },
   "file_extension": ".py",
   "mimetype": "text/x-python",
   "name": "python",
   "nbconvert_exporter": "python",
   "pygments_lexer": "ipython2",
   "version": "2.7.11"
  }
 },
 "nbformat": 4,
 "nbformat_minor": 0
}
