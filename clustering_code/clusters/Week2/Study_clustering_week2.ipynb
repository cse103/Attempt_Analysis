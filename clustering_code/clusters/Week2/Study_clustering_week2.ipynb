{
 "cells": [
  {
   "cell_type": "code",
   "execution_count": 9,
   "metadata": {
    "collapsed": true
   },
   "outputs": [],
   "source": [
    "import pickle\n",
    "from pandas import DataFrame\n",
    "from collections import defaultdict"
   ]
  },
  {
   "cell_type": "code",
   "execution_count": 10,
   "metadata": {
    "collapsed": true
   },
   "outputs": [],
   "source": [
    "part_id='3'\n",
    "problem_id = '14'"
   ]
  },
  {
   "cell_type": "code",
   "execution_count": 3,
   "metadata": {
    "collapsed": false
   },
   "outputs": [
    {
     "data": {
      "text/plain": [
       "[u'1', u'3', u'2']"
      ]
     },
     "execution_count": 3,
     "metadata": {},
     "output_type": "execute_result"
    }
   ],
   "source": [
    "cluster = pickle.load(open('Week2_'+problem_id+'_cluster.pkl', 'rb'))\n",
    "\n",
    "##### Part number as keys #####\n",
    "cluster.keys()"
   ]
  },
  {
   "cell_type": "code",
   "execution_count": 4,
   "metadata": {
    "collapsed": false
   },
   "outputs": [
    {
     "data": {
      "text/plain": [
       "['Digits',\n",
       " \"['R.0.0']\",\n",
       " \"['R.1.0']\",\n",
       " 'redirect',\n",
       " \"['R.1']\",\n",
       " \"['R.1.1']\",\n",
       " \"['R.0.0', 'R.1']\",\n",
       " \"['R.0']\",\n",
       " 'Wrong_Sign',\n",
       " 'Fraction',\n",
       " \"['R.0', 'R.1.0']\",\n",
       " \"['R.0.0', 'R.1.0']\"]"
      ]
     },
     "execution_count": 4,
     "metadata": {},
     "output_type": "execute_result"
    }
   ],
   "source": [
    "##### Matching sub-expression as key in each part #####\n",
    "types_of_mistakes=cluster[part_id].keys()\n",
    "types_of_mistakes"
   ]
  },
  {
   "cell_type": "code",
   "execution_count": 5,
   "metadata": {
    "collapsed": false
   },
   "outputs": [
    {
     "data": {
      "text/plain": [
       "{'Digits': 86,\n",
       " 'Fraction': 46,\n",
       " 'Wrong_Sign': 43,\n",
       " \"['R.0', 'R.1.0']\": 5,\n",
       " \"['R.0']\": 32,\n",
       " \"['R.0.0', 'R.1']\": 3,\n",
       " \"['R.0.0', 'R.1.0']\": 2,\n",
       " \"['R.0.0']\": 137,\n",
       " \"['R.1']\": 4,\n",
       " \"['R.1.0']\": 25,\n",
       " \"['R.1.1']\": 5,\n",
       " 'redirect': 31}"
      ]
     },
     "execution_count": 5,
     "metadata": {},
     "output_type": "execute_result"
    }
   ],
   "source": [
    "p1_cluster_size = {}\n",
    "for t in types_of_mistakes:\n",
    "    p1_cluster_size[t] = len(cluster[part_id][t])\n",
    "p1_cluster_size"
   ]
  },
  {
   "cell_type": "code",
   "execution_count": 6,
   "metadata": {
    "collapsed": false
   },
   "outputs": [
    {
     "name": "stdout",
     "output_type": "stream",
     "text": [
      "['R.1']\n",
      "The size of this clustering:  4\n"
     ]
    },
    {
     "data": {
      "text/html": [
       "<div style=\"max-height:1000px;max-width:1500px;overflow:auto;\">\n",
       "<table border=\"1\" class=\"dataframe\">\n",
       "  <thead>\n",
       "    <tr style=\"text-align: right;\">\n",
       "      <th></th>\n",
       "      <th>Answer</th>\n",
       "      <th>Attempt</th>\n",
       "      <th>Matching sub-exp</th>\n",
       "    </tr>\n",
       "  </thead>\n",
       "  <tbody>\n",
       "    <tr>\n",
       "      <th>0</th>\n",
       "      <td> 26^4-25^4</td>\n",
       "      <td> (26*25*25*25)*25^4</td>\n",
       "      <td>    [(R.1, 390625.0, 25^4, 25^4)]</td>\n",
       "    </tr>\n",
       "    <tr>\n",
       "      <th>1</th>\n",
       "      <td> 26^6-25^6</td>\n",
       "      <td>             6*25^6</td>\n",
       "      <td> [(R.1, 244140625.0, 25^6, 25^6)]</td>\n",
       "    </tr>\n",
       "    <tr>\n",
       "      <th>2</th>\n",
       "      <td> 26^6-25^6</td>\n",
       "      <td>            6(25^6)</td>\n",
       "      <td> [(R.1, 244140625.0, 25^6, 25^6)]</td>\n",
       "    </tr>\n",
       "    <tr>\n",
       "      <th>3</th>\n",
       "      <td> 26^5-25^5</td>\n",
       "      <td>             5*25^5</td>\n",
       "      <td>   [(R.1, 9765625.0, 25^5, 25^5)]</td>\n",
       "    </tr>\n",
       "  </tbody>\n",
       "</table>\n",
       "</div>"
      ],
      "text/plain": [
       "      Answer             Attempt                  Matching sub-exp\n",
       "0  26^4-25^4  (26*25*25*25)*25^4     [(R.1, 390625.0, 25^4, 25^4)]\n",
       "1  26^6-25^6              6*25^6  [(R.1, 244140625.0, 25^6, 25^6)]\n",
       "2  26^6-25^6             6(25^6)  [(R.1, 244140625.0, 25^6, 25^6)]\n",
       "3  26^5-25^5              5*25^5    [(R.1, 9765625.0, 25^5, 25^5)]"
      ]
     },
     "execution_count": 6,
     "metadata": {},
     "output_type": "execute_result"
    }
   ],
   "source": [
    "mistake_type=\"['R.1']\"\n",
    "print mistake_type\n",
    "print \"The size of this clustering: \", len(cluster[part_id][mistake_type])\n",
    "DataFrame(cluster[part_id][mistake_type], columns=['Answer', 'Attempt', 'Matching sub-exp'])"
   ]
  },
  {
   "cell_type": "markdown",
   "metadata": {},
   "source": [
    "### Hint for mistake type R.0 \n",
    "(Week 2, Problem 14, part 3).\n",
    "\n",
    "\"You have correctly computed the number of unrestricted strings of length \\$n2, which is \n",
    "26^\\$n2. You now need to subtract the number of strings of length \\$n2 that do not contain the letter 'x'. What is the size of this set of strings?\n",
    "[25^\\$n2]\n",
    "(there is nothing special about 'x', you would get the same size if you did not allow any other letter.)\""
   ]
  },
  {
   "cell_type": "code",
   "execution_count": 7,
   "metadata": {
    "collapsed": true
   },
   "outputs": [],
   "source": [
    "Hint = {}\n",
    "Hint[\"['R.0']\"] = \"You have correctly computed the number of unrestricted strings of length \\$n2, which is 26^\\$n2. \\\n",
    "You now need to subtract the number of strings of length \\$n2 that do not contain the letter 'x'.\\\n",
    "What is the size of this set of strings?\\\n",
    "[25^\\$n2] \\\n",
    "(there is nothing special about 'x', you would get the same size if you did not allow any other letter.)\""
   ]
  },
  {
   "cell_type": "markdown",
   "metadata": {},
   "source": [
    "### Hints for mistake type R.1\n",
    "\n",
    "\"You have correctly calculated the number of strings of length \\$n2 which do not contain the letter 'x'. Now you need to subtract this number from the number of unrestricted strings of length \\$n2, which is?\n",
    "\n",
    "26^\\$n2\n",
    "\n",
    "### Other relevant hints\n",
    "\n",
    "these are relevant for any question about \"number of possibilities\" for which the answer must be a positive integer.\n",
    "\n",
    "* If the result s a negative number: \"can the number of possibilities be a negative number?\"\n",
    "\n",
    "* If the result is fractional: \"can the number of possibilities be fractional?\""
   ]
  },
  {
   "cell_type": "code",
   "execution_count": 8,
   "metadata": {
    "collapsed": true
   },
   "outputs": [],
   "source": [
    "Hint[\"['R.1']\"] = \"You have correctly calculated the number of strings of length \\$n2 \\\n",
    "which do not contain the letter 'x'. \\\n",
    "Now you need to subtract this number from the number of unrestricted strings of length \\$n2, which is? \\\n",
    "26^\\$n2\""
   ]
  },
  {
   "cell_type": "code",
   "execution_count": null,
   "metadata": {
    "collapsed": true
   },
   "outputs": [],
   "source": []
  },
  {
   "cell_type": "code",
   "execution_count": null,
   "metadata": {
    "collapsed": true
   },
   "outputs": [],
   "source": []
  },
  {
   "cell_type": "code",
   "execution_count": 93,
   "metadata": {
    "collapsed": false
   },
   "outputs": [],
   "source": [
    "#### Save hints into a pickle file\n",
    "pickle.dump(Hint, open('Week2_14_3_hint.pkl','wb'))"
   ]
  },
  {
   "cell_type": "code",
   "execution_count": null,
   "metadata": {
    "collapsed": true
   },
   "outputs": [],
   "source": []
  },
  {
   "cell_type": "code",
   "execution_count": null,
   "metadata": {
    "collapsed": true
   },
   "outputs": [],
   "source": []
  },
  {
   "cell_type": "markdown",
   "metadata": {
    "collapsed": true
   },
   "source": [
    "##### Not sure which problem are the following hints for"
   ]
  },
  {
   "cell_type": "code",
   "execution_count": 13,
   "metadata": {
    "collapsed": false
   },
   "outputs": [],
   "source": [
    "Hint={}\n",
    "Hint['1']={}\n",
    "Hint['1'][mistake_type]=\\\n",
    "\"\"\"\n",
    "Which of the following expressions corresponds to $3!$ ?\n",
    "(a) The number of types of sandwiches\n",
    "(b) The number of ways to order three types of sandwiches from best to worst\n",
    "(c) The number of ways three different people can order a sandwich.\n",
    "\n",
    "[Correct answer is (b)]\n",
    "\"\"\"\n",
    "\n"
   ]
  },
  {
   "cell_type": "code",
   "execution_count": 17,
   "metadata": {
    "collapsed": true
   },
   "outputs": [],
   "source": [
    "Hint['1'][types_of_mistakes[0]]=\\\n",
    "\"\"\"\n",
    "If answer is a a number give the hint \"Please type an expression\"\n",
    "\"\"\""
   ]
  },
  {
   "cell_type": "code",
   "execution_count": 19,
   "metadata": {
    "collapsed": false
   },
   "outputs": [],
   "source": [
    "Hint['1'][types_of_mistakes[3]]=\\\n",
    "\"\"\"\n",
    "How many types of fruit are there?\n",
    "{answer: 2}\n",
    "\"\"\""
   ]
  },
  {
   "cell_type": "code",
   "execution_count": 20,
   "metadata": {
    "collapsed": false
   },
   "outputs": [],
   "source": [
    "Hint['1'][types_of_mistakes[2]]=\\\n",
    "\"\"\"\n",
    "Correct answer, can be written more simply as 3*2\n",
    "\"\"\""
   ]
  },
  {
   "cell_type": "code",
   "execution_count": 33,
   "metadata": {
    "collapsed": false
   },
   "outputs": [
    {
     "name": "stderr",
     "output_type": "stream",
     "text": [
      "ERROR: An unexpected error occurred while tokenizing input\n",
      "The following traceback may be corrupted or invalid\n",
      "The error message is: ('EOF in multi-line string', (1, 0))\n",
      "\n"
     ]
    },
    {
     "ename": "IndexError",
     "evalue": "list index out of range",
     "output_type": "error",
     "traceback": [
      "\u001b[0;31m---------------------------------------------------------------------------\u001b[0m",
      "\u001b[0;31mIndexError\u001b[0m                                Traceback (most recent call last)",
      "\u001b[0;32m<ipython-input-33-866bf3cfeff8>\u001b[0m in \u001b[0;36m<module>\u001b[0;34m()\u001b[0m\n\u001b[1;32m      1\u001b[0m Hint['1'][types_of_mistakes[5]]=\"\"\"\n\u001b[1;32m      2\u001b[0m \u001b[0mCan\u001b[0m \u001b[0mthe\u001b[0m \u001b[0mnumber\u001b[0m \u001b[0mof\u001b[0m \u001b[0mchoices\u001b[0m \u001b[0mbe\u001b[0m \u001b[0mfractional\u001b[0m\u001b[0;31m?\u001b[0m \u001b[0;34m(\u001b[0m\u001b[0manswer\u001b[0m\u001b[0;34m:\u001b[0m \u001b[0mno\u001b[0m\u001b[0;34m)\u001b[0m\u001b[0;34m\u001b[0m\u001b[0m\n\u001b[0;32m----> 3\u001b[0;31m \"\"\"\n\u001b[0m",
      "\u001b[0;31mIndexError\u001b[0m: list index out of range"
     ]
    }
   ],
   "source": [
    "Hint['1'][types_of_mistakes[5]]=\\\n",
    "\"\"\"\n",
    "Can the number of choices be fractional? (answer: no)\n",
    "\"\"\""
   ]
  },
  {
   "cell_type": "markdown",
   "metadata": {},
   "source": [
    "### Jumping to Question 8\n"
   ]
  },
  {
   "cell_type": "code",
   "execution_count": 23,
   "metadata": {
    "collapsed": false
   },
   "outputs": [
    {
     "data": {
      "text/plain": [
       "[u'1', u'3', u'2']"
      ]
     },
     "execution_count": 23,
     "metadata": {},
     "output_type": "execute_result"
    }
   ],
   "source": [
    "cluster = pickle.load(open('Week2_8_cluster.pkl', 'rb'))\n",
    "cluster.keys()"
   ]
  },
  {
   "cell_type": "code",
   "execution_count": 24,
   "metadata": {
    "collapsed": false
   },
   "outputs": [
    {
     "data": {
      "text/plain": [
       "['Digits', \"['R.1']\"]"
      ]
     },
     "execution_count": 24,
     "metadata": {},
     "output_type": "execute_result"
    }
   ],
   "source": [
    "##### Matching sub-expression as key in each part #####\n",
    "types_of_mistakes=cluster['1'].keys()\n",
    "types_of_mistakes"
   ]
  },
  {
   "cell_type": "code",
   "execution_count": null,
   "metadata": {
    "collapsed": true
   },
   "outputs": [],
   "source": []
  }
 ],
 "metadata": {
  "kernelspec": {
   "display_name": "Python 2",
   "language": "python",
   "name": "python2"
  },
  "language_info": {
   "codemirror_mode": {
    "name": "ipython",
    "version": 2
   },
   "file_extension": ".py",
   "mimetype": "text/x-python",
   "name": "python",
   "nbconvert_exporter": "python",
   "pygments_lexer": "ipython2",
   "version": "2.7.9"
  }
 },
 "nbformat": 4,
 "nbformat_minor": 0
}
