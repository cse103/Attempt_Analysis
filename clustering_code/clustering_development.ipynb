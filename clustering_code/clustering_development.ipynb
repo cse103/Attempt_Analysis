{
 "cells": [
  {
   "cell_type": "code",
   "execution_count": 2,
   "metadata": {
    "collapsed": false
   },
   "outputs": [],
   "source": [
    "from parsetrees.expr_parser import webwork_parser\n",
    "from parsetrees.expr_parser import Eval_parsed\n",
    "reload(Eval_parsed)\n",
    "import pickle\n",
    "from collections import deque\n",
    "from collections import defaultdict\n",
    "import cluster_functions"
   ]
  },
  {
   "cell_type": "code",
   "execution_count": 3,
   "metadata": {
    "collapsed": false
   },
   "outputs": [
    {
     "data": {
      "text/plain": [
       "{'answer': u'{0,4,5,6,9}',\n",
       " 'attempt': u'{0,4,5,6}',\n",
       " u'part_id': u'7',\n",
       " u'problem_id': u'3',\n",
       " u'score': u'0',\n",
       " u'set_id': u'Week2',\n",
       " u'timestamp': u'2015-10-02 01:52:22',\n",
       " u'user_id': u'ctgraves',\n",
       " 'var': [(u'$Ac', u'0'),\n",
       "  (u'$Bc', u'0'),\n",
       "  (u'$B', u'0'),\n",
       "  (u'$Cc', u'0'),\n",
       "  (u'$C', u'0'),\n",
       "  (u'$Universe', u'0'),\n",
       "  (u'$A', u'0'),\n",
       "  (u'$Ac', u'0'),\n",
       "  (u'$Bc', u'0'),\n",
       "  (u'$B', u'0'),\n",
       "  (u'$Cc', u'0'),\n",
       "  (u'$C', u'0'),\n",
       "  (u'$Universe', u'0'),\n",
       "  (u'$A', u'0')]}"
      ]
     },
     "execution_count": 3,
     "metadata": {},
     "output_type": "execute_result"
    }
   ],
   "source": [
    "### Load Week2 data ###\n",
    "data_week2 = pickle.load(open('../2015data/Week2_data.pkl','rb'))\n",
    "data_week2[data_week2.keys()[0]][0]"
   ]
  },
  {
   "cell_type": "code",
   "execution_count": 3,
   "metadata": {
    "collapsed": false
   },
   "outputs": [
    {
     "data": {
      "text/plain": [
       "{'answer': u'100*1000/n',\n",
       " 'attempt': u'100\\u22171000/n',\n",
       " u'part_id': u'2',\n",
       " u'problem_id': u'9',\n",
       " u'score': u'0',\n",
       " u'set_id': u'Week7a',\n",
       " u'timestamp': u'2015-11-09 00:54:08',\n",
       " u'user_id': u'abasu',\n",
       " 'var': [(u'$x', u'1')]}"
      ]
     },
     "execution_count": 3,
     "metadata": {},
     "output_type": "execute_result"
    }
   ],
   "source": [
    "### Load Week7a data ###\n",
    "data_week7a = pickle.load(open('../2015data/Week7a_data.pkl','rb'))\n",
    "data_week7a[data_week7a.keys()[0]][0]"
   ]
  },
  {
   "cell_type": "code",
   "execution_count": 4,
   "metadata": {
    "collapsed": false
   },
   "outputs": [],
   "source": [
    "data = data_week7a\n",
    "Week = 'week7a'\n",
    "problem_id = '2'"
   ]
  },
  {
   "cell_type": "code",
   "execution_count": 7,
   "metadata": {
    "collapsed": false
   },
   "outputs": [
    {
     "name": "stdout",
     "output_type": "stream",
     "text": [
      "2   2 Q(1.76777)\n",
      "2   1 0.05/[sqrt(0.16/200)]\n"
     ]
    },
    {
     "data": {
      "text/plain": [
       "0"
      ]
     },
     "execution_count": 7,
     "metadata": {},
     "output_type": "execute_result"
    }
   ],
   "source": [
    "### Make params as inputs to function find_matches ###\n",
    "params = defaultdict(list)\n",
    "for (pro, par) in data.keys():\n",
    "    if (pro == problem_id and \\\n",
    "    data[(pro, par)][0]['answer'] != '<pre style=\"text-align:left; padding-left:.2em\">yes</pre>' and \\\n",
    "    data[(pro, par)][0]['answer'] != '<pre style=\"text-align:left; padding-left:.2em\">no</pre>'):\n",
    "        print pro, ' ', par, data[(pro, par)][0]['answer']\n",
    "        #params[par] = cluster_functions.make_params(pro, par, data)\n",
    "len(params)"
   ]
  },
  {
   "cell_type": "code",
   "execution_count": 9,
   "metadata": {
    "collapsed": false
   },
   "outputs": [],
   "source": [
    "### Create clusters, if no hits, clustered as 'Nothing' ###\n",
    "problem_clusters={}\n",
    "for part in params:\n",
    "    problem_clusters[part]=defaultdict(list)\n",
    "    for p in params[part]:\n",
    "        final_pairs = cluster_functions.find_matches(p)\n",
    "        if len(final_pairs)>0:\n",
    "            sorted_final = sorted(final_pairs,key=lambda x: x[0])\n",
    "            problem_clusters[part][str(sorted_final)] += [p['attempt']]\n",
    "        else:\n",
    "            problem_clusters[part]['Nothing'] += [p['attempt']]"
   ]
  },
  {
   "cell_type": "code",
   "execution_count": 10,
   "metadata": {
    "collapsed": false
   },
   "outputs": [],
   "source": [
    "pickle.dump(problem_clusters, open('clusters/'+Week+'/'+Week+'_'+problem_id+'_cluster.pkl','wb'))"
   ]
  },
  {
   "cell_type": "code",
   "execution_count": 74,
   "metadata": {
    "collapsed": false
   },
   "outputs": [
    {
     "name": "stdout",
     "output_type": "stream",
     "text": [
      "11 [('R.0.1.1.0', 5.0, u'11-6', u'5'), ('R.1', 2048.0, u'2^11', u'2^11')]\n",
      "55 Nothing\n",
      "11 [('R.0.1.1.0.0', 9.0, u'9', u'9'), ('R.0.1.1.0.1', 6.0, u'6', u'6'), ('R.1', 512.0, u'2^9', u'2^9')]\n",
      "11 [('R.0.1.1.0.0', 10.0, u'10', u'10'), ('R.0.1.1.0.1', 6.0, u'6', u'6'), ('R.1', 1024.0, u'2^10', u'2^10')]\n",
      "24 [('R.0.1.1.0.0', 9.0, u'9', u'9'), ('R.1', 512.0, u'2^9', u'2^9')]\n",
      "18 [('R.1', 512.0, u'2^9', u'512')]\n",
      "19 [('R.0.1.1.0.0', 10.0, u'10', u'10'), ('R.1', 1024.0, u'2^10', u'2^10')]\n",
      "31 [('R.0.1.1.0.0', 11.0, u'11', u'11'), ('R.1', 2048.0, u'2^11', u'2^11')]\n",
      "13 [('R.0.1.1.0.0', 11.0, u'11', u'11'), ('R.0.1.1.0.1', 6.0, u'6', u'6'), ('R.1', 2048.0, u'2^11', u'2^11')]\n",
      "16 [('R.0.1.1.0.1', 6.0, u'6', u'6'), ('R.1.0', 2.0, u'2', u'2')]\n",
      "14 [('R.1', 2048.0, u'2^11', u'2048')]\n"
     ]
    }
   ],
   "source": [
    "### Print some clusters ###\n",
    "for c in clusters['1'].keys():\n",
    "    if len(clusters['1'][c]) > 10:\n",
    "        print len(clusters['1'][c]), c"
   ]
  },
  {
   "cell_type": "code",
   "execution_count": null,
   "metadata": {
    "collapsed": false
   },
   "outputs": [],
   "source": []
  },
  {
   "cell_type": "code",
   "execution_count": null,
   "metadata": {
    "collapsed": false
   },
   "outputs": [],
   "source": []
  },
  {
   "cell_type": "code",
   "execution_count": null,
   "metadata": {
    "collapsed": true
   },
   "outputs": [],
   "source": [
    "################# TESTING BELOW ################"
   ]
  },
  {
   "cell_type": "code",
   "execution_count": 140,
   "metadata": {
    "collapsed": false
   },
   "outputs": [
    {
     "data": {
      "text/plain": [
       "[[3.0, 't', ['X', 3.0, [8, 8], 'R.1.0']],\n",
       " [5.0, 't', ['X', 5.0, [5, 5], 'R.0.1']],\n",
       " [48.0, 't', ['X', 48.0, [2, 3], 'R.0.0']],\n",
       " [80.0, 't', ['X', 80.0, [10, 11], 'R.1.1']],\n",
       " [240.0,\n",
       "  't',\n",
       "  [['*', 240.0, [8, 11], 'R.1'],\n",
       "   ['X', 3.0, [8, 8], 'R.1.0'],\n",
       "   ['X', 80.0, [10, 11], 'R.1.1']]],\n",
       " [1712064.0,\n",
       "  't',\n",
       "  [['-', 1712064.0, [0, 11], 'R'],\n",
       "   [['C', 1712304, [0, 6], 'R.0'],\n",
       "    ['X', 48.0, [2, 3], 'R.0.0'],\n",
       "    ['X', 5.0, [5, 5], 'R.0.1']],\n",
       "   [['*', 240.0, [8, 11], 'R.1'],\n",
       "    ['X', 3.0, [8, 8], 'R.1.0'],\n",
       "    ['X', 80.0, [10, 11], 'R.1.1']]]],\n",
       " [1712304,\n",
       "  't',\n",
       "  [['C', 1712304, [0, 6], 'R.0'],\n",
       "   ['X', 48.0, [2, 3], 'R.0.0'],\n",
       "   ['X', 5.0, [5, 5], 'R.0.1']]]]"
      ]
     },
     "execution_count": 140,
     "metadata": {},
     "output_type": "execute_result"
    }
   ],
   "source": [
    "#### Example of flatten ####\n",
    "parse_tree = webwork_parser.parse_webwork('C(48,5)-3*80')\n",
    "etree = Eval_parsed.eval_parsed(parse_tree[0])\n",
    "flatten(etree,'t')"
   ]
  },
  {
   "cell_type": "code",
   "execution_count": 67,
   "metadata": {
    "collapsed": false
   },
   "outputs": [
    {
     "data": {
      "text/plain": [
       "[([3.0, 'c', ['X', 3.0, [8, 8], 'R.1.0']],\n",
       "  [3.0, 't', ['X', 3.0, [8, 8], 'R.1.0']]),\n",
       " ([5.0, 'c', ['X', 5.0, [5, 5], 'R.0.1']],\n",
       "  [5.0, 't', ['X', 5.0, [5, 5], 'R.0.1']]),\n",
       " ([48.0, 'c', ['X', 48.0, [2, 3], 'R.0.0']],\n",
       "  [48.0, 't', ['X', 48.0, [2, 3], 'R.0.0']]),\n",
       " ([1712304,\n",
       "   'c',\n",
       "   [['C', 1712304, [0, 6], 'R.0'],\n",
       "    ['X', 48.0, [2, 3], 'R.0.0'],\n",
       "    ['X', 5.0, [5, 5], 'R.0.1']]],\n",
       "  [1712304,\n",
       "   't',\n",
       "   [['C', 1712304, [0, 6], 'R.0'],\n",
       "    ['X', 48.0, [2, 3], 'R.0.0'],\n",
       "    ['X', 5.0, [5, 5], 'R.0.1']]])]"
      ]
     },
     "execution_count": 67,
     "metadata": {},
     "output_type": "execute_result"
    }
   ],
   "source": [
    "#### Example of find_Hits\n",
    "parse_tree = webwork_parser.parse_webwork('C(48,5)-3*80')\n",
    "etree_a = Eval_parsed.eval_parsed(parse_tree[0])\n",
    "parse_tree_b = webwork_parser.parse_webwork('C(48,5)-3*60')\n",
    "etree_b = Eval_parsed.eval_parsed(parse_tree_b[0])\n",
    "p = {'attempt':'C(48,5)-3*60', 'answer':'C(48,5)-3*80', 'att_tree':etree_b, 'ans_tree': etree_a}\n",
    "attempt=p['attempt']\n",
    "attempt_tree=p['att_tree']\n",
    "attempt_list=flatten(attempt_tree,'t')\n",
    "\n",
    "answer=p['answer']\n",
    "answer_tree=p['ans_tree']\n",
    "answer_list=flatten(answer_tree,'c')\n",
    "\n",
    "combined_list=sorted(answer_list+attempt_list,key=lambda x: x[0])\n",
    "\n",
    "Hits = find_Hits(combined_list)\n",
    "Hits"
   ]
  },
  {
   "cell_type": "code",
   "execution_count": 141,
   "metadata": {
    "collapsed": false
   },
   "outputs": [
    {
     "data": {
      "text/plain": [
       "[('R.1.0', 3.0, '3', '3'), ('R.0', 1712304, 'C(48,5)', 'C(48,5)')]"
      ]
     },
     "execution_count": 141,
     "metadata": {},
     "output_type": "execute_result"
    }
   ],
   "source": [
    "#### Example of find_dominating_hits ####\n",
    "find_dominating_hits(Hits,answer,attempt)"
   ]
  },
  {
   "cell_type": "code",
   "execution_count": 112,
   "metadata": {
    "collapsed": false
   },
   "outputs": [
    {
     "name": "stdout",
     "output_type": "stream",
     "text": [
      "17828\n"
     ]
    },
    {
     "data": {
      "text/plain": [
       "defaultdict(str,\n",
       "            {(u'1', u'1'): u'B',\n",
       "             (u'2', u'1'): u'0.05/[sqrt(0.16/200)]',\n",
       "             (u'2', u'2'): u'Q(1.76777)',\n",
       "             (u'2',\n",
       "              u'3'): u'<pre style=\"text-align:left; padding-left:.2em\">yes</pre>',\n",
       "             (u'2',\n",
       "              u'4'): u'<pre style=\"text-align:left; padding-left:.2em\">no</pre>',\n",
       "             (u'5', u'1'): u'-0.02-2/[sqrt(25)]*2',\n",
       "             (u'5', u'2'): u'-0.03+2/[sqrt(25)]*2',\n",
       "             (u'5', u'3'): u'-1',\n",
       "             (u'5', u'4'): u'1',\n",
       "             (u'5', u'5'): u'1',\n",
       "             (u'6', u'1'): u'65',\n",
       "             (u'6',\n",
       "              u'2'): u'65*(0.5*[(30/65-0.5)/0.5]^2+0.25*[(20/65-0.25)/0.25]^2+0.25*[(15/65-0.25)/0.25]^2)',\n",
       "             (u'6',\n",
       "              u'3'): u'65*(1/3*[(30/65-1/3)/(1/3)]^2+1/3*[(20/65-1/3)/(1/3)]^2+1/3*[(15/65-1/3)/(1/3)]^2)',\n",
       "             (u'6',\n",
       "              u'4'): u'<pre style=\"text-align:left; padding-left:.2em\">no</pre>',\n",
       "             (u'6',\n",
       "              u'5'): u'<pre style=\"text-align:left; padding-left:.2em\">no</pre>',\n",
       "             (u'6',\n",
       "              u'6'): u'<pre style=\"text-align:left; padding-left:.2em\">Yes</pre>',\n",
       "             (u'6',\n",
       "              u'7'): u'<pre style=\"text-align:left; padding-left:.2em\">yes</pre>',\n",
       "             (u'6',\n",
       "              u'8'): u'<pre style=\"text-align:left; padding-left:.2em\">yes</pre>',\n",
       "             (u'7', u'1'): u'-1',\n",
       "             (u'7', u'2'): u'-1',\n",
       "             (u'7', u'3'): u'1',\n",
       "             (u'7', u'4'): u'1',\n",
       "             (u'7', u'5'): u'1',\n",
       "             (u'8', u'1'): u'1',\n",
       "             (u'8', u'2'): u'0',\n",
       "             (u'9', u'1'): u'1000*100/x',\n",
       "             (u'9', u'2'): u'100*1000/n',\n",
       "             (u'9', u'3'): u'100*(1000/n)*(1-1000/n)',\n",
       "             (u'9', u'4'): u'1-2*0.025',\n",
       "             (u'9', u'5'): u'1.96*sqrt(100*(1000/n)*(1-1000/n))'})"
      ]
     },
     "execution_count": 112,
     "metadata": {},
     "output_type": "execute_result"
    }
   ],
   "source": [
    "### Count the number attempts and answer for each part ###\n",
    "problem_count = defaultdict(int)\n",
    "problem_part_answer = defaultdict(str)\n",
    "for d in data:\n",
    "    if d['answer']:\n",
    "        problem_count[(d['problem_id'], d['part_id'])] += 1\n",
    "        problem_part_answer[(d['problem_id'], d['part_id'])] = d['answer']\n",
    "print len(data)\n",
    "problem_part_answer"
   ]
  },
  {
   "cell_type": "code",
   "execution_count": 12,
   "metadata": {
    "collapsed": false
   },
   "outputs": [
    {
     "name": "stderr",
     "output_type": "stream",
     "text": [
      "ERROR:parsetrees.expr_parser.webwork_parser:||(11!(11-6)|| Unbalanced grouping operator in expression: (11!(11-6)\n",
      "ERROR:parsetrees.expr_parser.webwork_parser:Unbalanced grouping operator in expression: (11!(11-6)\n",
      "Traceback (most recent call last):\n",
      "  File \"parsetrees/expr_parser/webwork_parser.py\", line 332, in parse_webwork\n",
      "    parsed = parser.parse(expr,tracking=True, lexer=lexer.lexer)\n",
      "  File \"/Library/Python/2.7/site-packages/ply/yacc.py\", line 263, in parse\n",
      "    return self.parseopt(input,lexer,debug,tracking,tokenfunc)\n",
      "  File \"/Library/Python/2.7/site-packages/ply/yacc.py\", line 710, in parseopt\n",
      "    p.callable(pslice)\n",
      "  File \"parsetrees/expr_parser/webwork_parser.py\", line 228, in p_expression_unbalanced_group\n",
      "    raise WebworkParseException('Unbalanced grouping operator in expression: ' + t.lexer.lexdata)\n",
      "WebworkParseException: Unbalanced grouping operator in expression: (11!(11-6)\n"
     ]
    },
    {
     "name": "stdout",
     "output_type": "stream",
     "text": [
      "Parse Error: Unbalanced Group Operator\n",
      "(11!(11-6)\n",
      "^\n"
     ]
    },
    {
     "data": {
      "text/plain": [
       "(None, {})"
      ]
     },
     "execution_count": 12,
     "metadata": {},
     "output_type": "execute_result"
    }
   ],
   "source": [
    "webwork_parser.parse_webwork('(11!(11-6)')"
   ]
  },
  {
   "cell_type": "code",
   "execution_count": 21,
   "metadata": {
    "collapsed": false
   },
   "outputs": [
    {
     "name": "stdout",
     "output_type": "stream",
     "text": [
      "eval_parsed, e=\" [['!', [0, 11]], [['*', [1, 9]], [['!', [1, 3]], [['X', [1, 2]], 11]], [['-', [5, 8]], [['X', [5, 6]], 11], [['X', [8, 8]], 6]]]] \"\n",
      "eval_parsed, e=\" [['*', [1, 9]], [['!', [1, 3]], [['X', [1, 2]], 11]], [['-', [5, 8]], [['X', [5, 6]], 11], [['X', [8, 8]], 6]]] \"\n",
      "eval_parsed, e=\" [['!', [1, 3]], [['X', [1, 2]], 11]] \"\n",
      "eval_parsed, e=\" [['X', [1, 2]], 11] \"\n",
      "eval_parsed, e=\" 11 \"\n",
      "11.0\n",
      "11.0\n",
      "eval_parsed, e=\" [['-', [5, 8]], [['X', [5, 6]], 11], [['X', [8, 8]], 6]] \"\n",
      "eval_parsed, e=\" [['X', [5, 6]], 11] \"\n",
      "eval_parsed, e=\" 11 \"\n",
      "11.0\n",
      "eval_parsed, e=\" [['X', [8, 8]], 6] \"\n",
      "eval_parsed, e=\" 6 \"\n",
      "6.0\n",
      "199584000.0\n",
      "Eval_parsed Exception: 199584000.0 is too large to apply factorial\n",
      "Traceback (most recent call last):\n",
      "  File \"parsetrees/expr_parser/Eval_parsed.py\", line 97, in eval_parsed\n",
      "    raise Exception('%s is too large to apply factorial'%v)\n",
      "Exception: 199584000.0 is too large to apply factorial\n"
     ]
    }
   ],
   "source": [
    "etree = Eval_parsed.eval_parsed(parse_tree[0])"
   ]
  },
  {
   "cell_type": "code",
   "execution_count": null,
   "metadata": {
    "collapsed": true
   },
   "outputs": [],
   "source": []
  }
 ],
 "metadata": {
  "kernelspec": {
   "display_name": "Python 2",
   "language": "python",
   "name": "python2"
  },
  "language_info": {
   "codemirror_mode": {
    "name": "ipython",
    "version": 2
   },
   "file_extension": ".py",
   "mimetype": "text/x-python",
   "name": "python",
   "nbconvert_exporter": "python",
   "pygments_lexer": "ipython2",
   "version": "2.7.9"
  }
 },
 "nbformat": 4,
 "nbformat_minor": 0
}
