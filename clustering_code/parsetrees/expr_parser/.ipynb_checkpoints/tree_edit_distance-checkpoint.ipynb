{
 "cells": [
  {
   "cell_type": "code",
   "execution_count": 93,
   "metadata": {
    "collapsed": false
   },
   "outputs": [
    {
     "name": "stderr",
     "output_type": "stream",
     "text": [
      "lex: tokens   = ('Q', 'CHOOSE', 'PERMUTE', 'VARIABLE', 'NUMBER', 'PLUS', 'MINUS', 'TIMES', 'DIVIDE', 'LPAREN', 'RPAREN', 'FACTORIAL', 'LSET', 'RSET', 'COMMA', 'EXP', 'LBRACKET', 'RBRACKET', 'COMPUTE')\n",
      "lex: literals = ''\n",
      "lex: states   = {'INITIAL': 'inclusive'}\n",
      "lex: Adding rule t_NUMBER -> '\\d*\\.?\\d+(E(\\+|\\-)?\\d+)?' (state 'INITIAL')\n",
      "lex: Adding rule t_newline -> '\\n+' (state 'INITIAL')\n",
      "lex: Adding rule t_VARIABLE -> '(?<![A-Za-z])[ABD-OR-Za-z](?![A-Za-z])' (state 'INITIAL')\n",
      "lex: Adding rule t_EXP -> '\\^|(\\*\\*)' (state 'INITIAL')\n",
      "lex: Adding rule t_COMPUTE -> 'Compute' (state 'INITIAL')\n",
      "lex: Adding rule t_RSET -> '\\}' (state 'INITIAL')\n",
      "lex: Adding rule t_RBRACKET -> '\\]' (state 'INITIAL')\n",
      "lex: Adding rule t_LBRACKET -> '\\[' (state 'INITIAL')\n",
      "lex: Adding rule t_PLUS -> '\\+' (state 'INITIAL')\n",
      "lex: Adding rule t_COMMA -> '\\,' (state 'INITIAL')\n",
      "lex: Adding rule t_LPAREN -> '\\(' (state 'INITIAL')\n",
      "lex: Adding rule t_LSET -> '\\{' (state 'INITIAL')\n",
      "lex: Adding rule t_TIMES -> '\\*' (state 'INITIAL')\n",
      "lex: Adding rule t_RPAREN -> '\\)' (state 'INITIAL')\n",
      "lex: Adding rule t_FACTORIAL -> '!' (state 'INITIAL')\n",
      "lex: Adding rule t_Q -> 'Q' (state 'INITIAL')\n",
      "lex: Adding rule t_DIVIDE -> '/' (state 'INITIAL')\n",
      "lex: Adding rule t_CHOOSE -> 'C' (state 'INITIAL')\n",
      "lex: Adding rule t_PERMUTE -> 'P' (state 'INITIAL')\n",
      "lex: Adding rule t_MINUS -> '-' (state 'INITIAL')\n",
      "lex: ==== MASTER REGEXS FOLLOW ====\n",
      "lex: state 'INITIAL' : regex[0] = '(?P<t_NUMBER>\\d*\\.?\\d+(E(\\+|\\-)?\\d+)?)|(?P<t_newline>\\n+)|(?P<t_VARIABLE>(?<![A-Za-z])[ABD-OR-Za-z](?![A-Za-z]))|(?P<t_EXP>\\^|(\\*\\*))|(?P<t_COMPUTE>Compute)|(?P<t_RSET>\\})|(?P<t_RBRACKET>\\])|(?P<t_LBRACKET>\\[)|(?P<t_PLUS>\\+)|(?P<t_COMMA>\\,)|(?P<t_LPAREN>\\()|(?P<t_LSET>\\{)|(?P<t_TIMES>\\*)|(?P<t_RPAREN>\\))|(?P<t_FACTORIAL>!)|(?P<t_Q>Q)|(?P<t_DIVIDE>/)|(?P<t_CHOOSE>C)|(?P<t_PERMUTE>P)|(?P<t_MINUS>-)'\n"
     ]
    }
   ],
   "source": [
    "import webwork_parser\n",
    "reload(webwork_parser)\n",
    "import Eval_parsed\n",
    "import pandas as pd\n",
    "import numpy as np\n",
    "import json\n",
    "from zss import simple_distance, Node\n",
    "from collections import defaultdict"
   ]
  },
  {
   "cell_type": "code",
   "execution_count": 95,
   "metadata": {
    "collapsed": false
   },
   "outputs": [],
   "source": [
    "def make_tree(etree):\n",
    "    if len(etree) == 3:\n",
    "        parent = etree[0]\n",
    "        left = etree[1]\n",
    "        right = etree[2]\n",
    "        #print 'create node ', parent[0]\n",
    "        node = Node((parent[0], parent[1]))\n",
    "        #print 'add left child'\n",
    "        node = node.addkid(make_tree(left))\n",
    "        #print 'add right child'\n",
    "        node = node.addkid(make_tree(right))\n",
    "    else:\n",
    "        #print 'create node ', etree[0]\n",
    "        node = Node((etree[0], etree[1]))\n",
    "    return node"
   ]
  },
  {
   "cell_type": "code",
   "execution_count": null,
   "metadata": {
    "collapsed": true
   },
   "outputs": [],
   "source": [
    "def group_by_distance(correct_answer, student_answers):\n",
    "    correct_parse_tree = webwork_parser.parse_webwork(correct_answer)\n",
    "    correct_etree = Eval_parsed.eval_parsed(parse_tree[0])\n",
    "    correct_zsstree = make_tree(etree)\n",
    "    distance_group = defaultdict(list)\n",
    "    for answer in student_answers:\n",
    "        parse_tree = webwork_parser.parse_webwork(answer)\n",
    "        etree = Eval_parsed.eval_parsed(parse_tree[0])\n",
    "        zsstree = make_tree(etree)\n",
    "        dist = simple_distance(correct_zsstree, zsstree)\n",
    "        distance_group[dist] += answer\n",
    "    "
   ]
  },
  {
   "cell_type": "code",
   "execution_count": 89,
   "metadata": {
    "collapsed": false
   },
   "outputs": [],
   "source": [
    "string='C(31+4-1,3-1)'\n",
    "A = webwork_parser.parse_webwork(string)\n",
    "string='C(31+4-5,3-1)'\n",
    "B = webwork_parser.parse_webwork(string)"
   ]
  },
  {
   "cell_type": "code",
   "execution_count": 90,
   "metadata": {
    "collapsed": false
   },
   "outputs": [],
   "source": [
    "etreeA = Eval_parsed.eval_parsed(A[0])\n",
    "etreeB = Eval_parsed.eval_parsed(B[0])"
   ]
  },
  {
   "cell_type": "code",
   "execution_count": 91,
   "metadata": {
    "collapsed": false
   },
   "outputs": [
    {
     "name": "stdout",
     "output_type": "stream",
     "text": [
      "create node  C\n",
      "add left child\n",
      "create node  -\n",
      "add left child\n",
      "create node  +\n",
      "add left child\n",
      "create node  X\n",
      "add right child\n",
      "create node  X\n",
      "add right child\n",
      "create node  X\n",
      "add right child\n",
      "create node  -\n",
      "add left child\n",
      "create node  X\n",
      "add right child\n",
      "create node  X\n",
      "create node  C\n",
      "add left child\n",
      "create node  -\n",
      "add left child\n",
      "create node  +\n",
      "add left child\n",
      "create node  X\n",
      "add right child\n",
      "create node  X\n",
      "add right child\n",
      "create node  X\n",
      "add right child\n",
      "create node  -\n",
      "add left child\n",
      "create node  X\n",
      "add right child\n",
      "create node  X\n"
     ]
    }
   ],
   "source": [
    "treeA = make_tree(etreeA)\n",
    "treeB = make_tree(etreeB)"
   ]
  },
  {
   "cell_type": "code",
   "execution_count": 92,
   "metadata": {
    "collapsed": false
   },
   "outputs": [
    {
     "data": {
      "text/plain": [
       "5"
      ]
     },
     "execution_count": 92,
     "metadata": {},
     "output_type": "execute_result"
    }
   ],
   "source": [
    "simple_distance(treeA, treeB)"
   ]
  },
  {
   "cell_type": "code",
   "execution_count": null,
   "metadata": {
    "collapsed": true
   },
   "outputs": [],
   "source": []
  }
 ],
 "metadata": {
  "kernelspec": {
   "display_name": "Python 2",
   "language": "python",
   "name": "python2"
  },
  "language_info": {
   "codemirror_mode": {
    "name": "ipython",
    "version": 2
   },
   "file_extension": ".py",
   "mimetype": "text/x-python",
   "name": "python",
   "nbconvert_exporter": "python",
   "pygments_lexer": "ipython2",
   "version": "2.7.9"
  }
 },
 "nbformat": 4,
 "nbformat_minor": 0
}
