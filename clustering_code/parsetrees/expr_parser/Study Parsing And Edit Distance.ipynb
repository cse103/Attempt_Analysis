{
 "cells": [
  {
   "cell_type": "code",
   "execution_count": 2,
   "metadata": {
    "collapsed": false
   },
   "outputs": [
    {
     "name": "stderr",
     "output_type": "stream",
     "text": [
      "lex: tokens   = ('Q', 'CHOOSE', 'PERMUTE', 'VARIABLE', 'NUMBER', 'PLUS', 'MINUS', 'TIMES', 'DIVIDE', 'LPAREN', 'RPAREN', 'FACTORIAL', 'LSET', 'RSET', 'COMMA', 'EXP', 'LBRACKET', 'RBRACKET', 'COMPUTE')\n",
      "lex: literals = ''\n",
      "lex: states   = {'INITIAL': 'inclusive'}\n",
      "lex: Adding rule t_NUMBER -> '\\d*\\.?\\d+(E(\\+|\\-)?\\d+)?' (state 'INITIAL')\n",
      "lex: Adding rule t_newline -> '\\n+' (state 'INITIAL')\n",
      "lex: Adding rule t_VARIABLE -> '(?<![A-Za-z])[ABD-OR-Za-z](?![A-Za-z])' (state 'INITIAL')\n",
      "lex: Adding rule t_EXP -> '\\^|(\\*\\*)' (state 'INITIAL')\n",
      "lex: Adding rule t_COMPUTE -> 'Compute' (state 'INITIAL')\n",
      "lex: Adding rule t_RSET -> '\\}' (state 'INITIAL')\n",
      "lex: Adding rule t_RBRACKET -> '\\]' (state 'INITIAL')\n",
      "lex: Adding rule t_LBRACKET -> '\\[' (state 'INITIAL')\n",
      "lex: Adding rule t_PLUS -> '\\+' (state 'INITIAL')\n",
      "lex: Adding rule t_COMMA -> '\\,' (state 'INITIAL')\n",
      "lex: Adding rule t_LPAREN -> '\\(' (state 'INITIAL')\n",
      "lex: Adding rule t_LSET -> '\\{' (state 'INITIAL')\n",
      "lex: Adding rule t_TIMES -> '\\*' (state 'INITIAL')\n",
      "lex: Adding rule t_RPAREN -> '\\)' (state 'INITIAL')\n",
      "lex: Adding rule t_FACTORIAL -> '!' (state 'INITIAL')\n",
      "lex: Adding rule t_Q -> 'Q' (state 'INITIAL')\n",
      "lex: Adding rule t_DIVIDE -> '/' (state 'INITIAL')\n",
      "lex: Adding rule t_CHOOSE -> 'C' (state 'INITIAL')\n",
      "lex: Adding rule t_PERMUTE -> 'P' (state 'INITIAL')\n",
      "lex: Adding rule t_MINUS -> '-' (state 'INITIAL')\n",
      "lex: ==== MASTER REGEXS FOLLOW ====\n",
      "lex: state 'INITIAL' : regex[0] = '(?P<t_NUMBER>\\d*\\.?\\d+(E(\\+|\\-)?\\d+)?)|(?P<t_newline>\\n+)|(?P<t_VARIABLE>(?<![A-Za-z])[ABD-OR-Za-z](?![A-Za-z]))|(?P<t_EXP>\\^|(\\*\\*))|(?P<t_COMPUTE>Compute)|(?P<t_RSET>\\})|(?P<t_RBRACKET>\\])|(?P<t_LBRACKET>\\[)|(?P<t_PLUS>\\+)|(?P<t_COMMA>\\,)|(?P<t_LPAREN>\\()|(?P<t_LSET>\\{)|(?P<t_TIMES>\\*)|(?P<t_RPAREN>\\))|(?P<t_FACTORIAL>!)|(?P<t_Q>Q)|(?P<t_DIVIDE>/)|(?P<t_CHOOSE>C)|(?P<t_PERMUTE>P)|(?P<t_MINUS>-)'\n",
      "Generating LALR tables\n",
      "WARNING: 64 shift/reduce conflicts\n",
      "WARNING: 20 reduce/reduce conflicts\n",
      "WARNING: reduce/reduce conflict in state 47 resolved using rule (expression -> factor MINUS factor)\n",
      "WARNING: rejected rule (factor -> MINUS factor) in state 47\n"
     ]
    }
   ],
   "source": [
    "\"\"\"\n",
    "1) Necessary imports:\n",
    "\"\"\"\n",
    "!rm parser.out\n",
    "import webwork_parser\n",
    "reload(webwork_parser)\n",
    "import Eval_parsed\n",
    "reload(Eval_parsed)\n",
    "import pandas as pd\n",
    "import numpy as np\n",
    "import json\n",
    "from zss import simple_distance\n",
    "#from k_medoids_clustering import ExpressionNode\n",
    "### Right now import immediately executes clustering. Make import just be an import."
   ]
  },
  {
   "cell_type": "code",
   "execution_count": 13,
   "metadata": {
    "collapsed": false
   },
   "outputs": [],
   "source": [
    "string='(C(32,5)- C(20,5))'\n",
    "string='(1+2)*(3+4)'\n",
    "string='C(32,5)'\n",
    "string='C(52-12,5)'\n",
    "string='52.0-12.0'\n",
    "string='12(40!/36!)+(12*11)(39!/36!)'\n",
    "string='12*(40!/36!)+(12*11)*(39!/36!)'\n",
    "string='(12*11)(39!/36!)'\n",
    "string='C(31+4-1,3-1)'\n",
    "#string='{1,2,3,4,5,6,11,12,13}'\n",
    "#string='12*(51!/47!)+(12*11)*(50!/47!)'\n",
    "A=webwork_parser.parse_webwork(string)"
   ]
  },
  {
   "cell_type": "code",
   "execution_count": 14,
   "metadata": {
    "collapsed": false
   },
   "outputs": [
    {
     "data": {
      "text/plain": [
       "([['C', [0, 12]],\n",
       "  [['-', [2, 7]],\n",
       "   [['+', [2, 5]], [['X', [2, 3]], 31], [['X', [5, 5]], 4]],\n",
       "   [['X', [7, 7]], 1]],\n",
       "  [['-', [9, 11]], [['X', [9, 9]], 3], [['X', [11, 11]], 1]]],\n",
       " {})"
      ]
     },
     "execution_count": 14,
     "metadata": {},
     "output_type": "execute_result"
    }
   ],
   "source": [
    "A"
   ]
  },
  {
   "cell_type": "code",
   "execution_count": 15,
   "metadata": {
    "collapsed": false
   },
   "outputs": [
    {
     "name": "stdout",
     "output_type": "stream",
     "text": [
      "[['C', 561, [0, 12], 'R'], [['-', 34.0, [2, 7], 'R.0'], [['+', 35.0, [2, 5], 'R.0.0'], ['X', 31.0, [2, 3], 'R.0.0.0'], ['X', 4.0, [5, 5], 'R.0.0.1']], ['X', 1.0, [7, 7], 'R.0.1']], [['-', 2.0, [9, 11], 'R.1'], ['X', 3.0, [9, 9], 'R.1.0'], ['X', 1.0, [11, 11], 'R.1.1']]]\n"
     ]
    }
   ],
   "source": [
    "etree=Eval_parsed.eval_parsed(A[0])\n",
    "print etree"
   ]
  },
  {
   "cell_type": "code",
   "execution_count": 16,
   "metadata": {
    "collapsed": false
   },
   "outputs": [
    {
     "ename": "IndexError",
     "evalue": "string index out of range",
     "output_type": "error",
     "traceback": [
      "\u001b[0;31m---------------------------------------------------------------------------\u001b[0m",
      "\u001b[0;31mIndexError\u001b[0m                                Traceback (most recent call last)",
      "\u001b[0;32m<ipython-input-16-1c2f4419d90e>\u001b[0m in \u001b[0;36m<module>\u001b[0;34m()\u001b[0m\n\u001b[0;32m----> 1\u001b[0;31m \u001b[0mEval_parsed\u001b[0m\u001b[0;34m.\u001b[0m\u001b[0mCollect_numbers\u001b[0m\u001b[0;34m(\u001b[0m\u001b[0metree\u001b[0m\u001b[0;34m)\u001b[0m\u001b[0;34m\u001b[0m\u001b[0m\n\u001b[0m",
      "\u001b[0;32m/Users/janetzhai/Desktop/CSE103/2013 Analysis/parsetrees/expr_parser/Eval_parsed.pyc\u001b[0m in \u001b[0;36mCollect_numbers\u001b[0;34m(etree)\u001b[0m\n\u001b[1;32m    135\u001b[0m     \u001b[0;32mif\u001b[0m \u001b[0mtype\u001b[0m\u001b[0;34m(\u001b[0m\u001b[0metree\u001b[0m\u001b[0;34m)\u001b[0m\u001b[0;34m==\u001b[0m\u001b[0mint\u001b[0m\u001b[0;34m:\u001b[0m\u001b[0;34m\u001b[0m\u001b[0m\n\u001b[1;32m    136\u001b[0m         \u001b[0;32mreturn\u001b[0m \u001b[0mT\u001b[0m\u001b[0;34m\u001b[0m\u001b[0m\n\u001b[0;32m--> 137\u001b[0;31m     \u001b[0mcollection_recursion\u001b[0m\u001b[0;34m(\u001b[0m\u001b[0mT\u001b[0m\u001b[0;34m,\u001b[0m\u001b[0metree\u001b[0m\u001b[0;34m)\u001b[0m\u001b[0;34m\u001b[0m\u001b[0m\n\u001b[0m\u001b[1;32m    138\u001b[0m     \u001b[0;32mreturn\u001b[0m \u001b[0mT\u001b[0m\u001b[0;34m\u001b[0m\u001b[0m\n\u001b[1;32m    139\u001b[0m \u001b[0;34m\u001b[0m\u001b[0m\n",
      "\u001b[0;32m/Users/janetzhai/Desktop/CSE103/2013 Analysis/parsetrees/expr_parser/Eval_parsed.pyc\u001b[0m in \u001b[0;36mcollection_recursion\u001b[0;34m(T, etree)\u001b[0m\n\u001b[1;32m    144\u001b[0m         \u001b[0mT\u001b[0m\u001b[0;34m[\u001b[0m\u001b[0metree\u001b[0m\u001b[0;34m[\u001b[0m\u001b[0;36m0\u001b[0m\u001b[0;34m]\u001b[0m\u001b[0;34m[\u001b[0m\u001b[0;36m1\u001b[0m\u001b[0;34m]\u001b[0m\u001b[0;34m]\u001b[0m\u001b[0;34m=\u001b[0m\u001b[0metree\u001b[0m   \u001b[0;31m# add evaluation for non-leaf\u001b[0m\u001b[0;34m\u001b[0m\u001b[0m\n\u001b[1;32m    145\u001b[0m         \u001b[0;32mfor\u001b[0m \u001b[0mi\u001b[0m \u001b[0;32min\u001b[0m \u001b[0mrange\u001b[0m\u001b[0;34m(\u001b[0m\u001b[0;36m1\u001b[0m\u001b[0;34m,\u001b[0m\u001b[0mlen\u001b[0m\u001b[0;34m(\u001b[0m\u001b[0metree\u001b[0m\u001b[0;34m)\u001b[0m\u001b[0;34m)\u001b[0m\u001b[0;34m:\u001b[0m\u001b[0;34m\u001b[0m\u001b[0m\n\u001b[0;32m--> 146\u001b[0;31m             \u001b[0mcollection_recursion\u001b[0m\u001b[0;34m(\u001b[0m\u001b[0mT\u001b[0m\u001b[0;34m,\u001b[0m\u001b[0metree\u001b[0m\u001b[0;34m[\u001b[0m\u001b[0mi\u001b[0m\u001b[0;34m]\u001b[0m\u001b[0;34m)\u001b[0m\u001b[0;34m\u001b[0m\u001b[0m\n\u001b[0m\u001b[1;32m    147\u001b[0m \u001b[0;34m\u001b[0m\u001b[0m\n\u001b[1;32m    148\u001b[0m \u001b[0;32mdef\u001b[0m \u001b[0mnumbers_and_exps\u001b[0m\u001b[0;34m(\u001b[0m\u001b[0metree\u001b[0m\u001b[0;34m,\u001b[0m \u001b[0mstring\u001b[0m\u001b[0;34m)\u001b[0m\u001b[0;34m:\u001b[0m\u001b[0;34m\u001b[0m\u001b[0m\n",
      "\u001b[0;32m/Users/janetzhai/Desktop/CSE103/2013 Analysis/parsetrees/expr_parser/Eval_parsed.pyc\u001b[0m in \u001b[0;36mcollection_recursion\u001b[0;34m(T, etree)\u001b[0m\n\u001b[1;32m    144\u001b[0m         \u001b[0mT\u001b[0m\u001b[0;34m[\u001b[0m\u001b[0metree\u001b[0m\u001b[0;34m[\u001b[0m\u001b[0;36m0\u001b[0m\u001b[0;34m]\u001b[0m\u001b[0;34m[\u001b[0m\u001b[0;36m1\u001b[0m\u001b[0;34m]\u001b[0m\u001b[0;34m]\u001b[0m\u001b[0;34m=\u001b[0m\u001b[0metree\u001b[0m   \u001b[0;31m# add evaluation for non-leaf\u001b[0m\u001b[0;34m\u001b[0m\u001b[0m\n\u001b[1;32m    145\u001b[0m         \u001b[0;32mfor\u001b[0m \u001b[0mi\u001b[0m \u001b[0;32min\u001b[0m \u001b[0mrange\u001b[0m\u001b[0;34m(\u001b[0m\u001b[0;36m1\u001b[0m\u001b[0;34m,\u001b[0m\u001b[0mlen\u001b[0m\u001b[0;34m(\u001b[0m\u001b[0metree\u001b[0m\u001b[0;34m)\u001b[0m\u001b[0;34m)\u001b[0m\u001b[0;34m:\u001b[0m\u001b[0;34m\u001b[0m\u001b[0m\n\u001b[0;32m--> 146\u001b[0;31m             \u001b[0mcollection_recursion\u001b[0m\u001b[0;34m(\u001b[0m\u001b[0mT\u001b[0m\u001b[0;34m,\u001b[0m\u001b[0metree\u001b[0m\u001b[0;34m[\u001b[0m\u001b[0mi\u001b[0m\u001b[0;34m]\u001b[0m\u001b[0;34m)\u001b[0m\u001b[0;34m\u001b[0m\u001b[0m\n\u001b[0m\u001b[1;32m    147\u001b[0m \u001b[0;34m\u001b[0m\u001b[0m\n\u001b[1;32m    148\u001b[0m \u001b[0;32mdef\u001b[0m \u001b[0mnumbers_and_exps\u001b[0m\u001b[0;34m(\u001b[0m\u001b[0metree\u001b[0m\u001b[0;34m,\u001b[0m \u001b[0mstring\u001b[0m\u001b[0;34m)\u001b[0m\u001b[0;34m:\u001b[0m\u001b[0;34m\u001b[0m\u001b[0m\n",
      "\u001b[0;32m/Users/janetzhai/Desktop/CSE103/2013 Analysis/parsetrees/expr_parser/Eval_parsed.pyc\u001b[0m in \u001b[0;36mcollection_recursion\u001b[0;34m(T, etree)\u001b[0m\n\u001b[1;32m    144\u001b[0m         \u001b[0mT\u001b[0m\u001b[0;34m[\u001b[0m\u001b[0metree\u001b[0m\u001b[0;34m[\u001b[0m\u001b[0;36m0\u001b[0m\u001b[0;34m]\u001b[0m\u001b[0;34m[\u001b[0m\u001b[0;36m1\u001b[0m\u001b[0;34m]\u001b[0m\u001b[0;34m]\u001b[0m\u001b[0;34m=\u001b[0m\u001b[0metree\u001b[0m   \u001b[0;31m# add evaluation for non-leaf\u001b[0m\u001b[0;34m\u001b[0m\u001b[0m\n\u001b[1;32m    145\u001b[0m         \u001b[0;32mfor\u001b[0m \u001b[0mi\u001b[0m \u001b[0;32min\u001b[0m \u001b[0mrange\u001b[0m\u001b[0;34m(\u001b[0m\u001b[0;36m1\u001b[0m\u001b[0;34m,\u001b[0m\u001b[0mlen\u001b[0m\u001b[0;34m(\u001b[0m\u001b[0metree\u001b[0m\u001b[0;34m)\u001b[0m\u001b[0;34m)\u001b[0m\u001b[0;34m:\u001b[0m\u001b[0;34m\u001b[0m\u001b[0m\n\u001b[0;32m--> 146\u001b[0;31m             \u001b[0mcollection_recursion\u001b[0m\u001b[0;34m(\u001b[0m\u001b[0mT\u001b[0m\u001b[0;34m,\u001b[0m\u001b[0metree\u001b[0m\u001b[0;34m[\u001b[0m\u001b[0mi\u001b[0m\u001b[0;34m]\u001b[0m\u001b[0;34m)\u001b[0m\u001b[0;34m\u001b[0m\u001b[0m\n\u001b[0m\u001b[1;32m    147\u001b[0m \u001b[0;34m\u001b[0m\u001b[0m\n\u001b[1;32m    148\u001b[0m \u001b[0;32mdef\u001b[0m \u001b[0mnumbers_and_exps\u001b[0m\u001b[0;34m(\u001b[0m\u001b[0metree\u001b[0m\u001b[0;34m,\u001b[0m \u001b[0mstring\u001b[0m\u001b[0;34m)\u001b[0m\u001b[0;34m:\u001b[0m\u001b[0;34m\u001b[0m\u001b[0m\n",
      "\u001b[0;32m/Users/janetzhai/Desktop/CSE103/2013 Analysis/parsetrees/expr_parser/Eval_parsed.pyc\u001b[0m in \u001b[0;36mcollection_recursion\u001b[0;34m(T, etree)\u001b[0m\n\u001b[1;32m    142\u001b[0m         \u001b[0mT\u001b[0m\u001b[0;34m[\u001b[0m\u001b[0metree\u001b[0m\u001b[0;34m[\u001b[0m\u001b[0;36m0\u001b[0m\u001b[0;34m]\u001b[0m\u001b[0;34m]\u001b[0m\u001b[0;34m=\u001b[0m\u001b[0metree\u001b[0m   \u001b[0;31m# add leaf\u001b[0m\u001b[0;34m\u001b[0m\u001b[0m\n\u001b[1;32m    143\u001b[0m     \u001b[0;32mif\u001b[0m \u001b[0mlen\u001b[0m\u001b[0;34m(\u001b[0m\u001b[0metree\u001b[0m\u001b[0;34m)\u001b[0m\u001b[0;34m>\u001b[0m\u001b[0;36m1\u001b[0m\u001b[0;34m:\u001b[0m\u001b[0;34m\u001b[0m\u001b[0m\n\u001b[0;32m--> 144\u001b[0;31m         \u001b[0mT\u001b[0m\u001b[0;34m[\u001b[0m\u001b[0metree\u001b[0m\u001b[0;34m[\u001b[0m\u001b[0;36m0\u001b[0m\u001b[0;34m]\u001b[0m\u001b[0;34m[\u001b[0m\u001b[0;36m1\u001b[0m\u001b[0;34m]\u001b[0m\u001b[0;34m]\u001b[0m\u001b[0;34m=\u001b[0m\u001b[0metree\u001b[0m   \u001b[0;31m# add evaluation for non-leaf\u001b[0m\u001b[0;34m\u001b[0m\u001b[0m\n\u001b[0m\u001b[1;32m    145\u001b[0m         \u001b[0;32mfor\u001b[0m \u001b[0mi\u001b[0m \u001b[0;32min\u001b[0m \u001b[0mrange\u001b[0m\u001b[0;34m(\u001b[0m\u001b[0;36m1\u001b[0m\u001b[0;34m,\u001b[0m\u001b[0mlen\u001b[0m\u001b[0;34m(\u001b[0m\u001b[0metree\u001b[0m\u001b[0;34m)\u001b[0m\u001b[0;34m)\u001b[0m\u001b[0;34m:\u001b[0m\u001b[0;34m\u001b[0m\u001b[0m\n\u001b[1;32m    146\u001b[0m             \u001b[0mcollection_recursion\u001b[0m\u001b[0;34m(\u001b[0m\u001b[0mT\u001b[0m\u001b[0;34m,\u001b[0m\u001b[0metree\u001b[0m\u001b[0;34m[\u001b[0m\u001b[0mi\u001b[0m\u001b[0;34m]\u001b[0m\u001b[0;34m)\u001b[0m\u001b[0;34m\u001b[0m\u001b[0m\n",
      "\u001b[0;31mIndexError\u001b[0m: string index out of range"
     ]
    }
   ],
   "source": [
    "Eval_parsed.Collect_numbers(etree)"
   ]
  },
  {
   "cell_type": "code",
   "execution_count": 17,
   "metadata": {
    "collapsed": false
   },
   "outputs": [
    {
     "data": {
      "text/html": [
       "<div style=\"max-height:1000px;max-width:1500px;overflow:auto;\">\n",
       "<table border=\"1\" class=\"dataframe\">\n",
       "  <thead>\n",
       "    <tr style=\"text-align: right;\">\n",
       "      <th></th>\n",
       "      <th>answer_id</th>\n",
       "      <th>answer_string</th>\n",
       "      <th>id</th>\n",
       "      <th>part_id</th>\n",
       "      <th>problem_id</th>\n",
       "      <th>score</th>\n",
       "      <th>set_id</th>\n",
       "      <th>timestamp</th>\n",
       "    </tr>\n",
       "    <tr>\n",
       "      <th>user_id</th>\n",
       "      <th></th>\n",
       "      <th></th>\n",
       "      <th></th>\n",
       "      <th></th>\n",
       "      <th></th>\n",
       "      <th></th>\n",
       "      <th></th>\n",
       "      <th></th>\n",
       "    </tr>\n",
       "  </thead>\n",
       "  <tbody>\n",
       "    <tr>\n",
       "      <th>a4to</th>\n",
       "      <td>  3</td>\n",
       "      <td>  3</td>\n",
       "      <td>  3</td>\n",
       "      <td>  3</td>\n",
       "      <td>  3</td>\n",
       "      <td>  3</td>\n",
       "      <td>  3</td>\n",
       "      <td>  3</td>\n",
       "    </tr>\n",
       "    <tr>\n",
       "      <th>a5taylor</th>\n",
       "      <td>  2</td>\n",
       "      <td>  2</td>\n",
       "      <td>  2</td>\n",
       "      <td>  2</td>\n",
       "      <td>  2</td>\n",
       "      <td>  2</td>\n",
       "      <td>  2</td>\n",
       "      <td>  2</td>\n",
       "    </tr>\n",
       "    <tr>\n",
       "      <th>a7luong</th>\n",
       "      <td> 17</td>\n",
       "      <td> 17</td>\n",
       "      <td> 17</td>\n",
       "      <td> 17</td>\n",
       "      <td> 17</td>\n",
       "      <td> 17</td>\n",
       "      <td> 17</td>\n",
       "      <td> 17</td>\n",
       "    </tr>\n",
       "    <tr>\n",
       "      <th>abw004</th>\n",
       "      <td>  2</td>\n",
       "      <td>  2</td>\n",
       "      <td>  2</td>\n",
       "      <td>  2</td>\n",
       "      <td>  2</td>\n",
       "      <td>  2</td>\n",
       "      <td>  2</td>\n",
       "      <td>  2</td>\n",
       "    </tr>\n",
       "    <tr>\n",
       "      <th>actsang</th>\n",
       "      <td>  7</td>\n",
       "      <td>  7</td>\n",
       "      <td>  7</td>\n",
       "      <td>  7</td>\n",
       "      <td>  7</td>\n",
       "      <td>  7</td>\n",
       "      <td>  7</td>\n",
       "      <td>  7</td>\n",
       "    </tr>\n",
       "  </tbody>\n",
       "</table>\n",
       "</div>"
      ],
      "text/plain": [
       "          answer_id  answer_string  id  part_id  problem_id  score  set_id  \\\n",
       "user_id                                                                      \n",
       "a4to              3              3   3        3           3      3       3   \n",
       "a5taylor          2              2   2        2           2      2       2   \n",
       "a7luong          17             17  17       17          17     17      17   \n",
       "abw004            2              2   2        2           2      2       2   \n",
       "actsang           7              7   7        7           7      7       7   \n",
       "\n",
       "          timestamp  \n",
       "user_id              \n",
       "a4to              3  \n",
       "a5taylor          2  \n",
       "a7luong          17  \n",
       "abw004            2  \n",
       "actsang           7  "
      ]
     },
     "execution_count": 17,
     "metadata": {},
     "output_type": "execute_result"
    }
   ],
   "source": [
    "tries=pd.read_json('example_struggle.json')\n",
    "tries.groupby('user_id').count().head()"
   ]
  },
  {
   "cell_type": "code",
   "execution_count": 18,
   "metadata": {
    "collapsed": false
   },
   "outputs": [],
   "source": [
    "users=list(set(tries['user_id']))"
   ]
  },
  {
   "cell_type": "code",
   "execution_count": 19,
   "metadata": {
    "collapsed": false
   },
   "outputs": [
    {
     "name": "stdout",
     "output_type": "stream",
     "text": [
      "([['-', [0, 17]], [['C', [0, 7]], [['*', [2, 4]], [['X', [2, 2]], 4], [['X', [4, 4]], 8]], [['X', [6, 6]], 5]], [['C', [10, 17]], [['*', [12, 14]], [['X', [12, 12]], 4], [['X', [14, 14]], 5]], [['X', [16, 16]], 5]]], {})\n",
      "Eval_parsed Exception: too many values to unpack\n",
      "Traceback (most recent call last):\n",
      "  File \"Eval_parsed.py\", line 79, in eval_parsed\n",
      "    [[f,span],op]=e\n",
      "ValueError: too many values to unpack\n",
      "None\n"
     ]
    },
    {
     "ename": "TypeError",
     "evalue": "object of type 'NoneType' has no len()",
     "output_type": "error",
     "traceback": [
      "\u001b[0;31m---------------------------------------------------------------------------\u001b[0m",
      "\u001b[0;31mTypeError\u001b[0m                                 Traceback (most recent call last)",
      "\u001b[0;32m<ipython-input-19-7f1af59cc911>\u001b[0m in \u001b[0;36m<module>\u001b[0;34m()\u001b[0m\n\u001b[1;32m      5\u001b[0m \u001b[0metree\u001b[0m\u001b[0;34m=\u001b[0m\u001b[0mEval_parsed\u001b[0m\u001b[0;34m.\u001b[0m\u001b[0meval_parsed\u001b[0m\u001b[0;34m(\u001b[0m\u001b[0mA\u001b[0m\u001b[0;34m)\u001b[0m\u001b[0;34m\u001b[0m\u001b[0m\n\u001b[1;32m      6\u001b[0m \u001b[0;32mprint\u001b[0m \u001b[0metree\u001b[0m\u001b[0;34m\u001b[0m\u001b[0m\n\u001b[0;32m----> 7\u001b[0;31m \u001b[0mHS\u001b[0m\u001b[0;34m=\u001b[0m\u001b[0mEval_parsed\u001b[0m\u001b[0;34m.\u001b[0m\u001b[0mCollect_numbers\u001b[0m\u001b[0;34m(\u001b[0m\u001b[0metree\u001b[0m\u001b[0;34m)\u001b[0m\u001b[0;34m\u001b[0m\u001b[0m\n\u001b[0m\u001b[1;32m      8\u001b[0m \u001b[0mHS\u001b[0m\u001b[0;34m\u001b[0m\u001b[0m\n\u001b[1;32m      9\u001b[0m \u001b[0mHG\u001b[0m\u001b[0;34m=\u001b[0m\u001b[0mset\u001b[0m\u001b[0;34m(\u001b[0m\u001b[0msort\u001b[0m\u001b[0;34m(\u001b[0m\u001b[0mHS\u001b[0m\u001b[0;34m.\u001b[0m\u001b[0mkeys\u001b[0m\u001b[0;34m(\u001b[0m\u001b[0;34m)\u001b[0m\u001b[0;34m)\u001b[0m\u001b[0;34m)\u001b[0m\u001b[0;34m\u001b[0m\u001b[0m\n",
      "\u001b[0;32m/Users/janetzhai/Desktop/CSE103/2013 Analysis/parsetrees/expr_parser/Eval_parsed.pyc\u001b[0m in \u001b[0;36mCollect_numbers\u001b[0;34m(etree)\u001b[0m\n\u001b[1;32m    135\u001b[0m     \u001b[0;32mif\u001b[0m \u001b[0mtype\u001b[0m\u001b[0;34m(\u001b[0m\u001b[0metree\u001b[0m\u001b[0;34m)\u001b[0m\u001b[0;34m==\u001b[0m\u001b[0mint\u001b[0m\u001b[0;34m:\u001b[0m\u001b[0;34m\u001b[0m\u001b[0m\n\u001b[1;32m    136\u001b[0m         \u001b[0;32mreturn\u001b[0m \u001b[0mT\u001b[0m\u001b[0;34m\u001b[0m\u001b[0m\n\u001b[0;32m--> 137\u001b[0;31m     \u001b[0mcollection_recursion\u001b[0m\u001b[0;34m(\u001b[0m\u001b[0mT\u001b[0m\u001b[0;34m,\u001b[0m\u001b[0metree\u001b[0m\u001b[0;34m)\u001b[0m\u001b[0;34m\u001b[0m\u001b[0m\n\u001b[0m\u001b[1;32m    138\u001b[0m     \u001b[0;32mreturn\u001b[0m \u001b[0mT\u001b[0m\u001b[0;34m\u001b[0m\u001b[0m\n\u001b[1;32m    139\u001b[0m \u001b[0;34m\u001b[0m\u001b[0m\n",
      "\u001b[0;32m/Users/janetzhai/Desktop/CSE103/2013 Analysis/parsetrees/expr_parser/Eval_parsed.pyc\u001b[0m in \u001b[0;36mcollection_recursion\u001b[0;34m(T, etree)\u001b[0m\n\u001b[1;32m    139\u001b[0m \u001b[0;34m\u001b[0m\u001b[0m\n\u001b[1;32m    140\u001b[0m \u001b[0;32mdef\u001b[0m \u001b[0mcollection_recursion\u001b[0m\u001b[0;34m(\u001b[0m\u001b[0mT\u001b[0m\u001b[0;34m,\u001b[0m\u001b[0metree\u001b[0m\u001b[0;34m)\u001b[0m\u001b[0;34m:\u001b[0m\u001b[0;34m\u001b[0m\u001b[0m\n\u001b[0;32m--> 141\u001b[0;31m     \u001b[0;32mif\u001b[0m \u001b[0mlen\u001b[0m\u001b[0;34m(\u001b[0m\u001b[0metree\u001b[0m\u001b[0;34m)\u001b[0m\u001b[0;34m==\u001b[0m\u001b[0;36m1\u001b[0m\u001b[0;34m:\u001b[0m\u001b[0;34m\u001b[0m\u001b[0m\n\u001b[0m\u001b[1;32m    142\u001b[0m         \u001b[0mT\u001b[0m\u001b[0;34m[\u001b[0m\u001b[0metree\u001b[0m\u001b[0;34m[\u001b[0m\u001b[0;36m0\u001b[0m\u001b[0;34m]\u001b[0m\u001b[0;34m]\u001b[0m\u001b[0;34m=\u001b[0m\u001b[0metree\u001b[0m   \u001b[0;31m# add leaf\u001b[0m\u001b[0;34m\u001b[0m\u001b[0m\n\u001b[1;32m    143\u001b[0m     \u001b[0;32mif\u001b[0m \u001b[0mlen\u001b[0m\u001b[0;34m(\u001b[0m\u001b[0metree\u001b[0m\u001b[0;34m)\u001b[0m\u001b[0;34m>\u001b[0m\u001b[0;36m1\u001b[0m\u001b[0;34m:\u001b[0m\u001b[0;34m\u001b[0m\u001b[0m\n",
      "\u001b[0;31mTypeError\u001b[0m: object of type 'NoneType' has no len()"
     ]
    }
   ],
   "source": [
    "string='C(4*8,5)- C(4*5,5)'\n",
    "A=webwork_parser.parse_webwork(string)\n",
    "print A\n",
    "\n",
    "etree=Eval_parsed.eval_parsed(A)\n",
    "print etree\n",
    "HS=Eval_parsed.Collect_numbers(etree)\n",
    "HS\n",
    "HG=set(sort(HS.keys()))\n",
    "HG"
   ]
  },
  {
   "cell_type": "code",
   "execution_count": 224,
   "metadata": {
    "collapsed": false
   },
   "outputs": [],
   "source": [
    "import sys\n",
    "import traceback\n",
    "def extract_attempt_trajectory(answers,HG):\n",
    "    attempts=[]\n",
    "    i=0\n",
    "    for answer in answers:\n",
    "        i+=1\n",
    "        try:\n",
    "            #print 'Attempt text=\"%s\"'%answer,\n",
    "            ptree = webwork_parser.parse_webwork(answer)\n",
    "            if ptree!= None:\n",
    "                etree=Eval_parsed.eval_parsed(ptree)\n",
    "                H=Eval_parsed.Collect_numbers(etree)\n",
    "                common=sort(list((set(H.keys()) & HG)))\n",
    "                not_in_correct = sort(list((set(H.keys()) - HG)))\n",
    "                #print '\\t', '['+','.join(['%2.0f'%v for v in common])+']',\n",
    "                #print '\\t', '['+','.join(['%2.0f'%v for v in not_in_correct])+']'\n",
    "                attempts.append((answer,common,not_in_correct))\n",
    "        except Exception, e:\n",
    "            print '||%s||'%answer,\n",
    "            print 'iPython level exception',e\n",
    "            #traceback.print_exc()\n",
    "            pass\n",
    "    return attempts"
   ]
  },
  {
   "cell_type": "code",
   "execution_count": 225,
   "metadata": {
    "collapsed": false
   },
   "outputs": [
    {
     "data": {
      "text/plain": [
       "[('C(8+4-1,4+1)', array([ 4.,  5.,  8.]), array([   1.,   11.,   12.,  462.]))]"
      ]
     },
     "execution_count": 225,
     "metadata": {},
     "output_type": "execute_result"
    }
   ],
   "source": [
    "extract_attempt_trajectory(['C(8+4-1,4+1)'],HG)"
   ]
  },
  {
   "cell_type": "code",
   "execution_count": 226,
   "metadata": {
    "collapsed": false
   },
   "outputs": [
    {
     "name": "stdout",
     "output_type": "stream",
     "text": [
      "||1/((C(12,1)+C(40,4))|| yacc:Syntax error - Empty token\n",
      "||1-(C(40,5)/C(52/5)|| yacc:Syntax error at 'LexToken(RPAREN,u')',1,17)',location=17\n",
      "||1-(C(|| yacc:Syntax error - Empty token\n",
      "all answers= 8 well-formed answers= 5\n",
      "||(52C5) - (28C5) - (16C5)|| yacc:Syntax error at 'LexToken(NUMBER,5,1,4)',location=4\n",
      "all answers= 9 well-formed answers= 8\n",
      "||C(32, 5) + C(12, 50|| yacc:Syntax error - Empty token\n",
      "||C(32, 5) + C(12, 50)|| iPython level exception factorial() not defined for negative values\n",
      "all answers= 13 well-formed answers= 11\n",
      "||((16!/(5!11!)) - ((52!/(47!5!)) - (40!/(5!35!)))|| yacc:Syntax error - Empty token\n",
      "||((52!/(47!5!)) - (40!/(5!35!))) - ((32!/(5!27!))|| yacc:Syntax error - Empty token\n",
      "all answers= 22 well-formed answers= 20\n",
      "||(C(52,5)-(16,5))/C(52,5)|| iPython level exception Unrecognized expression form: 16\n",
      "||C(52,|| yacc:Syntax error - Empty token\n",
      "all answers= 17 well-formed answers= 15\n",
      "||C(52-20, C)|| yacc:Syntax error at 'LexToken(RPAREN,u')',1,10)',location=10\n",
      "all answers= 6 well-formed answers= 5\n",
      "||need help|| iPython level exception Unrecognized expression form: need\n",
      "all answers= 3 well-formed answers= 2\n",
      "||12*31*30*29*28)|| yacc:Syntax error at 'LexToken(RPAREN,u')',1,14)',location=14\n",
      "all answers= 9 well-formed answers= 8\n",
      "||(52C5) - (28C5) - (16C5)|| yacc:Syntax error at 'LexToken(NUMBER,5,1,4)',location=4\n",
      "||12*(31!/(27!4!)|| yacc:Syntax error - Empty token\n",
      "||(40!/(35!5!)-(20!/(15!5!))|| yacc:Syntax error - Empty token\n",
      "all answers= 11 well-formed answers= 8\n",
      "||12(40!/36!)+(12*11)(39!/36!)+(12*11*10)(38!/36!)+(12*11*10*9)(37!/36!)+(12*11*10*9*8)|| yacc:Syntax error at 'LexToken(LPAREN,u'(',1,19)',location=19\n",
      "||(16!/11!)+(16*15*12*11)+(16*15*12*11*10+*16*12*11*10*9)+(12*11*10*9*8)|| yacc:Syntax error at 'LexToken(TIMES,u'*',1,40)',location=40\n",
      "||(16!/11!)+(16*15*12*11)+(16*15*12*11*10+(16*12*11*10*9)+(12*11*10*9*8)|| yacc:Syntax error - Empty token\n",
      "||C32,5)-C(20-5)|| yacc:Syntax error at 'LexToken(NUMBER,32,1,1)',location=1\n",
      "||C(32,5)-C(20-5)|| yacc:Syntax error at 'LexToken(RPAREN,u')',1,14)',location=14\n",
      "||12(51!/47!)+(12*11)(50!/47!)+(12*11*10)(49!/47!)+(12*11*10*9)(48!/47!)+(12*11*10*9*8)|| yacc:Syntax error at 'LexToken(LPAREN,u'(',1,19)',location=19\n",
      "all answers= 17 well-formed answers= 11\n",
      "||2,598,960 - C (40, 5)|| iPython level exception Unrecognized expression form: 2\n",
      "all answers= 51 well-formed answers= 50\n",
      "||{A,2,3,4,5,6,JQK}|| iPython level exception string index out of range\n",
      "||{1,2,3,4,5,6,11,12,13}|| iPython level exception 'int' object has no attribute '__getitem__'\n",
      "||C(20,5)-((C(52,5)-C(40,5) )|| yacc:Syntax error - Empty token\n",
      "all answers= 28 well-formed answers= 25\n",
      "||(52C5) - (20C5) - (16C5)|| yacc:Syntax error at 'LexToken(NUMBER,5,1,4)',location=4\n",
      "all answers= 18 well-formed answers= 17\n",
      "||C(52-20,5|| yacc:Syntax error - Empty token\n",
      "all answers= 9 well-formed answers= 8\n",
      "|||| yacc:Syntax error - Empty token\n",
      "||C(27,5) - C(|| yacc:Syntax error - Empty token\n",
      "all answers= 15 well-formed answers= 13\n"
     ]
    }
   ],
   "source": [
    "attempts={}\n",
    "j=0;\n",
    "for user in users:\n",
    "    answers=tries[tries['user_id']==user]['answer_string']\n",
    "    attempts[user]=extract_attempt_trajectory(answers,HG)\n",
    "    l1=len(answers)\n",
    "    l2=len(attempts[user])\n",
    "    if l2<l1:\n",
    "        print 'all answers=',len(answers),'well-formed answers=',len(attempts[user])\n",
    "    j+=1; \n",
    "    if j>40: break"
   ]
  },
  {
   "cell_type": "code",
   "execution_count": 12,
   "metadata": {
    "collapsed": false
   },
   "outputs": [
    {
     "name": "stdout",
     "output_type": "stream",
     "text": [
      "(8,)\n"
     ]
    },
    {
     "ename": "KeyError",
     "evalue": "u'jwk020'",
     "output_type": "error",
     "traceback": [
      "\u001b[0;31m---------------------------------------------------------------------------\u001b[0m\n\u001b[0;31mKeyError\u001b[0m                                  Traceback (most recent call last)",
      "\u001b[0;32m<ipython-input-12-592a471ca71d>\u001b[0m in \u001b[0;36m<module>\u001b[0;34m()\u001b[0m\n\u001b[1;32m      1\u001b[0m \u001b[0;32mfor\u001b[0m \u001b[0muser\u001b[0m \u001b[0;32min\u001b[0m \u001b[0musers\u001b[0m\u001b[0;34m:\u001b[0m\u001b[0;34m\u001b[0m\u001b[0m\n\u001b[1;32m      2\u001b[0m     \u001b[0;32mprint\u001b[0m \u001b[0mshape\u001b[0m\u001b[0;34m(\u001b[0m\u001b[0mtries\u001b[0m\u001b[0;34m[\u001b[0m\u001b[0mtries\u001b[0m\u001b[0;34m[\u001b[0m\u001b[0;34m'user_id'\u001b[0m\u001b[0;34m]\u001b[0m\u001b[0;34m==\u001b[0m\u001b[0muser\u001b[0m\u001b[0;34m]\u001b[0m\u001b[0;34m[\u001b[0m\u001b[0;34m'answer_string'\u001b[0m\u001b[0;34m]\u001b[0m\u001b[0;34m)\u001b[0m\u001b[0;34m\u001b[0m\u001b[0m\n\u001b[0;32m----> 3\u001b[0;31m     \u001b[0;32mprint\u001b[0m \u001b[0mattempts\u001b[0m\u001b[0;34m[\u001b[0m\u001b[0muser\u001b[0m\u001b[0;34m]\u001b[0m\u001b[0;34m\u001b[0m\u001b[0m\n\u001b[0m",
      "\u001b[0;31mKeyError\u001b[0m: u'jwk020'"
     ]
    }
   ],
   "source": [
    "for user in users:\n",
    "    print shape(tries[tries['user_id']==user]['answer_string'])\n",
    "    print attempts[user]"
   ]
  },
  {
   "cell_type": "code",
   "execution_count": 73,
   "metadata": {
    "collapsed": false
   },
   "outputs": [
    {
     "data": {
      "image/png": "[encoded data removed]",
      "text/plain": [
       "<matplotlib.figure.Figure at 0x10a6da350>"
      ]
     },
     "metadata": {},
     "output_type": "display_data"
    }
   ],
   "source": [
    "hist([len(tries) for tries in attempts],bins=20);"
   ]
  }
 ],
 "metadata": {
  "kernelspec": {
   "display_name": "Python 2",
   "language": "python",
   "name": "python2"
  },
  "language_info": {
   "codemirror_mode": {
    "name": "ipython",
    "version": 2
   },
   "file_extension": ".py",
   "mimetype": "text/x-python",
   "name": "python",
   "nbconvert_exporter": "python",
   "pygments_lexer": "ipython2",
   "version": "2.7.9"
  }
 },
 "nbformat": 4,
 "nbformat_minor": 0
}
